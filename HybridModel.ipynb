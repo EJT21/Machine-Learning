{
 "cells": [
  {
   "cell_type": "markdown",
   "id": "89dae55b-53d7-4e78-9c6c-e8e522ec25f7",
   "metadata": {},
   "source": [
    "### Hybrid Model"
   ]
  },
  {
   "cell_type": "code",
   "execution_count": 1,
   "id": "97180c55-8be3-4bfb-bad9-ad721d05e884",
   "metadata": {},
   "outputs": [],
   "source": [
    "import pandas as pd\n",
    "import numpy as np\n",
    "import matplotlib.pyplot as plt"
   ]
  },
  {
   "cell_type": "markdown",
   "id": "0b917c41-b87e-4ed0-91ef-2831fd97de14",
   "metadata": {},
   "source": [
    "### Identify the frauds using SOM"
   ]
  },
  {
   "cell_type": "code",
   "execution_count": 2,
   "id": "ce1b5a54-d189-4aae-84f5-9e4f63eadcf8",
   "metadata": {},
   "outputs": [],
   "source": [
    "df = pd.read_csv('Credit_Card_Applications.csv')"
   ]
  },
  {
   "cell_type": "code",
   "execution_count": 3,
   "id": "9c1a8a6d-8422-4f13-aa86-331fa5d67427",
   "metadata": {},
   "outputs": [],
   "source": [
    "X = df.iloc[:,:-1].values\n",
    "y = df.iloc[:,-1].values"
   ]
  },
  {
   "cell_type": "code",
   "execution_count": 4,
   "id": "74fb8a52-1343-4d3a-bb8a-2a52954d5423",
   "metadata": {},
   "outputs": [],
   "source": [
    "from sklearn.preprocessing import MinMaxScaler\n",
    "sc = MinMaxScaler(feature_range = (0,1))\n",
    "X = sc.fit_transform(X)"
   ]
  },
  {
   "cell_type": "code",
   "execution_count": 5,
   "id": "873e546c-16ba-4a39-9a9c-1cd6f03a612f",
   "metadata": {},
   "outputs": [],
   "source": [
    "from minisom import MiniSom\n",
    "som = MiniSom(x=10,y=10, input_len=15, sigma=1.0,learning_rate=0.5)\n",
    "som.random_weights_init(X)\n",
    "som.train_random(data=X,num_iteration=100)"
   ]
  },
  {
   "cell_type": "code",
   "execution_count": 6,
   "id": "ac8a998a-6327-4569-87cf-e618e41b649f",
   "metadata": {},
   "outputs": [],
   "source": [
    "from pylab import bone, pcolor, colorbar, plot, show"
   ]
  },
  {
   "cell_type": "code",
   "execution_count": 7,
   "id": "a522ba45-7e33-42b0-ba47-4fad81eb487a",
   "metadata": {},
   "outputs": [
    {
     "data": {
      "image/png": "[encoded data removed]",
      "text/plain": [
       "<Figure size 432x288 with 2 Axes>"
      ]
     },
     "metadata": {
      "needs_background": "light"
     },
     "output_type": "display_data"
    }
   ],
   "source": [
    "bone()\n",
    "pcolor(som.distance_map().T)\n",
    "colorbar()\n",
    "markers = ['o','s']\n",
    "colors = ['r','g']\n",
    "#i will be different indexs of each customer, x will be the row for each customer\n",
    "for i, x in enumerate (X):\n",
    "    w = som.winner(x) # For this winning node, place a marker and plot it\n",
    "    plot(w[0]+0.5, w[1]+0.5,markers[y[i]],markeredgecolor = colors[y[i]],markerfacecolor = 'None',markersize = 10,markeredgewidth = 2) \n",
    "show()\n",
    "# to put the parker at the center of the square of the winning node \n",
    "# red if customer did not get approved, green if they did"
   ]
  },
  {
   "cell_type": "code",
   "execution_count": 8,
   "id": "8d14a990-5b85-479e-8da1-54634c8eb386",
   "metadata": {},
   "outputs": [],
   "source": [
    "mappings = som.win_map(X)\n",
    "frauds = np.concatenate((mappings[(5,3)] , mappings[(6,4)]), axis=0) #0 is vertical, 1 is horizontal\n",
    "frauds = sc.inverse_transform(frauds)"
   ]
  },
  {
   "cell_type": "markdown",
   "id": "37f966e2-5691-47b2-9f1c-5366e308feeb",
   "metadata": {},
   "source": [
    "***We have the frauds, now we will go from unsupervised to supervised learning***"
   ]
  },
  {
   "cell_type": "markdown",
   "id": "c13b3886-35a7-447d-849c-8b3395e2f5bb",
   "metadata": {},
   "source": [
    "***We need to first come up with a dependent variable***"
   ]
  },
  {
   "cell_type": "code",
   "execution_count": 9,
   "id": "d618e6e2-7a69-4724-a1c1-f16d1011a8dc",
   "metadata": {},
   "outputs": [],
   "source": [
    "customers = df.iloc[:,1:].values"
   ]
  },
  {
   "cell_type": "code",
   "execution_count": 10,
   "id": "adba3e4a-d28c-47a3-bd20-89b53d21243c",
   "metadata": {},
   "outputs": [],
   "source": [
    "is_fraud = np.zeros(len(df))"
   ]
  },
  {
   "cell_type": "code",
   "execution_count": 12,
   "id": "487e8765-e2cf-471f-9876-f8e7655de19a",
   "metadata": {},
   "outputs": [],
   "source": [
    "for i in range(len(df)):\n",
    "    if df.iloc[i,0] in frauds:  #i corresponds to the customer id\n",
    "        is_fraud[i] = 1         #This will create the dependent variable"
   ]
  },
  {
   "cell_type": "markdown",
   "id": "053a481f-442f-4920-a2c8-279d527635e8",
   "metadata": {},
   "source": [
    "### ANN"
   ]
  },
  {
   "cell_type": "code",
   "execution_count": 14,
   "id": "b208c502-beb5-49d7-97bf-c4c49620252f",
   "metadata": {},
   "outputs": [],
   "source": [
    "import tensorflow as tf\n",
    "from sklearn.preprocessing import StandardScaler"
   ]
  },
  {
   "cell_type": "code",
   "execution_count": 16,
   "id": "bc7953cb-8e82-4ef2-b645-e42a0607969d",
   "metadata": {},
   "outputs": [],
   "source": [
    "sc = StandardScaler()\n",
    "customers = sc.fit_transform(customers)"
   ]
  },
  {
   "cell_type": "code",
   "execution_count": 53,
   "id": "88334ef5-1f22-49aa-bbd7-40ac5d574ef5",
   "metadata": {},
   "outputs": [
    {
     "name": "stdout",
     "output_type": "stream",
     "text": [
      "690/690 [==============================] - 1s 729us/step - loss: 0.4766 - accuracy: 0.8522\n"
     ]
    },
    {
     "data": {
      "text/plain": [
       "<keras.callbacks.History at 0x7fbf5d59d580>"
      ]
     },
     "execution_count": 53,
     "metadata": {},
     "output_type": "execute_result"
    }
   ],
   "source": [
    "ann = tf.keras.models.Sequential()\n",
    "ann.add(tf.keras.layers.Dense(units=2, activation='relu', input_dim=15))#input dim is columns\n",
    "ann.add(tf.keras.layers.Dense(units=1, activation='sigmoid'))\n",
    "ann.compile(optimizer = 'adam', loss = 'binary_crossentropy', metrics = [\"accuracy\"])\n",
    "ann.fit(customers, is_fraud, batch_size = 1, epochs = 1) #32 is a typical value"
   ]
  },
  {
   "cell_type": "markdown",
   "id": "74162bd6-e999-4ee5-8974-e266357a4619",
   "metadata": {},
   "source": [
    "***Lets predict the probability of frauds***"
   ]
  },
  {
   "cell_type": "code",
   "execution_count": 54,
   "id": "ce5bf0cc-9be2-479e-914c-edee15a0f6a8",
   "metadata": {},
   "outputs": [
    {
     "name": "stdout",
     "output_type": "stream",
     "text": [
      "22/22 [==============================] - 0s 710us/step\n"
     ]
    }
   ],
   "source": [
    "pred = ann.predict(customers)"
   ]
  },
  {
   "cell_type": "code",
   "execution_count": 55,
   "id": "f1e387ac-83fc-4c69-a7b2-ce44b4231402",
   "metadata": {},
   "outputs": [
    {
     "name": "stdout",
     "output_type": "stream",
     "text": [
      "[0.2077694]\n",
      "[0.38604984]\n",
      "[0.38604984]\n",
      "[0.59734154]\n",
      "[0.1385447]\n"
     ]
    }
   ],
   "source": [
    "for i in range(5):\n",
    "    print(pred[i])"
   ]
  },
  {
   "cell_type": "code",
   "execution_count": 56,
   "id": "0b721493-8d4b-444c-a4bb-dcdcbfc75191",
   "metadata": {},
   "outputs": [],
   "source": [
    "pred = np.concatenate((df.iloc[:,0:1].values,pred), axis=1)"
   ]
  },
  {
   "cell_type": "code",
   "execution_count": 57,
   "id": "45d78dd5-18f1-4edd-a2fe-5f5cfbc68c27",
   "metadata": {},
   "outputs": [
    {
     "data": {
      "text/plain": [
       "numpy.ndarray"
      ]
     },
     "execution_count": 57,
     "metadata": {},
     "output_type": "execute_result"
    }
   ],
   "source": [
    "type(pred)"
   ]
  },
  {
   "cell_type": "markdown",
   "id": "05ab3864-b4ca-4668-a5ea-ccc28ecda76f",
   "metadata": {},
   "source": [
    "***Lets now sort the customers and their probabilites to see which customers have the highets percentage of cheating***"
   ]
  },
  {
   "cell_type": "code",
   "execution_count": 58,
   "id": "bf02784b-5d29-44a4-8be6-e8a5c5194c00",
   "metadata": {},
   "outputs": [],
   "source": [
    "pred = pred[pred[:,1].argsort()]"
   ]
  },
  {
   "cell_type": "code",
   "execution_count": 59,
   "id": "7ef1b254-dcb6-404f-95ab-70302aedeb21",
   "metadata": {},
   "outputs": [],
   "source": [
    "pred = pd.DataFrame(pred)"
   ]
  },
  {
   "cell_type": "code",
   "execution_count": 60,
   "id": "e48dd149-8a79-43ac-a8c1-1dc8c5371c96",
   "metadata": {},
   "outputs": [
    {
     "data": {
      "text/html": [
       "<div>\n",
       "<style scoped>\n",
       "    .dataframe tbody tr th:only-of-type {\n",
       "        vertical-align: middle;\n",
       "    }\n",
       "\n",
       "    .dataframe tbody tr th {\n",
       "        vertical-align: top;\n",
       "    }\n",
       "\n",
       "    .dataframe thead th {\n",
       "        text-align: right;\n",
       "    }\n",
       "</style>\n",
       "<table border=\"1\" class=\"dataframe\">\n",
       "  <thead>\n",
       "    <tr style=\"text-align: right;\">\n",
       "      <th></th>\n",
       "      <th>0</th>\n",
       "      <th>1</th>\n",
       "    </tr>\n",
       "  </thead>\n",
       "  <tbody>\n",
       "    <tr>\n",
       "      <th>0</th>\n",
       "      <td>15585855.0</td>\n",
       "      <td>0.000174</td>\n",
       "    </tr>\n",
       "    <tr>\n",
       "      <th>1</th>\n",
       "      <td>15725028.0</td>\n",
       "      <td>0.000242</td>\n",
       "    </tr>\n",
       "    <tr>\n",
       "      <th>2</th>\n",
       "      <td>15566495.0</td>\n",
       "      <td>0.000487</td>\n",
       "    </tr>\n",
       "    <tr>\n",
       "      <th>3</th>\n",
       "      <td>15654859.0</td>\n",
       "      <td>0.000487</td>\n",
       "    </tr>\n",
       "    <tr>\n",
       "      <th>4</th>\n",
       "      <td>15723827.0</td>\n",
       "      <td>0.000873</td>\n",
       "    </tr>\n",
       "  </tbody>\n",
       "</table>\n",
       "</div>"
      ],
      "text/plain": [
       "            0         1\n",
       "0  15585855.0  0.000174\n",
       "1  15725028.0  0.000242\n",
       "2  15566495.0  0.000487\n",
       "3  15654859.0  0.000487\n",
       "4  15723827.0  0.000873"
      ]
     },
     "execution_count": 60,
     "metadata": {},
     "output_type": "execute_result"
    }
   ],
   "source": [
    "pred.head()"
   ]
  },
  {
   "cell_type": "code",
   "execution_count": 61,
   "id": "58e2f1f5-275b-4507-967c-bd52f96f2a4c",
   "metadata": {},
   "outputs": [],
   "source": [
    "pred.columns = [\"Customer_id\",\"Probability\"]"
   ]
  },
  {
   "cell_type": "code",
   "execution_count": 62,
   "id": "678b7428-6517-47ee-bf0b-0045ce21c7e9",
   "metadata": {},
   "outputs": [
    {
     "data": {
      "text/html": [
       "<div>\n",
       "<style scoped>\n",
       "    .dataframe tbody tr th:only-of-type {\n",
       "        vertical-align: middle;\n",
       "    }\n",
       "\n",
       "    .dataframe tbody tr th {\n",
       "        vertical-align: top;\n",
       "    }\n",
       "\n",
       "    .dataframe thead th {\n",
       "        text-align: right;\n",
       "    }\n",
       "</style>\n",
       "<table border=\"1\" class=\"dataframe\">\n",
       "  <thead>\n",
       "    <tr style=\"text-align: right;\">\n",
       "      <th></th>\n",
       "      <th>Customer_id</th>\n",
       "      <th>Probability</th>\n",
       "    </tr>\n",
       "  </thead>\n",
       "  <tbody>\n",
       "    <tr>\n",
       "      <th>0</th>\n",
       "      <td>15585855.0</td>\n",
       "      <td>0.000174</td>\n",
       "    </tr>\n",
       "    <tr>\n",
       "      <th>1</th>\n",
       "      <td>15725028.0</td>\n",
       "      <td>0.000242</td>\n",
       "    </tr>\n",
       "    <tr>\n",
       "      <th>2</th>\n",
       "      <td>15566495.0</td>\n",
       "      <td>0.000487</td>\n",
       "    </tr>\n",
       "    <tr>\n",
       "      <th>3</th>\n",
       "      <td>15654859.0</td>\n",
       "      <td>0.000487</td>\n",
       "    </tr>\n",
       "    <tr>\n",
       "      <th>4</th>\n",
       "      <td>15723827.0</td>\n",
       "      <td>0.000873</td>\n",
       "    </tr>\n",
       "  </tbody>\n",
       "</table>\n",
       "</div>"
      ],
      "text/plain": [
       "   Customer_id  Probability\n",
       "0   15585855.0     0.000174\n",
       "1   15725028.0     0.000242\n",
       "2   15566495.0     0.000487\n",
       "3   15654859.0     0.000487\n",
       "4   15723827.0     0.000873"
      ]
     },
     "execution_count": 62,
     "metadata": {},
     "output_type": "execute_result"
    }
   ],
   "source": [
    "pred.head()"
   ]
  },
  {
   "cell_type": "code",
   "execution_count": 63,
   "id": "29cb18c1-ad51-4671-95f0-198dba91966a",
   "metadata": {},
   "outputs": [
    {
     "data": {
      "text/html": [
       "<div>\n",
       "<style scoped>\n",
       "    .dataframe tbody tr th:only-of-type {\n",
       "        vertical-align: middle;\n",
       "    }\n",
       "\n",
       "    .dataframe tbody tr th {\n",
       "        vertical-align: top;\n",
       "    }\n",
       "\n",
       "    .dataframe thead th {\n",
       "        text-align: right;\n",
       "    }\n",
       "</style>\n",
       "<table border=\"1\" class=\"dataframe\">\n",
       "  <thead>\n",
       "    <tr style=\"text-align: right;\">\n",
       "      <th></th>\n",
       "      <th>Customer_id</th>\n",
       "      <th>Probability</th>\n",
       "    </tr>\n",
       "  </thead>\n",
       "  <tbody>\n",
       "    <tr>\n",
       "      <th>685</th>\n",
       "      <td>15772941.0</td>\n",
       "      <td>0.567289</td>\n",
       "    </tr>\n",
       "    <tr>\n",
       "      <th>686</th>\n",
       "      <td>15687688.0</td>\n",
       "      <td>0.597342</td>\n",
       "    </tr>\n",
       "    <tr>\n",
       "      <th>687</th>\n",
       "      <td>15572361.0</td>\n",
       "      <td>0.601644</td>\n",
       "    </tr>\n",
       "    <tr>\n",
       "      <th>688</th>\n",
       "      <td>15667588.0</td>\n",
       "      <td>0.615051</td>\n",
       "    </tr>\n",
       "    <tr>\n",
       "      <th>689</th>\n",
       "      <td>15621423.0</td>\n",
       "      <td>0.924355</td>\n",
       "    </tr>\n",
       "  </tbody>\n",
       "</table>\n",
       "</div>"
      ],
      "text/plain": [
       "     Customer_id  Probability\n",
       "685   15772941.0     0.567289\n",
       "686   15687688.0     0.597342\n",
       "687   15572361.0     0.601644\n",
       "688   15667588.0     0.615051\n",
       "689   15621423.0     0.924355"
      ]
     },
     "execution_count": 63,
     "metadata": {},
     "output_type": "execute_result"
    }
   ],
   "source": [
    "pred.tail()"
   ]
  },
  {
   "cell_type": "markdown",
   "id": "0fed9a8f-8715-41f6-aaab-4aad577909f0",
   "metadata": {},
   "source": [
    "***Looking at the tail of the dataset, we can see the customers with the highest probability of cheating, this would be reported sp further investigation could undergo***"
   ]
  },
  {
   "cell_type": "code",
   "execution_count": null,
   "id": "e045ae20-deba-4568-a2ac-20e7afd1c2ab",
   "metadata": {},
   "outputs": [],
   "source": []
  }
 ],
 "metadata": {
  "kernelspec": {
   "display_name": "Python 3",
   "language": "python",
   "name": "python3"
  },
  "language_info": {
   "codemirror_mode": {
    "name": "ipython",
    "version": 3
   },
   "file_extension": ".py",
   "mimetype": "text/x-python",
   "name": "python",
   "nbconvert_exporter": "python",
   "pygments_lexer": "ipython3",
   "version": "3.8.8"
  }
 },
 "nbformat": 4,
 "nbformat_minor": 5
}
