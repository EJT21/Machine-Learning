{
 "cells": [
  {
   "cell_type": "markdown",
   "id": "d68fb4ce-1ac5-435b-971e-01b326a44a60",
   "metadata": {},
   "source": [
    "## SpaceShip Kaggle"
   ]
  },
  {
   "cell_type": "code",
   "execution_count": 726,
   "id": "ec822acf-08aa-4be4-8259-c22ec912d4af",
   "metadata": {},
   "outputs": [],
   "source": [
    "import numpy as np\n",
    "import pandas as pd"
   ]
  },
  {
   "cell_type": "code",
   "execution_count": 727,
   "id": "864042da-9ce4-4b7f-ae88-9ef3d22be8d0",
   "metadata": {},
   "outputs": [],
   "source": [
    "df = pd.read_csv('train_SpaceShip.csv')"
   ]
  },
  {
   "cell_type": "code",
   "execution_count": 728,
   "id": "a87a5510-d72f-48bf-8315-7633bddcd4ed",
   "metadata": {},
   "outputs": [
    {
     "data": {
      "text/html": [
       "<div>\n",
       "<style scoped>\n",
       "    .dataframe tbody tr th:only-of-type {\n",
       "        vertical-align: middle;\n",
       "    }\n",
       "\n",
       "    .dataframe tbody tr th {\n",
       "        vertical-align: top;\n",
       "    }\n",
       "\n",
       "    .dataframe thead th {\n",
       "        text-align: right;\n",
       "    }\n",
       "</style>\n",
       "<table border=\"1\" class=\"dataframe\">\n",
       "  <thead>\n",
       "    <tr style=\"text-align: right;\">\n",
       "      <th></th>\n",
       "      <th>PassengerId</th>\n",
       "      <th>HomePlanet</th>\n",
       "      <th>CryoSleep</th>\n",
       "      <th>Cabin</th>\n",
       "      <th>Destination</th>\n",
       "      <th>Age</th>\n",
       "      <th>VIP</th>\n",
       "      <th>RoomService</th>\n",
       "      <th>FoodCourt</th>\n",
       "      <th>ShoppingMall</th>\n",
       "      <th>Spa</th>\n",
       "      <th>VRDeck</th>\n",
       "      <th>Name</th>\n",
       "      <th>Transported</th>\n",
       "    </tr>\n",
       "  </thead>\n",
       "  <tbody>\n",
       "    <tr>\n",
       "      <th>0</th>\n",
       "      <td>0001_01</td>\n",
       "      <td>Europa</td>\n",
       "      <td>False</td>\n",
       "      <td>B/0/P</td>\n",
       "      <td>TRAPPIST-1e</td>\n",
       "      <td>39.0</td>\n",
       "      <td>False</td>\n",
       "      <td>0.0</td>\n",
       "      <td>0.0</td>\n",
       "      <td>0.0</td>\n",
       "      <td>0.0</td>\n",
       "      <td>0.0</td>\n",
       "      <td>Maham Ofracculy</td>\n",
       "      <td>False</td>\n",
       "    </tr>\n",
       "    <tr>\n",
       "      <th>1</th>\n",
       "      <td>0002_01</td>\n",
       "      <td>Earth</td>\n",
       "      <td>False</td>\n",
       "      <td>F/0/S</td>\n",
       "      <td>TRAPPIST-1e</td>\n",
       "      <td>24.0</td>\n",
       "      <td>False</td>\n",
       "      <td>109.0</td>\n",
       "      <td>9.0</td>\n",
       "      <td>25.0</td>\n",
       "      <td>549.0</td>\n",
       "      <td>44.0</td>\n",
       "      <td>Juanna Vines</td>\n",
       "      <td>True</td>\n",
       "    </tr>\n",
       "    <tr>\n",
       "      <th>2</th>\n",
       "      <td>0003_01</td>\n",
       "      <td>Europa</td>\n",
       "      <td>False</td>\n",
       "      <td>A/0/S</td>\n",
       "      <td>TRAPPIST-1e</td>\n",
       "      <td>58.0</td>\n",
       "      <td>True</td>\n",
       "      <td>43.0</td>\n",
       "      <td>3576.0</td>\n",
       "      <td>0.0</td>\n",
       "      <td>6715.0</td>\n",
       "      <td>49.0</td>\n",
       "      <td>Altark Susent</td>\n",
       "      <td>False</td>\n",
       "    </tr>\n",
       "    <tr>\n",
       "      <th>3</th>\n",
       "      <td>0003_02</td>\n",
       "      <td>Europa</td>\n",
       "      <td>False</td>\n",
       "      <td>A/0/S</td>\n",
       "      <td>TRAPPIST-1e</td>\n",
       "      <td>33.0</td>\n",
       "      <td>False</td>\n",
       "      <td>0.0</td>\n",
       "      <td>1283.0</td>\n",
       "      <td>371.0</td>\n",
       "      <td>3329.0</td>\n",
       "      <td>193.0</td>\n",
       "      <td>Solam Susent</td>\n",
       "      <td>False</td>\n",
       "    </tr>\n",
       "    <tr>\n",
       "      <th>4</th>\n",
       "      <td>0004_01</td>\n",
       "      <td>Earth</td>\n",
       "      <td>False</td>\n",
       "      <td>F/1/S</td>\n",
       "      <td>TRAPPIST-1e</td>\n",
       "      <td>16.0</td>\n",
       "      <td>False</td>\n",
       "      <td>303.0</td>\n",
       "      <td>70.0</td>\n",
       "      <td>151.0</td>\n",
       "      <td>565.0</td>\n",
       "      <td>2.0</td>\n",
       "      <td>Willy Santantines</td>\n",
       "      <td>True</td>\n",
       "    </tr>\n",
       "  </tbody>\n",
       "</table>\n",
       "</div>"
      ],
      "text/plain": [
       "  PassengerId HomePlanet CryoSleep  Cabin  Destination   Age    VIP  \\\n",
       "0     0001_01     Europa     False  B/0/P  TRAPPIST-1e  39.0  False   \n",
       "1     0002_01      Earth     False  F/0/S  TRAPPIST-1e  24.0  False   \n",
       "2     0003_01     Europa     False  A/0/S  TRAPPIST-1e  58.0   True   \n",
       "3     0003_02     Europa     False  A/0/S  TRAPPIST-1e  33.0  False   \n",
       "4     0004_01      Earth     False  F/1/S  TRAPPIST-1e  16.0  False   \n",
       "\n",
       "   RoomService  FoodCourt  ShoppingMall     Spa  VRDeck               Name  \\\n",
       "0          0.0        0.0           0.0     0.0     0.0    Maham Ofracculy   \n",
       "1        109.0        9.0          25.0   549.0    44.0       Juanna Vines   \n",
       "2         43.0     3576.0           0.0  6715.0    49.0      Altark Susent   \n",
       "3          0.0     1283.0         371.0  3329.0   193.0       Solam Susent   \n",
       "4        303.0       70.0         151.0   565.0     2.0  Willy Santantines   \n",
       "\n",
       "   Transported  \n",
       "0        False  \n",
       "1         True  \n",
       "2        False  \n",
       "3        False  \n",
       "4         True  "
      ]
     },
     "execution_count": 728,
     "metadata": {},
     "output_type": "execute_result"
    }
   ],
   "source": [
    "df.head()"
   ]
  },
  {
   "cell_type": "code",
   "execution_count": 729,
   "id": "9e941285-7310-4b43-9092-0e6e45252ff8",
   "metadata": {},
   "outputs": [
    {
     "data": {
      "text/html": [
       "<div>\n",
       "<style scoped>\n",
       "    .dataframe tbody tr th:only-of-type {\n",
       "        vertical-align: middle;\n",
       "    }\n",
       "\n",
       "    .dataframe tbody tr th {\n",
       "        vertical-align: top;\n",
       "    }\n",
       "\n",
       "    .dataframe thead th {\n",
       "        text-align: right;\n",
       "    }\n",
       "</style>\n",
       "<table border=\"1\" class=\"dataframe\">\n",
       "  <thead>\n",
       "    <tr style=\"text-align: right;\">\n",
       "      <th></th>\n",
       "      <th>PassengerId</th>\n",
       "      <th>HomePlanet</th>\n",
       "      <th>CryoSleep</th>\n",
       "      <th>Cabin</th>\n",
       "      <th>Destination</th>\n",
       "      <th>Age</th>\n",
       "      <th>VIP</th>\n",
       "      <th>RoomService</th>\n",
       "      <th>FoodCourt</th>\n",
       "      <th>ShoppingMall</th>\n",
       "      <th>Spa</th>\n",
       "      <th>VRDeck</th>\n",
       "      <th>Name</th>\n",
       "      <th>Transported</th>\n",
       "    </tr>\n",
       "  </thead>\n",
       "  <tbody>\n",
       "    <tr>\n",
       "      <th>8688</th>\n",
       "      <td>9276_01</td>\n",
       "      <td>Europa</td>\n",
       "      <td>False</td>\n",
       "      <td>A/98/P</td>\n",
       "      <td>55 Cancri e</td>\n",
       "      <td>41.0</td>\n",
       "      <td>True</td>\n",
       "      <td>0.0</td>\n",
       "      <td>6819.0</td>\n",
       "      <td>0.0</td>\n",
       "      <td>1643.0</td>\n",
       "      <td>74.0</td>\n",
       "      <td>Gravior Noxnuther</td>\n",
       "      <td>False</td>\n",
       "    </tr>\n",
       "    <tr>\n",
       "      <th>8689</th>\n",
       "      <td>9278_01</td>\n",
       "      <td>Earth</td>\n",
       "      <td>True</td>\n",
       "      <td>G/1499/S</td>\n",
       "      <td>PSO J318.5-22</td>\n",
       "      <td>18.0</td>\n",
       "      <td>False</td>\n",
       "      <td>0.0</td>\n",
       "      <td>0.0</td>\n",
       "      <td>0.0</td>\n",
       "      <td>0.0</td>\n",
       "      <td>0.0</td>\n",
       "      <td>Kurta Mondalley</td>\n",
       "      <td>False</td>\n",
       "    </tr>\n",
       "    <tr>\n",
       "      <th>8690</th>\n",
       "      <td>9279_01</td>\n",
       "      <td>Earth</td>\n",
       "      <td>False</td>\n",
       "      <td>G/1500/S</td>\n",
       "      <td>TRAPPIST-1e</td>\n",
       "      <td>26.0</td>\n",
       "      <td>False</td>\n",
       "      <td>0.0</td>\n",
       "      <td>0.0</td>\n",
       "      <td>1872.0</td>\n",
       "      <td>1.0</td>\n",
       "      <td>0.0</td>\n",
       "      <td>Fayey Connon</td>\n",
       "      <td>True</td>\n",
       "    </tr>\n",
       "    <tr>\n",
       "      <th>8691</th>\n",
       "      <td>9280_01</td>\n",
       "      <td>Europa</td>\n",
       "      <td>False</td>\n",
       "      <td>E/608/S</td>\n",
       "      <td>55 Cancri e</td>\n",
       "      <td>32.0</td>\n",
       "      <td>False</td>\n",
       "      <td>0.0</td>\n",
       "      <td>1049.0</td>\n",
       "      <td>0.0</td>\n",
       "      <td>353.0</td>\n",
       "      <td>3235.0</td>\n",
       "      <td>Celeon Hontichre</td>\n",
       "      <td>False</td>\n",
       "    </tr>\n",
       "    <tr>\n",
       "      <th>8692</th>\n",
       "      <td>9280_02</td>\n",
       "      <td>Europa</td>\n",
       "      <td>False</td>\n",
       "      <td>E/608/S</td>\n",
       "      <td>TRAPPIST-1e</td>\n",
       "      <td>44.0</td>\n",
       "      <td>False</td>\n",
       "      <td>126.0</td>\n",
       "      <td>4688.0</td>\n",
       "      <td>0.0</td>\n",
       "      <td>0.0</td>\n",
       "      <td>12.0</td>\n",
       "      <td>Propsh Hontichre</td>\n",
       "      <td>True</td>\n",
       "    </tr>\n",
       "  </tbody>\n",
       "</table>\n",
       "</div>"
      ],
      "text/plain": [
       "     PassengerId HomePlanet CryoSleep     Cabin    Destination   Age    VIP  \\\n",
       "8688     9276_01     Europa     False    A/98/P    55 Cancri e  41.0   True   \n",
       "8689     9278_01      Earth      True  G/1499/S  PSO J318.5-22  18.0  False   \n",
       "8690     9279_01      Earth     False  G/1500/S    TRAPPIST-1e  26.0  False   \n",
       "8691     9280_01     Europa     False   E/608/S    55 Cancri e  32.0  False   \n",
       "8692     9280_02     Europa     False   E/608/S    TRAPPIST-1e  44.0  False   \n",
       "\n",
       "      RoomService  FoodCourt  ShoppingMall     Spa  VRDeck               Name  \\\n",
       "8688          0.0     6819.0           0.0  1643.0    74.0  Gravior Noxnuther   \n",
       "8689          0.0        0.0           0.0     0.0     0.0    Kurta Mondalley   \n",
       "8690          0.0        0.0        1872.0     1.0     0.0       Fayey Connon   \n",
       "8691          0.0     1049.0           0.0   353.0  3235.0   Celeon Hontichre   \n",
       "8692        126.0     4688.0           0.0     0.0    12.0   Propsh Hontichre   \n",
       "\n",
       "      Transported  \n",
       "8688        False  \n",
       "8689        False  \n",
       "8690         True  \n",
       "8691        False  \n",
       "8692         True  "
      ]
     },
     "execution_count": 729,
     "metadata": {},
     "output_type": "execute_result"
    }
   ],
   "source": [
    "df.tail()"
   ]
  },
  {
   "cell_type": "markdown",
   "id": "ca8e5857-b68e-493d-80bf-765d7e5dd870",
   "metadata": {},
   "source": [
    "### Data Visualizations"
   ]
  },
  {
   "cell_type": "code",
   "execution_count": 730,
   "id": "0e6941f9-3618-47aa-97a4-c7e691f2d572",
   "metadata": {},
   "outputs": [],
   "source": [
    "import matplotlib.pyplot as plt\n",
    "import seaborn as sb"
   ]
  },
  {
   "cell_type": "code",
   "execution_count": 731,
   "id": "a088058b-95b2-4594-9022-1a604da12d33",
   "metadata": {},
   "outputs": [
    {
     "data": {
      "image/png": "[encoded data removed]",
      "text/plain": [
       "<Figure size 432x288 with 1 Axes>"
      ]
     },
     "metadata": {
      "needs_background": "light"
     },
     "output_type": "display_data"
    }
   ],
   "source": [
    "ax = sb.countplot(data=df,x = 'Transported');\n",
    "plt.title(\"Number of people Transported\")\n",
    "plt.xlabel(\"Transported or Not\")\n",
    "plt.ylabel(\"Number of people\")\n",
    "plt.xticks(ticks=[0,1],labels=['Stayed','Transported'])\n",
    "plt.show()"
   ]
  },
  {
   "cell_type": "code",
   "execution_count": 732,
   "id": "1e0800f9-8461-4317-a3cc-e72105b7ac25",
   "metadata": {},
   "outputs": [
    {
     "data": {
      "image/png": "[encoded data removed]",
      "text/plain": [
       "<Figure size 432x288 with 1 Axes>"
      ]
     },
     "metadata": {
      "needs_background": "light"
     },
     "output_type": "display_data"
    }
   ],
   "source": [
    "ax = sb.countplot(data=df,x = 'HomePlanet',hue='Transported')\n",
    "plt.legend(title='Transported or Not', loc='upper right', labels=['No', 'Yes']);\n",
    "plt.title('Transported or Stayed')\n",
    "plt.show()"
   ]
  },
  {
   "cell_type": "code",
   "execution_count": 733,
   "id": "1652a8b7-9adc-4439-9b63-a6f256cb2304",
   "metadata": {},
   "outputs": [
    {
     "data": {
      "image/png": "[encoded data removed]",
      "text/plain": [
       "<Figure size 432x288 with 1 Axes>"
      ]
     },
     "metadata": {
      "needs_background": "light"
     },
     "output_type": "display_data"
    }
   ],
   "source": [
    "ax = sb.countplot(data=df,x = 'CryoSleep',hue='Transported')\n",
    "plt.legend(title='Transported or Not', loc='upper right', labels=['No', 'Yes']);\n",
    "plt.title('Transported or Stayed')\n",
    "plt.show()"
   ]
  },
  {
   "cell_type": "code",
   "execution_count": 734,
   "id": "e80f8abb-b2c6-4701-86fc-eafa7bedb76d",
   "metadata": {},
   "outputs": [
    {
     "data": {
      "image/png": "[encoded data removed]",
      "text/plain": [
       "<Figure size 432x288 with 1 Axes>"
      ]
     },
     "metadata": {
      "needs_background": "light"
     },
     "output_type": "display_data"
    }
   ],
   "source": [
    "ax = sb.countplot(data=df,x = 'Destination',hue='Transported')\n",
    "plt.legend(title='Transported or Not', loc='upper right', labels=['No', 'Yes']);\n",
    "plt.title('Transported or Stayed')\n",
    "plt.show()"
   ]
  },
  {
   "cell_type": "code",
   "execution_count": 735,
   "id": "2f38d795-bc4f-4578-847c-7186b66eec16",
   "metadata": {},
   "outputs": [
    {
     "data": {
      "image/png": "[encoded data removed]",
      "text/plain": [
       "<Figure size 432x288 with 1 Axes>"
      ]
     },
     "metadata": {
      "needs_background": "light"
     },
     "output_type": "display_data"
    }
   ],
   "source": [
    "ax = sb.countplot(data=df,x = 'VIP',hue='Transported')\n",
    "plt.legend(title='Transported or Not', loc='upper right', labels=['No', 'Yes']);\n",
    "plt.title('Transported or Stayed')\n",
    "plt.show()"
   ]
  },
  {
   "cell_type": "markdown",
   "id": "9d979e31-4217-4758-bcc4-79f73d46b693",
   "metadata": {},
   "source": [
    "### Splitting the data into training and test"
   ]
  },
  {
   "cell_type": "code",
   "execution_count": 736,
   "id": "dd96f919-693d-4a3b-8d2e-ab9b60f6689e",
   "metadata": {},
   "outputs": [],
   "source": [
    "X = df.iloc[:,1:12]\n",
    "y = df.iloc[:,13]"
   ]
  },
  {
   "cell_type": "code",
   "execution_count": 737,
   "id": "6339d051-f636-4565-a67b-67571785dd1c",
   "metadata": {},
   "outputs": [],
   "source": [
    "from sklearn.model_selection import train_test_split\n",
    "X_train, X_test, y_train, y_test = train_test_split(X, y, test_size=.2, random_state=1)"
   ]
  },
  {
   "cell_type": "markdown",
   "id": "adbd4fe2-2a4f-48c0-9c10-cf9e7146b9e5",
   "metadata": {},
   "source": [
    "### Cleaning and Imputing missing values"
   ]
  },
  {
   "cell_type": "code",
   "execution_count": 738,
   "id": "944722f4-1256-45e5-9e56-d7d333779146",
   "metadata": {},
   "outputs": [],
   "source": [
    "from sklearn.impute import SimpleImputer\n",
    "import warnings\n",
    "warnings.filterwarnings(\"ignore\")"
   ]
  },
  {
   "cell_type": "code",
   "execution_count": 739,
   "id": "220eadc2-9033-40a5-8de6-0a1fa9b9734c",
   "metadata": {},
   "outputs": [
    {
     "data": {
      "text/html": [
       "<div>\n",
       "<style scoped>\n",
       "    .dataframe tbody tr th:only-of-type {\n",
       "        vertical-align: middle;\n",
       "    }\n",
       "\n",
       "    .dataframe tbody tr th {\n",
       "        vertical-align: top;\n",
       "    }\n",
       "\n",
       "    .dataframe thead th {\n",
       "        text-align: right;\n",
       "    }\n",
       "</style>\n",
       "<table border=\"1\" class=\"dataframe\">\n",
       "  <thead>\n",
       "    <tr style=\"text-align: right;\">\n",
       "      <th></th>\n",
       "      <th>HomePlanet</th>\n",
       "      <th>CryoSleep</th>\n",
       "      <th>Cabin</th>\n",
       "      <th>Destination</th>\n",
       "      <th>Age</th>\n",
       "      <th>VIP</th>\n",
       "      <th>RoomService</th>\n",
       "      <th>FoodCourt</th>\n",
       "      <th>ShoppingMall</th>\n",
       "      <th>Spa</th>\n",
       "      <th>VRDeck</th>\n",
       "    </tr>\n",
       "  </thead>\n",
       "  <tbody>\n",
       "    <tr>\n",
       "      <th>5776</th>\n",
       "      <td>Mars</td>\n",
       "      <td>True</td>\n",
       "      <td>E/391/P</td>\n",
       "      <td>TRAPPIST-1e</td>\n",
       "      <td>39.0</td>\n",
       "      <td>False</td>\n",
       "      <td>0.0</td>\n",
       "      <td>0.0</td>\n",
       "      <td>0.0</td>\n",
       "      <td>0.0</td>\n",
       "      <td>0.0</td>\n",
       "    </tr>\n",
       "    <tr>\n",
       "      <th>220</th>\n",
       "      <td>Earth</td>\n",
       "      <td>False</td>\n",
       "      <td>F/50/P</td>\n",
       "      <td>TRAPPIST-1e</td>\n",
       "      <td>43.0</td>\n",
       "      <td>False</td>\n",
       "      <td>NaN</td>\n",
       "      <td>888.0</td>\n",
       "      <td>0.0</td>\n",
       "      <td>0.0</td>\n",
       "      <td>0.0</td>\n",
       "    </tr>\n",
       "    <tr>\n",
       "      <th>2398</th>\n",
       "      <td>Earth</td>\n",
       "      <td>False</td>\n",
       "      <td>G/412/S</td>\n",
       "      <td>TRAPPIST-1e</td>\n",
       "      <td>24.0</td>\n",
       "      <td>False</td>\n",
       "      <td>19.0</td>\n",
       "      <td>676.0</td>\n",
       "      <td>0.0</td>\n",
       "      <td>26.0</td>\n",
       "      <td>0.0</td>\n",
       "    </tr>\n",
       "    <tr>\n",
       "      <th>5876</th>\n",
       "      <td>Earth</td>\n",
       "      <td>False</td>\n",
       "      <td>F/1191/S</td>\n",
       "      <td>TRAPPIST-1e</td>\n",
       "      <td>16.0</td>\n",
       "      <td>False</td>\n",
       "      <td>0.0</td>\n",
       "      <td>0.0</td>\n",
       "      <td>60.0</td>\n",
       "      <td>0.0</td>\n",
       "      <td>1963.0</td>\n",
       "    </tr>\n",
       "    <tr>\n",
       "      <th>192</th>\n",
       "      <td>Earth</td>\n",
       "      <td>False</td>\n",
       "      <td>F/46/P</td>\n",
       "      <td>TRAPPIST-1e</td>\n",
       "      <td>21.0</td>\n",
       "      <td>False</td>\n",
       "      <td>367.0</td>\n",
       "      <td>281.0</td>\n",
       "      <td>0.0</td>\n",
       "      <td>0.0</td>\n",
       "      <td>146.0</td>\n",
       "    </tr>\n",
       "  </tbody>\n",
       "</table>\n",
       "</div>"
      ],
      "text/plain": [
       "     HomePlanet CryoSleep     Cabin  Destination   Age    VIP  RoomService  \\\n",
       "5776       Mars      True   E/391/P  TRAPPIST-1e  39.0  False          0.0   \n",
       "220       Earth     False    F/50/P  TRAPPIST-1e  43.0  False          NaN   \n",
       "2398      Earth     False   G/412/S  TRAPPIST-1e  24.0  False         19.0   \n",
       "5876      Earth     False  F/1191/S  TRAPPIST-1e  16.0  False          0.0   \n",
       "192       Earth     False    F/46/P  TRAPPIST-1e  21.0  False        367.0   \n",
       "\n",
       "      FoodCourt  ShoppingMall   Spa  VRDeck  \n",
       "5776        0.0           0.0   0.0     0.0  \n",
       "220       888.0           0.0   0.0     0.0  \n",
       "2398      676.0           0.0  26.0     0.0  \n",
       "5876        0.0          60.0   0.0  1963.0  \n",
       "192       281.0           0.0   0.0   146.0  "
      ]
     },
     "execution_count": 739,
     "metadata": {},
     "output_type": "execute_result"
    }
   ],
   "source": [
    "X_train.head()"
   ]
  },
  {
   "cell_type": "markdown",
   "id": "9eb4e9e5-9693-495c-b954-4939e91f3919",
   "metadata": {},
   "source": [
    "***Train Values***"
   ]
  },
  {
   "cell_type": "code",
   "execution_count": 740,
   "id": "ff19c88f-c819-40dd-9edc-e205b1ef9a1a",
   "metadata": {},
   "outputs": [],
   "source": [
    "imputer = SimpleImputer(missing_values=np.nan, strategy='most_frequent')\n",
    "imputer = imputer.fit(X_train[['HomePlanet','CryoSleep','Cabin','Destination','VIP']])\n",
    "X_train_imp1 = imputer.transform(X_train[['HomePlanet','CryoSleep','Cabin','Destination','VIP']])"
   ]
  },
  {
   "cell_type": "code",
   "execution_count": 741,
   "id": "b384b334-e9b2-49d9-8d7e-ac44f867aaf5",
   "metadata": {},
   "outputs": [],
   "source": [
    "imputer = SimpleImputer(missing_values=np.nan, strategy='median')\n",
    "imputer = imputer.fit(X_train[['Age','RoomService','FoodCourt','ShoppingMall','Spa','VRDeck']])\n",
    "X_train_imp2 = imputer.transform(X_train[['Age','RoomService','FoodCourt','ShoppingMall','Spa','VRDeck']])"
   ]
  },
  {
   "cell_type": "markdown",
   "id": "67633139-46f4-46a1-a935-f32cb0f49b15",
   "metadata": {},
   "source": [
    "***Test Values***"
   ]
  },
  {
   "cell_type": "code",
   "execution_count": 742,
   "id": "e2eca541-665f-457c-8e34-d6deead42902",
   "metadata": {},
   "outputs": [],
   "source": [
    "imputer = SimpleImputer(missing_values=np.nan, strategy='most_frequent')\n",
    "imputer = imputer.fit(X_test[['HomePlanet','CryoSleep','Cabin','Destination','VIP']])\n",
    "X_test_imp1 = imputer.transform(X_test[['HomePlanet','CryoSleep','Cabin','Destination','VIP']])"
   ]
  },
  {
   "cell_type": "code",
   "execution_count": 743,
   "id": "140106f4-aeb8-4fcb-aae4-8b012d633593",
   "metadata": {},
   "outputs": [],
   "source": [
    "imputer = SimpleImputer(missing_values=np.nan, strategy='median')\n",
    "imputer = imputer.fit(X_test[['Age','RoomService','FoodCourt','ShoppingMall','Spa','VRDeck']])\n",
    "X_test_imp2 = imputer.transform(X_test[['Age','RoomService','FoodCourt','ShoppingMall','Spa','VRDeck']])"
   ]
  },
  {
   "cell_type": "markdown",
   "id": "5987dba8-f3f9-4067-b28f-a83c3cffabe5",
   "metadata": {},
   "source": [
    "***Recombining back to data frames***"
   ]
  },
  {
   "cell_type": "code",
   "execution_count": 744,
   "id": "b63fdf77-6fee-4a2d-9d40-0ed732d27ec8",
   "metadata": {},
   "outputs": [],
   "source": [
    "X_train_imp1 = pd.DataFrame(X_train_imp1)\n",
    "X_train_imp1.columns = {'HomePlanet','CryoSleep','Cabin','Destination','VIP'}\n",
    "\n",
    "X_train_imp2 = pd.DataFrame(X_train_imp2)\n",
    "X_train_imp2.columns = {'Age','RoomService','FoodCourt','ShoppingMall','Spa','VRDeck'}\n",
    "\n",
    "X_test_imp1 = pd.DataFrame(X_test_imp1)\n",
    "X_test_imp1.columns = {'HomePlanet','CryoSleep','Cabin','Destination','VIP'}\n",
    "\n",
    "X_test_imp2 = pd.DataFrame(X_test_imp2)\n",
    "X_test_imp2.columns = {'Age','RoomService','FoodCourt','ShoppingMall','Spa','VRDeck'}"
   ]
  },
  {
   "cell_type": "code",
   "execution_count": 745,
   "id": "709e8e66-5b99-40e1-811c-6b82be6c220c",
   "metadata": {},
   "outputs": [
    {
     "data": {
      "text/html": [
       "<div>\n",
       "<style scoped>\n",
       "    .dataframe tbody tr th:only-of-type {\n",
       "        vertical-align: middle;\n",
       "    }\n",
       "\n",
       "    .dataframe tbody tr th {\n",
       "        vertical-align: top;\n",
       "    }\n",
       "\n",
       "    .dataframe thead th {\n",
       "        text-align: right;\n",
       "    }\n",
       "</style>\n",
       "<table border=\"1\" class=\"dataframe\">\n",
       "  <thead>\n",
       "    <tr style=\"text-align: right;\">\n",
       "      <th></th>\n",
       "      <th>HomePlanet</th>\n",
       "      <th>VIP</th>\n",
       "      <th>Cabin</th>\n",
       "      <th>CryoSleep</th>\n",
       "      <th>Destination</th>\n",
       "    </tr>\n",
       "  </thead>\n",
       "  <tbody>\n",
       "    <tr>\n",
       "      <th>0</th>\n",
       "      <td>Mars</td>\n",
       "      <td>True</td>\n",
       "      <td>E/391/P</td>\n",
       "      <td>TRAPPIST-1e</td>\n",
       "      <td>False</td>\n",
       "    </tr>\n",
       "    <tr>\n",
       "      <th>1</th>\n",
       "      <td>Earth</td>\n",
       "      <td>False</td>\n",
       "      <td>F/50/P</td>\n",
       "      <td>TRAPPIST-1e</td>\n",
       "      <td>False</td>\n",
       "    </tr>\n",
       "    <tr>\n",
       "      <th>2</th>\n",
       "      <td>Earth</td>\n",
       "      <td>False</td>\n",
       "      <td>G/412/S</td>\n",
       "      <td>TRAPPIST-1e</td>\n",
       "      <td>False</td>\n",
       "    </tr>\n",
       "    <tr>\n",
       "      <th>3</th>\n",
       "      <td>Earth</td>\n",
       "      <td>False</td>\n",
       "      <td>F/1191/S</td>\n",
       "      <td>TRAPPIST-1e</td>\n",
       "      <td>False</td>\n",
       "    </tr>\n",
       "    <tr>\n",
       "      <th>4</th>\n",
       "      <td>Earth</td>\n",
       "      <td>False</td>\n",
       "      <td>F/46/P</td>\n",
       "      <td>TRAPPIST-1e</td>\n",
       "      <td>False</td>\n",
       "    </tr>\n",
       "  </tbody>\n",
       "</table>\n",
       "</div>"
      ],
      "text/plain": [
       "  HomePlanet    VIP     Cabin    CryoSleep Destination\n",
       "0       Mars   True   E/391/P  TRAPPIST-1e       False\n",
       "1      Earth  False    F/50/P  TRAPPIST-1e       False\n",
       "2      Earth  False   G/412/S  TRAPPIST-1e       False\n",
       "3      Earth  False  F/1191/S  TRAPPIST-1e       False\n",
       "4      Earth  False    F/46/P  TRAPPIST-1e       False"
      ]
     },
     "execution_count": 745,
     "metadata": {},
     "output_type": "execute_result"
    }
   ],
   "source": [
    "X_train_imp1.head()"
   ]
  },
  {
   "cell_type": "code",
   "execution_count": 746,
   "id": "ae0471b8-ce1d-462e-97b8-636f0dce7235",
   "metadata": {},
   "outputs": [
    {
     "data": {
      "text/html": [
       "<div>\n",
       "<style scoped>\n",
       "    .dataframe tbody tr th:only-of-type {\n",
       "        vertical-align: middle;\n",
       "    }\n",
       "\n",
       "    .dataframe tbody tr th {\n",
       "        vertical-align: top;\n",
       "    }\n",
       "\n",
       "    .dataframe thead th {\n",
       "        text-align: right;\n",
       "    }\n",
       "</style>\n",
       "<table border=\"1\" class=\"dataframe\">\n",
       "  <thead>\n",
       "    <tr style=\"text-align: right;\">\n",
       "      <th></th>\n",
       "      <th>VRDeck</th>\n",
       "      <th>ShoppingMall</th>\n",
       "      <th>Age</th>\n",
       "      <th>Spa</th>\n",
       "      <th>FoodCourt</th>\n",
       "      <th>RoomService</th>\n",
       "    </tr>\n",
       "  </thead>\n",
       "  <tbody>\n",
       "    <tr>\n",
       "      <th>0</th>\n",
       "      <td>39.0</td>\n",
       "      <td>0.0</td>\n",
       "      <td>0.0</td>\n",
       "      <td>0.0</td>\n",
       "      <td>0.0</td>\n",
       "      <td>0.0</td>\n",
       "    </tr>\n",
       "    <tr>\n",
       "      <th>1</th>\n",
       "      <td>43.0</td>\n",
       "      <td>0.0</td>\n",
       "      <td>888.0</td>\n",
       "      <td>0.0</td>\n",
       "      <td>0.0</td>\n",
       "      <td>0.0</td>\n",
       "    </tr>\n",
       "    <tr>\n",
       "      <th>2</th>\n",
       "      <td>24.0</td>\n",
       "      <td>19.0</td>\n",
       "      <td>676.0</td>\n",
       "      <td>0.0</td>\n",
       "      <td>26.0</td>\n",
       "      <td>0.0</td>\n",
       "    </tr>\n",
       "    <tr>\n",
       "      <th>3</th>\n",
       "      <td>16.0</td>\n",
       "      <td>0.0</td>\n",
       "      <td>0.0</td>\n",
       "      <td>60.0</td>\n",
       "      <td>0.0</td>\n",
       "      <td>1963.0</td>\n",
       "    </tr>\n",
       "    <tr>\n",
       "      <th>4</th>\n",
       "      <td>21.0</td>\n",
       "      <td>367.0</td>\n",
       "      <td>281.0</td>\n",
       "      <td>0.0</td>\n",
       "      <td>0.0</td>\n",
       "      <td>146.0</td>\n",
       "    </tr>\n",
       "  </tbody>\n",
       "</table>\n",
       "</div>"
      ],
      "text/plain": [
       "   VRDeck  ShoppingMall    Age   Spa  FoodCourt  RoomService\n",
       "0    39.0           0.0    0.0   0.0        0.0          0.0\n",
       "1    43.0           0.0  888.0   0.0        0.0          0.0\n",
       "2    24.0          19.0  676.0   0.0       26.0          0.0\n",
       "3    16.0           0.0    0.0  60.0        0.0       1963.0\n",
       "4    21.0         367.0  281.0   0.0        0.0        146.0"
      ]
     },
     "execution_count": 746,
     "metadata": {},
     "output_type": "execute_result"
    }
   ],
   "source": [
    "X_train_imp2.head()"
   ]
  },
  {
   "cell_type": "code",
   "execution_count": 747,
   "id": "a6b03f75-97f5-4019-87db-afa1bf6fa19c",
   "metadata": {},
   "outputs": [
    {
     "data": {
      "text/plain": [
       "(6954, 6)"
      ]
     },
     "execution_count": 747,
     "metadata": {},
     "output_type": "execute_result"
    }
   ],
   "source": [
    "X_train_imp2.shape"
   ]
  },
  {
   "cell_type": "code",
   "execution_count": 748,
   "id": "2530ccc0-fdeb-4bea-8cfb-c34f3710dea9",
   "metadata": {},
   "outputs": [
    {
     "data": {
      "text/plain": [
       "(6954, 5)"
      ]
     },
     "execution_count": 748,
     "metadata": {},
     "output_type": "execute_result"
    }
   ],
   "source": [
    "X_train_imp1.shape"
   ]
  },
  {
   "cell_type": "code",
   "execution_count": 749,
   "id": "6875a26e-d8c6-4518-bf0b-4a3d8917cf6d",
   "metadata": {},
   "outputs": [],
   "source": [
    "X_train = pd.concat([X_train_imp1,X_train_imp2],axis=1)"
   ]
  },
  {
   "cell_type": "code",
   "execution_count": 750,
   "id": "5d83b9bd-45d8-4edb-afd3-02235b3d5188",
   "metadata": {},
   "outputs": [],
   "source": [
    "X_test = pd.concat([X_test_imp1,X_test_imp2],axis=1)"
   ]
  },
  {
   "cell_type": "code",
   "execution_count": 751,
   "id": "15db93ee-fe26-4543-9778-3ba24c4ebf0e",
   "metadata": {},
   "outputs": [
    {
     "data": {
      "text/html": [
       "<div>\n",
       "<style scoped>\n",
       "    .dataframe tbody tr th:only-of-type {\n",
       "        vertical-align: middle;\n",
       "    }\n",
       "\n",
       "    .dataframe tbody tr th {\n",
       "        vertical-align: top;\n",
       "    }\n",
       "\n",
       "    .dataframe thead th {\n",
       "        text-align: right;\n",
       "    }\n",
       "</style>\n",
       "<table border=\"1\" class=\"dataframe\">\n",
       "  <thead>\n",
       "    <tr style=\"text-align: right;\">\n",
       "      <th></th>\n",
       "      <th>HomePlanet</th>\n",
       "      <th>VIP</th>\n",
       "      <th>Cabin</th>\n",
       "      <th>CryoSleep</th>\n",
       "      <th>Destination</th>\n",
       "      <th>VRDeck</th>\n",
       "      <th>ShoppingMall</th>\n",
       "      <th>Age</th>\n",
       "      <th>Spa</th>\n",
       "      <th>FoodCourt</th>\n",
       "      <th>RoomService</th>\n",
       "    </tr>\n",
       "  </thead>\n",
       "  <tbody>\n",
       "    <tr>\n",
       "      <th>0</th>\n",
       "      <td>Mars</td>\n",
       "      <td>True</td>\n",
       "      <td>E/391/P</td>\n",
       "      <td>TRAPPIST-1e</td>\n",
       "      <td>False</td>\n",
       "      <td>39.0</td>\n",
       "      <td>0.0</td>\n",
       "      <td>0.0</td>\n",
       "      <td>0.0</td>\n",
       "      <td>0.0</td>\n",
       "      <td>0.0</td>\n",
       "    </tr>\n",
       "    <tr>\n",
       "      <th>1</th>\n",
       "      <td>Earth</td>\n",
       "      <td>False</td>\n",
       "      <td>F/50/P</td>\n",
       "      <td>TRAPPIST-1e</td>\n",
       "      <td>False</td>\n",
       "      <td>43.0</td>\n",
       "      <td>0.0</td>\n",
       "      <td>888.0</td>\n",
       "      <td>0.0</td>\n",
       "      <td>0.0</td>\n",
       "      <td>0.0</td>\n",
       "    </tr>\n",
       "    <tr>\n",
       "      <th>2</th>\n",
       "      <td>Earth</td>\n",
       "      <td>False</td>\n",
       "      <td>G/412/S</td>\n",
       "      <td>TRAPPIST-1e</td>\n",
       "      <td>False</td>\n",
       "      <td>24.0</td>\n",
       "      <td>19.0</td>\n",
       "      <td>676.0</td>\n",
       "      <td>0.0</td>\n",
       "      <td>26.0</td>\n",
       "      <td>0.0</td>\n",
       "    </tr>\n",
       "    <tr>\n",
       "      <th>3</th>\n",
       "      <td>Earth</td>\n",
       "      <td>False</td>\n",
       "      <td>F/1191/S</td>\n",
       "      <td>TRAPPIST-1e</td>\n",
       "      <td>False</td>\n",
       "      <td>16.0</td>\n",
       "      <td>0.0</td>\n",
       "      <td>0.0</td>\n",
       "      <td>60.0</td>\n",
       "      <td>0.0</td>\n",
       "      <td>1963.0</td>\n",
       "    </tr>\n",
       "    <tr>\n",
       "      <th>4</th>\n",
       "      <td>Earth</td>\n",
       "      <td>False</td>\n",
       "      <td>F/46/P</td>\n",
       "      <td>TRAPPIST-1e</td>\n",
       "      <td>False</td>\n",
       "      <td>21.0</td>\n",
       "      <td>367.0</td>\n",
       "      <td>281.0</td>\n",
       "      <td>0.0</td>\n",
       "      <td>0.0</td>\n",
       "      <td>146.0</td>\n",
       "    </tr>\n",
       "  </tbody>\n",
       "</table>\n",
       "</div>"
      ],
      "text/plain": [
       "  HomePlanet    VIP     Cabin    CryoSleep Destination  VRDeck  ShoppingMall  \\\n",
       "0       Mars   True   E/391/P  TRAPPIST-1e       False    39.0           0.0   \n",
       "1      Earth  False    F/50/P  TRAPPIST-1e       False    43.0           0.0   \n",
       "2      Earth  False   G/412/S  TRAPPIST-1e       False    24.0          19.0   \n",
       "3      Earth  False  F/1191/S  TRAPPIST-1e       False    16.0           0.0   \n",
       "4      Earth  False    F/46/P  TRAPPIST-1e       False    21.0         367.0   \n",
       "\n",
       "     Age   Spa  FoodCourt  RoomService  \n",
       "0    0.0   0.0        0.0          0.0  \n",
       "1  888.0   0.0        0.0          0.0  \n",
       "2  676.0   0.0       26.0          0.0  \n",
       "3    0.0  60.0        0.0       1963.0  \n",
       "4  281.0   0.0        0.0        146.0  "
      ]
     },
     "execution_count": 751,
     "metadata": {},
     "output_type": "execute_result"
    }
   ],
   "source": [
    "X_train.head()"
   ]
  },
  {
   "cell_type": "markdown",
   "id": "d3792343-26cd-4de8-9187-1acab0c6030a",
   "metadata": {},
   "source": [
    "### Encoding the values"
   ]
  },
  {
   "cell_type": "code",
   "execution_count": 752,
   "id": "9773980d-8dbc-4a68-9f00-75cf881521a6",
   "metadata": {},
   "outputs": [],
   "source": [
    "from sklearn.preprocessing import OrdinalEncoder"
   ]
  },
  {
   "cell_type": "markdown",
   "id": "c5eda019-3016-408e-a69b-bcdf2ba67147",
   "metadata": {},
   "source": [
    "***Train Values***"
   ]
  },
  {
   "cell_type": "code",
   "execution_count": 753,
   "id": "3ae55279-9144-4965-8e04-df3aeb30f96a",
   "metadata": {},
   "outputs": [],
   "source": [
    "ordinal_encoder = OrdinalEncoder()\n",
    "ordinal_encoder.fit(X_train)\n",
    "X_train = ordinal_encoder.transform(X_train)"
   ]
  },
  {
   "cell_type": "code",
   "execution_count": 754,
   "id": "c9a66f76-b066-4866-80d5-582130b3becd",
   "metadata": {},
   "outputs": [
    {
     "data": {
      "text/html": [
       "<div>\n",
       "<style scoped>\n",
       "    .dataframe tbody tr th:only-of-type {\n",
       "        vertical-align: middle;\n",
       "    }\n",
       "\n",
       "    .dataframe tbody tr th {\n",
       "        vertical-align: top;\n",
       "    }\n",
       "\n",
       "    .dataframe thead th {\n",
       "        text-align: right;\n",
       "    }\n",
       "</style>\n",
       "<table border=\"1\" class=\"dataframe\">\n",
       "  <thead>\n",
       "    <tr style=\"text-align: right;\">\n",
       "      <th></th>\n",
       "      <th>0</th>\n",
       "      <th>1</th>\n",
       "      <th>2</th>\n",
       "      <th>3</th>\n",
       "      <th>4</th>\n",
       "      <th>5</th>\n",
       "      <th>6</th>\n",
       "      <th>7</th>\n",
       "      <th>8</th>\n",
       "      <th>9</th>\n",
       "      <th>10</th>\n",
       "    </tr>\n",
       "  </thead>\n",
       "  <tbody>\n",
       "    <tr>\n",
       "      <th>0</th>\n",
       "      <td>2.0</td>\n",
       "      <td>1.0</td>\n",
       "      <td>1561.0</td>\n",
       "      <td>2.0</td>\n",
       "      <td>0.0</td>\n",
       "      <td>39.0</td>\n",
       "      <td>0.0</td>\n",
       "      <td>0.0</td>\n",
       "      <td>0.0</td>\n",
       "      <td>0.0</td>\n",
       "      <td>0.0</td>\n",
       "    </tr>\n",
       "    <tr>\n",
       "      <th>1</th>\n",
       "      <td>0.0</td>\n",
       "      <td>0.0</td>\n",
       "      <td>3203.0</td>\n",
       "      <td>2.0</td>\n",
       "      <td>0.0</td>\n",
       "      <td>43.0</td>\n",
       "      <td>0.0</td>\n",
       "      <td>616.0</td>\n",
       "      <td>0.0</td>\n",
       "      <td>0.0</td>\n",
       "      <td>0.0</td>\n",
       "    </tr>\n",
       "    <tr>\n",
       "      <th>2</th>\n",
       "      <td>0.0</td>\n",
       "      <td>0.0</td>\n",
       "      <td>4710.0</td>\n",
       "      <td>2.0</td>\n",
       "      <td>0.0</td>\n",
       "      <td>24.0</td>\n",
       "      <td>19.0</td>\n",
       "      <td>480.0</td>\n",
       "      <td>0.0</td>\n",
       "      <td>26.0</td>\n",
       "      <td>0.0</td>\n",
       "    </tr>\n",
       "    <tr>\n",
       "      <th>3</th>\n",
       "      <td>0.0</td>\n",
       "      <td>0.0</td>\n",
       "      <td>2068.0</td>\n",
       "      <td>2.0</td>\n",
       "      <td>0.0</td>\n",
       "      <td>16.0</td>\n",
       "      <td>0.0</td>\n",
       "      <td>0.0</td>\n",
       "      <td>60.0</td>\n",
       "      <td>0.0</td>\n",
       "      <td>873.0</td>\n",
       "    </tr>\n",
       "    <tr>\n",
       "      <th>4</th>\n",
       "      <td>0.0</td>\n",
       "      <td>0.0</td>\n",
       "      <td>3156.0</td>\n",
       "      <td>2.0</td>\n",
       "      <td>0.0</td>\n",
       "      <td>21.0</td>\n",
       "      <td>301.0</td>\n",
       "      <td>247.0</td>\n",
       "      <td>0.0</td>\n",
       "      <td>0.0</td>\n",
       "      <td>140.0</td>\n",
       "    </tr>\n",
       "  </tbody>\n",
       "</table>\n",
       "</div>"
      ],
      "text/plain": [
       "    0    1       2    3    4     5      6      7     8     9      10\n",
       "0  2.0  1.0  1561.0  2.0  0.0  39.0    0.0    0.0   0.0   0.0    0.0\n",
       "1  0.0  0.0  3203.0  2.0  0.0  43.0    0.0  616.0   0.0   0.0    0.0\n",
       "2  0.0  0.0  4710.0  2.0  0.0  24.0   19.0  480.0   0.0  26.0    0.0\n",
       "3  0.0  0.0  2068.0  2.0  0.0  16.0    0.0    0.0  60.0   0.0  873.0\n",
       "4  0.0  0.0  3156.0  2.0  0.0  21.0  301.0  247.0   0.0   0.0  140.0"
      ]
     },
     "execution_count": 754,
     "metadata": {},
     "output_type": "execute_result"
    }
   ],
   "source": [
    "X_train = pd.DataFrame(X_train)\n",
    "X_train.head()"
   ]
  },
  {
   "cell_type": "markdown",
   "id": "3e3ab841-89cf-477d-af45-5d39e8855a3c",
   "metadata": {},
   "source": [
    "***Test Values***"
   ]
  },
  {
   "cell_type": "code",
   "execution_count": 755,
   "id": "a3411b3f-32c4-4f5d-ba98-bbce54432936",
   "metadata": {},
   "outputs": [],
   "source": [
    "ordinal_encoder = OrdinalEncoder()\n",
    "ordinal_encoder.fit(X_test)\n",
    "X_test = ordinal_encoder.transform(X_test)"
   ]
  },
  {
   "cell_type": "code",
   "execution_count": 756,
   "id": "2320e6d5-8503-4ab0-9099-d05035985ff6",
   "metadata": {},
   "outputs": [
    {
     "data": {
      "text/html": [
       "<div>\n",
       "<style scoped>\n",
       "    .dataframe tbody tr th:only-of-type {\n",
       "        vertical-align: middle;\n",
       "    }\n",
       "\n",
       "    .dataframe tbody tr th {\n",
       "        vertical-align: top;\n",
       "    }\n",
       "\n",
       "    .dataframe thead th {\n",
       "        text-align: right;\n",
       "    }\n",
       "</style>\n",
       "<table border=\"1\" class=\"dataframe\">\n",
       "  <thead>\n",
       "    <tr style=\"text-align: right;\">\n",
       "      <th></th>\n",
       "      <th>0</th>\n",
       "      <th>1</th>\n",
       "      <th>2</th>\n",
       "      <th>3</th>\n",
       "      <th>4</th>\n",
       "      <th>5</th>\n",
       "      <th>6</th>\n",
       "      <th>7</th>\n",
       "      <th>8</th>\n",
       "      <th>9</th>\n",
       "      <th>10</th>\n",
       "    </tr>\n",
       "  </thead>\n",
       "  <tbody>\n",
       "    <tr>\n",
       "      <th>0</th>\n",
       "      <td>1.0</td>\n",
       "      <td>0.0</td>\n",
       "      <td>5.0</td>\n",
       "      <td>0.0</td>\n",
       "      <td>0.0</td>\n",
       "      <td>32.0</td>\n",
       "      <td>45.0</td>\n",
       "      <td>406.0</td>\n",
       "      <td>0.0</td>\n",
       "      <td>21.0</td>\n",
       "      <td>5.0</td>\n",
       "    </tr>\n",
       "    <tr>\n",
       "      <th>1</th>\n",
       "      <td>0.0</td>\n",
       "      <td>1.0</td>\n",
       "      <td>1333.0</td>\n",
       "      <td>1.0</td>\n",
       "      <td>0.0</td>\n",
       "      <td>27.0</td>\n",
       "      <td>0.0</td>\n",
       "      <td>0.0</td>\n",
       "      <td>0.0</td>\n",
       "      <td>0.0</td>\n",
       "      <td>0.0</td>\n",
       "    </tr>\n",
       "    <tr>\n",
       "      <th>2</th>\n",
       "      <td>0.0</td>\n",
       "      <td>0.0</td>\n",
       "      <td>759.0</td>\n",
       "      <td>1.0</td>\n",
       "      <td>0.0</td>\n",
       "      <td>24.0</td>\n",
       "      <td>64.0</td>\n",
       "      <td>218.0</td>\n",
       "      <td>1.0</td>\n",
       "      <td>0.0</td>\n",
       "      <td>0.0</td>\n",
       "    </tr>\n",
       "    <tr>\n",
       "      <th>3</th>\n",
       "      <td>0.0</td>\n",
       "      <td>1.0</td>\n",
       "      <td>1194.0</td>\n",
       "      <td>2.0</td>\n",
       "      <td>0.0</td>\n",
       "      <td>38.0</td>\n",
       "      <td>0.0</td>\n",
       "      <td>0.0</td>\n",
       "      <td>0.0</td>\n",
       "      <td>0.0</td>\n",
       "      <td>0.0</td>\n",
       "    </tr>\n",
       "    <tr>\n",
       "      <th>4</th>\n",
       "      <td>2.0</td>\n",
       "      <td>0.0</td>\n",
       "      <td>1051.0</td>\n",
       "      <td>1.0</td>\n",
       "      <td>0.0</td>\n",
       "      <td>32.0</td>\n",
       "      <td>109.0</td>\n",
       "      <td>0.0</td>\n",
       "      <td>182.0</td>\n",
       "      <td>18.0</td>\n",
       "      <td>0.0</td>\n",
       "    </tr>\n",
       "  </tbody>\n",
       "</table>\n",
       "</div>"
      ],
      "text/plain": [
       "    0    1       2    3    4     5      6      7      8     9    10\n",
       "0  1.0  0.0     5.0  0.0  0.0  32.0   45.0  406.0    0.0  21.0  5.0\n",
       "1  0.0  1.0  1333.0  1.0  0.0  27.0    0.0    0.0    0.0   0.0  0.0\n",
       "2  0.0  0.0   759.0  1.0  0.0  24.0   64.0  218.0    1.0   0.0  0.0\n",
       "3  0.0  1.0  1194.0  2.0  0.0  38.0    0.0    0.0    0.0   0.0  0.0\n",
       "4  2.0  0.0  1051.0  1.0  0.0  32.0  109.0    0.0  182.0  18.0  0.0"
      ]
     },
     "execution_count": 756,
     "metadata": {},
     "output_type": "execute_result"
    }
   ],
   "source": [
    "X_test = pd.DataFrame(X_test)\n",
    "X_test.head()"
   ]
  },
  {
   "cell_type": "code",
   "execution_count": 757,
   "id": "5e5cb5ff-15b3-46bb-9d72-9bc21c7798f3",
   "metadata": {},
   "outputs": [],
   "source": [
    "from sklearn.preprocessing import LabelEncoder"
   ]
  },
  {
   "cell_type": "markdown",
   "id": "28692d05-8eec-46f1-9cfd-c6d803b117ab",
   "metadata": {},
   "source": [
    "***Train Values***"
   ]
  },
  {
   "cell_type": "code",
   "execution_count": 758,
   "id": "bd1f6353-dd42-4b7c-8f38-f429a154ff6a",
   "metadata": {},
   "outputs": [],
   "source": [
    "label_encoder = LabelEncoder()\n",
    "label_encoder.fit(y_train)\n",
    "y_train = label_encoder.transform(y_train)"
   ]
  },
  {
   "cell_type": "markdown",
   "id": "5b3c4ed6-b134-4702-879e-c325c9c8cd55",
   "metadata": {},
   "source": [
    "***Test Values***"
   ]
  },
  {
   "cell_type": "code",
   "execution_count": 759,
   "id": "6452bbb0-db36-4286-856c-3a3e7dcac113",
   "metadata": {},
   "outputs": [],
   "source": [
    "label_encoder = LabelEncoder()\n",
    "label_encoder.fit(y_test)\n",
    "y_test = label_encoder.transform(y_test)"
   ]
  },
  {
   "cell_type": "markdown",
   "id": "55c74ecd-4d3b-4a11-a306-ae2f3a29d7ff",
   "metadata": {},
   "source": [
    "### Scaling the data Values"
   ]
  },
  {
   "cell_type": "code",
   "execution_count": 760,
   "id": "245c6fa4-52c4-4281-9fc3-430d8ec193ba",
   "metadata": {},
   "outputs": [],
   "source": [
    "from sklearn.preprocessing import StandardScaler"
   ]
  },
  {
   "cell_type": "markdown",
   "id": "dd56ea0d-b6d4-4f60-93f1-8d44e0934e44",
   "metadata": {},
   "source": [
    "***Train Values***"
   ]
  },
  {
   "cell_type": "code",
   "execution_count": 761,
   "id": "42e604d5-ebbe-4fd0-b107-076f93856900",
   "metadata": {},
   "outputs": [],
   "source": [
    "sc = StandardScaler()\n",
    "X_train = sc.fit_transform(X_train)"
   ]
  },
  {
   "cell_type": "code",
   "execution_count": 762,
   "id": "3b5c7914-e48d-4079-a46d-81c6415258c8",
   "metadata": {},
   "outputs": [],
   "source": [
    "X_train = pd.DataFrame(X_train)\n",
    "X_train.columns = {'HomePlanet','VIP','Cabin','CryoSleep','Destination','VRDeck','ShoppingMall','Age','Spa','FoodCourt','RoomService'}"
   ]
  },
  {
   "cell_type": "markdown",
   "id": "e3e3f2f6-7e30-40fe-9c17-99ffb64ee49d",
   "metadata": {},
   "source": [
    "***Test Values***"
   ]
  },
  {
   "cell_type": "code",
   "execution_count": 763,
   "id": "ba35ed0d-1394-4070-9a1a-d7e0eacb0cb2",
   "metadata": {},
   "outputs": [],
   "source": [
    "sc = StandardScaler()\n",
    "X_test = sc.fit_transform(X_test)"
   ]
  },
  {
   "cell_type": "code",
   "execution_count": 764,
   "id": "98620c68-238e-405f-bd22-fa6f71b1d000",
   "metadata": {},
   "outputs": [],
   "source": [
    "X_test = pd.DataFrame(X_test)\n",
    "X_test.columns = {'HomePlanet','VIP','Cabin','CryoSleep','Destination','VRDeck','ShoppingMall','Age','Spa','FoodCourt','RoomService'}"
   ]
  },
  {
   "cell_type": "markdown",
   "id": "f0a0d73c-343b-4ec9-bb1c-65b7252d2968",
   "metadata": {},
   "source": [
    "### Here we can determine if we want to cut out any columns and keep retesting our models"
   ]
  },
  {
   "cell_type": "code",
   "execution_count": 765,
   "id": "c8d2e75d-2816-44bd-99c7-24393e77d6a7",
   "metadata": {},
   "outputs": [],
   "source": [
    "###"
   ]
  },
  {
   "cell_type": "markdown",
   "id": "98c1a812-f9be-4730-91bb-ea30bdec328a",
   "metadata": {},
   "source": [
    "### Finding the best model for this data using gridsearchcv"
   ]
  },
  {
   "cell_type": "code",
   "execution_count": 766,
   "id": "216da498-bfe7-4657-96ce-c7ff7574202c",
   "metadata": {},
   "outputs": [],
   "source": [
    "from sklearn.linear_model import LogisticRegression\n",
    "from sklearn.neighbors import KNeighborsClassifier\n",
    "from sklearn.naive_bayes import GaussianNB\n",
    "from sklearn.svm import SVC\n",
    "from sklearn.svm import LinearSVC\n",
    "from sklearn.ensemble import RandomForestClassifier\n",
    "from sklearn.tree import DecisionTreeRegressor\n",
    "from sklearn.model_selection import KFold\n",
    "from sklearn import model_selection"
   ]
  },
  {
   "cell_type": "code",
   "execution_count": 767,
   "id": "7cecf8d4-677c-4717-a751-dbfbca33e9de",
   "metadata": {},
   "outputs": [],
   "source": [
    "models = []\n",
    "models.append(('LR', LogisticRegression()))\n",
    "models.append(('KNN', KNeighborsClassifier()))\n",
    "models.append(('NB', GaussianNB()))\n",
    "models.append(('SVC', SVC()))\n",
    "models.append(('LSVC', LinearSVC()))\n",
    "models.append(('RFC', RandomForestClassifier()))\n",
    "models.append(('DTR', DecisionTreeRegressor()))"
   ]
  },
  {
   "cell_type": "code",
   "execution_count": 768,
   "id": "ca1fdd93-a465-40eb-a4a3-272d1aaffdbd",
   "metadata": {},
   "outputs": [
    {
     "name": "stdout",
     "output_type": "stream",
     "text": [
      "LR: 0.781278 (0.010852)\n",
      "KNN: 0.769057 (0.016847)\n",
      "NB: 0.763162 (0.016295)\n",
      "SVC: 0.788036 (0.014325)\n",
      "LSVC: 0.781710 (0.012393)\n",
      "RFC: 0.783577 (0.015690)\n",
      "DTR: nan (nan)\n"
     ]
    }
   ],
   "source": [
    "seed = 7\n",
    "results = []\n",
    "names = []\n",
    "X = X_train\n",
    "Y = y_train\n",
    "for name, model in models:\n",
    "    kfold = model_selection.KFold(n_splits=10, shuffle=True,random_state=42)\n",
    "    cv_results = model_selection.cross_val_score(model, X, Y, cv=kfold, scoring='accuracy')\n",
    "    results.append(cv_results)\n",
    "    names.append(name)\n",
    "    msg = \"%s: %f (%f)\" % (\n",
    "        name, cv_results.mean(), cv_results.std())\n",
    "    print(msg)"
   ]
  },
  {
   "cell_type": "markdown",
   "id": "6c3af946-f0c9-4177-ba21-0665b83ff005",
   "metadata": {},
   "source": [
    "### Hypertuning here if needed"
   ]
  },
  {
   "cell_type": "code",
   "execution_count": 769,
   "id": "e2d18629-53a8-40de-941e-5ac54076cea2",
   "metadata": {},
   "outputs": [],
   "source": [
    "###"
   ]
  },
  {
   "cell_type": "markdown",
   "id": "6d133d11-cd9f-4d02-90d4-62b90f975568",
   "metadata": {},
   "source": [
    "### Lets Try this with Artifical Neural Networks"
   ]
  },
  {
   "cell_type": "code",
   "execution_count": 770,
   "id": "04645663-7c0d-42ba-bc7a-b40505fde683",
   "metadata": {},
   "outputs": [],
   "source": [
    "import tensorflow as tf"
   ]
  },
  {
   "cell_type": "code",
   "execution_count": 771,
   "id": "41f4bcb6-5540-43d1-915d-21c616ad1875",
   "metadata": {},
   "outputs": [],
   "source": [
    "ann = tf.keras.models.Sequential()"
   ]
  },
  {
   "cell_type": "code",
   "execution_count": 772,
   "id": "ade94ae3-d9a4-40bf-85cf-33e165fb8587",
   "metadata": {},
   "outputs": [],
   "source": [
    "ann.add(tf.keras.layers.Dense(units=12, activation='relu'))"
   ]
  },
  {
   "cell_type": "code",
   "execution_count": 773,
   "id": "7ed2fd5b-68b4-4769-8049-233ed24b13e5",
   "metadata": {},
   "outputs": [],
   "source": [
    "ann.add(tf.keras.layers.Dense(units=6, activation='relu'))"
   ]
  },
  {
   "cell_type": "code",
   "execution_count": 774,
   "id": "0e6fc7c1-0ff1-4bf2-9557-13186d143009",
   "metadata": {},
   "outputs": [],
   "source": [
    "ann.add(tf.keras.layers.Dense(units=1, activation='sigmoid'))"
   ]
  },
  {
   "cell_type": "code",
   "execution_count": 775,
   "id": "8ee31fa4-9165-4f8e-898d-f294e66153ab",
   "metadata": {},
   "outputs": [],
   "source": [
    "ann.compile(optimizer = 'adam', loss = 'binary_crossentropy', metrics = [\"accuracy\"])"
   ]
  },
  {
   "cell_type": "code",
   "execution_count": 776,
   "id": "a2812fc7-ecdd-4f91-a26e-9883a9c6575c",
   "metadata": {},
   "outputs": [
    {
     "name": "stdout",
     "output_type": "stream",
     "text": [
      "Epoch 1/100\n",
      "218/218 [==============================] - 1s 962us/step - loss: 0.6128 - accuracy: 0.6729\n",
      "Epoch 2/100\n",
      "218/218 [==============================] - 0s 880us/step - loss: 0.4966 - accuracy: 0.7597\n",
      "Epoch 3/100\n",
      "218/218 [==============================] - 0s 913us/step - loss: 0.4674 - accuracy: 0.7744\n",
      "Epoch 4/100\n",
      "218/218 [==============================] - 0s 910us/step - loss: 0.4597 - accuracy: 0.7800\n",
      "Epoch 5/100\n",
      "218/218 [==============================] - 0s 862us/step - loss: 0.4560 - accuracy: 0.7829\n",
      "Epoch 6/100\n",
      "218/218 [==============================] - 0s 848us/step - loss: 0.4539 - accuracy: 0.7860\n",
      "Epoch 7/100\n",
      "218/218 [==============================] - 0s 841us/step - loss: 0.4519 - accuracy: 0.7863\n",
      "Epoch 8/100\n",
      "218/218 [==============================] - 0s 846us/step - loss: 0.4506 - accuracy: 0.7882\n",
      "Epoch 9/100\n",
      "218/218 [==============================] - 0s 841us/step - loss: 0.4492 - accuracy: 0.7879\n",
      "Epoch 10/100\n",
      "218/218 [==============================] - 0s 875us/step - loss: 0.4477 - accuracy: 0.7893\n",
      "Epoch 11/100\n",
      "218/218 [==============================] - 0s 843us/step - loss: 0.4466 - accuracy: 0.7889\n",
      "Epoch 12/100\n",
      "218/218 [==============================] - 0s 839us/step - loss: 0.4452 - accuracy: 0.7899\n",
      "Epoch 13/100\n",
      "218/218 [==============================] - 0s 841us/step - loss: 0.4445 - accuracy: 0.7899\n",
      "Epoch 14/100\n",
      "218/218 [==============================] - 0s 860us/step - loss: 0.4430 - accuracy: 0.7892\n",
      "Epoch 15/100\n",
      "218/218 [==============================] - 0s 837us/step - loss: 0.4427 - accuracy: 0.7936\n",
      "Epoch 16/100\n",
      "218/218 [==============================] - 0s 841us/step - loss: 0.4413 - accuracy: 0.7918\n",
      "Epoch 17/100\n",
      "218/218 [==============================] - 0s 920us/step - loss: 0.4403 - accuracy: 0.7916\n",
      "Epoch 18/100\n",
      "218/218 [==============================] - 0s 833us/step - loss: 0.4390 - accuracy: 0.7902\n",
      "Epoch 19/100\n",
      "218/218 [==============================] - 0s 852us/step - loss: 0.4389 - accuracy: 0.7916\n",
      "Epoch 20/100\n",
      "218/218 [==============================] - 0s 842us/step - loss: 0.4377 - accuracy: 0.7913\n",
      "Epoch 21/100\n",
      "218/218 [==============================] - 0s 834us/step - loss: 0.4366 - accuracy: 0.7942\n",
      "Epoch 22/100\n",
      "218/218 [==============================] - 0s 830us/step - loss: 0.4360 - accuracy: 0.7929\n",
      "Epoch 23/100\n",
      "218/218 [==============================] - 0s 837us/step - loss: 0.4346 - accuracy: 0.7949\n",
      "Epoch 24/100\n",
      "218/218 [==============================] - 0s 834us/step - loss: 0.4345 - accuracy: 0.7941\n",
      "Epoch 25/100\n",
      "218/218 [==============================] - 0s 834us/step - loss: 0.4330 - accuracy: 0.7949\n",
      "Epoch 26/100\n",
      "218/218 [==============================] - 0s 849us/step - loss: 0.4325 - accuracy: 0.7955\n",
      "Epoch 27/100\n",
      "218/218 [==============================] - 0s 847us/step - loss: 0.4317 - accuracy: 0.7955\n",
      "Epoch 28/100\n",
      "218/218 [==============================] - 0s 840us/step - loss: 0.4312 - accuracy: 0.7978\n",
      "Epoch 29/100\n",
      "218/218 [==============================] - 0s 841us/step - loss: 0.4305 - accuracy: 0.7944\n",
      "Epoch 30/100\n",
      "218/218 [==============================] - 0s 840us/step - loss: 0.4303 - accuracy: 0.7947\n",
      "Epoch 31/100\n",
      "218/218 [==============================] - 0s 842us/step - loss: 0.4301 - accuracy: 0.7964\n",
      "Epoch 32/100\n",
      "218/218 [==============================] - 0s 838us/step - loss: 0.4297 - accuracy: 0.7970\n",
      "Epoch 33/100\n",
      "218/218 [==============================] - 0s 838us/step - loss: 0.4291 - accuracy: 0.7949\n",
      "Epoch 34/100\n",
      "218/218 [==============================] - 0s 838us/step - loss: 0.4285 - accuracy: 0.7978\n",
      "Epoch 35/100\n",
      "218/218 [==============================] - 0s 850us/step - loss: 0.4278 - accuracy: 0.7959\n",
      "Epoch 36/100\n",
      "218/218 [==============================] - 0s 851us/step - loss: 0.4276 - accuracy: 0.7961\n",
      "Epoch 37/100\n",
      "218/218 [==============================] - 0s 855us/step - loss: 0.4274 - accuracy: 0.7967\n",
      "Epoch 38/100\n",
      "218/218 [==============================] - 0s 836us/step - loss: 0.4265 - accuracy: 0.7984\n",
      "Epoch 39/100\n",
      "218/218 [==============================] - 0s 842us/step - loss: 0.4265 - accuracy: 0.7964\n",
      "Epoch 40/100\n",
      "218/218 [==============================] - 0s 843us/step - loss: 0.4257 - accuracy: 0.7964\n",
      "Epoch 41/100\n",
      "218/218 [==============================] - 0s 852us/step - loss: 0.4263 - accuracy: 0.7970\n",
      "Epoch 42/100\n",
      "218/218 [==============================] - 0s 851us/step - loss: 0.4254 - accuracy: 0.7957\n",
      "Epoch 43/100\n",
      "218/218 [==============================] - 0s 1ms/step - loss: 0.4252 - accuracy: 0.7961\n",
      "Epoch 44/100\n",
      "218/218 [==============================] - 0s 847us/step - loss: 0.4253 - accuracy: 0.7977\n",
      "Epoch 45/100\n",
      "218/218 [==============================] - 0s 846us/step - loss: 0.4243 - accuracy: 0.7990\n",
      "Epoch 46/100\n",
      "218/218 [==============================] - 0s 849us/step - loss: 0.4243 - accuracy: 0.7990\n",
      "Epoch 47/100\n",
      "218/218 [==============================] - 0s 838us/step - loss: 0.4244 - accuracy: 0.7970\n",
      "Epoch 48/100\n",
      "218/218 [==============================] - 0s 839us/step - loss: 0.4242 - accuracy: 0.7962\n",
      "Epoch 49/100\n",
      "218/218 [==============================] - 0s 843us/step - loss: 0.4236 - accuracy: 0.7975\n",
      "Epoch 50/100\n",
      "218/218 [==============================] - 0s 838us/step - loss: 0.4235 - accuracy: 0.7980\n",
      "Epoch 51/100\n",
      "218/218 [==============================] - 0s 859us/step - loss: 0.4233 - accuracy: 0.7962\n",
      "Epoch 52/100\n",
      "218/218 [==============================] - 0s 847us/step - loss: 0.4231 - accuracy: 0.7964\n",
      "Epoch 53/100\n",
      "218/218 [==============================] - 0s 842us/step - loss: 0.4230 - accuracy: 0.7984\n",
      "Epoch 54/100\n",
      "218/218 [==============================] - 0s 853us/step - loss: 0.4228 - accuracy: 0.7967\n",
      "Epoch 55/100\n",
      "218/218 [==============================] - 0s 850us/step - loss: 0.4219 - accuracy: 0.7958\n",
      "Epoch 56/100\n",
      "218/218 [==============================] - 0s 851us/step - loss: 0.4226 - accuracy: 0.7984\n",
      "Epoch 57/100\n",
      "218/218 [==============================] - 0s 840us/step - loss: 0.4224 - accuracy: 0.7958\n",
      "Epoch 58/100\n",
      "218/218 [==============================] - 0s 840us/step - loss: 0.4219 - accuracy: 0.7965\n",
      "Epoch 59/100\n",
      "218/218 [==============================] - 0s 844us/step - loss: 0.4218 - accuracy: 0.7945\n",
      "Epoch 60/100\n",
      "218/218 [==============================] - 0s 844us/step - loss: 0.4214 - accuracy: 0.7967\n",
      "Epoch 61/100\n",
      "218/218 [==============================] - 0s 943us/step - loss: 0.4213 - accuracy: 0.7971\n",
      "Epoch 62/100\n",
      "218/218 [==============================] - 0s 941us/step - loss: 0.4210 - accuracy: 0.7974\n",
      "Epoch 63/100\n",
      "218/218 [==============================] - 0s 1ms/step - loss: 0.4214 - accuracy: 0.7967\n",
      "Epoch 64/100\n",
      "218/218 [==============================] - 0s 995us/step - loss: 0.4206 - accuracy: 0.7972\n",
      "Epoch 65/100\n",
      "218/218 [==============================] - 0s 1ms/step - loss: 0.4210 - accuracy: 0.7990\n",
      "Epoch 66/100\n",
      "218/218 [==============================] - 0s 1ms/step - loss: 0.4202 - accuracy: 0.7971\n",
      "Epoch 67/100\n",
      "218/218 [==============================] - 0s 1ms/step - loss: 0.4205 - accuracy: 0.7980\n",
      "Epoch 68/100\n",
      "218/218 [==============================] - 0s 1ms/step - loss: 0.4201 - accuracy: 0.7974\n",
      "Epoch 69/100\n",
      "218/218 [==============================] - 0s 1ms/step - loss: 0.4199 - accuracy: 0.7987\n",
      "Epoch 70/100\n",
      "218/218 [==============================] - 0s 1ms/step - loss: 0.4195 - accuracy: 0.7981\n",
      "Epoch 71/100\n",
      "218/218 [==============================] - 0s 1ms/step - loss: 0.4198 - accuracy: 0.7981\n",
      "Epoch 72/100\n",
      "218/218 [==============================] - 0s 1ms/step - loss: 0.4198 - accuracy: 0.7975\n",
      "Epoch 73/100\n",
      "218/218 [==============================] - 0s 1ms/step - loss: 0.4194 - accuracy: 0.7978\n",
      "Epoch 74/100\n",
      "218/218 [==============================] - 0s 1ms/step - loss: 0.4195 - accuracy: 0.7980\n",
      "Epoch 75/100\n",
      "218/218 [==============================] - 0s 1ms/step - loss: 0.4191 - accuracy: 0.7971\n",
      "Epoch 76/100\n",
      "218/218 [==============================] - 0s 1ms/step - loss: 0.4189 - accuracy: 0.7993\n",
      "Epoch 77/100\n",
      "218/218 [==============================] - 0s 1ms/step - loss: 0.4191 - accuracy: 0.7980\n",
      "Epoch 78/100\n",
      "218/218 [==============================] - 0s 1ms/step - loss: 0.4184 - accuracy: 0.7981\n",
      "Epoch 79/100\n",
      "218/218 [==============================] - 0s 1ms/step - loss: 0.4184 - accuracy: 0.7984\n",
      "Epoch 80/100\n",
      "218/218 [==============================] - 0s 1ms/step - loss: 0.4180 - accuracy: 0.8000\n",
      "Epoch 81/100\n",
      "218/218 [==============================] - 0s 968us/step - loss: 0.4181 - accuracy: 0.7978\n",
      "Epoch 82/100\n",
      "218/218 [==============================] - 0s 853us/step - loss: 0.4181 - accuracy: 0.7954\n",
      "Epoch 83/100\n",
      "218/218 [==============================] - 0s 873us/step - loss: 0.4179 - accuracy: 0.7993\n",
      "Epoch 84/100\n",
      "218/218 [==============================] - 0s 1ms/step - loss: 0.4180 - accuracy: 0.7987\n",
      "Epoch 85/100\n",
      "218/218 [==============================] - 0s 863us/step - loss: 0.4176 - accuracy: 0.7974\n",
      "Epoch 86/100\n",
      "218/218 [==============================] - 0s 865us/step - loss: 0.4175 - accuracy: 0.7988\n",
      "Epoch 87/100\n",
      "218/218 [==============================] - 0s 841us/step - loss: 0.4175 - accuracy: 0.8004\n",
      "Epoch 88/100\n",
      "218/218 [==============================] - 0s 839us/step - loss: 0.4171 - accuracy: 0.7987\n",
      "Epoch 89/100\n",
      "218/218 [==============================] - 0s 835us/step - loss: 0.4168 - accuracy: 0.7961\n",
      "Epoch 90/100\n",
      "218/218 [==============================] - 0s 881us/step - loss: 0.4171 - accuracy: 0.7967\n",
      "Epoch 91/100\n",
      "218/218 [==============================] - 0s 881us/step - loss: 0.4168 - accuracy: 0.7977\n",
      "Epoch 92/100\n",
      "218/218 [==============================] - 0s 851us/step - loss: 0.4167 - accuracy: 0.7978\n",
      "Epoch 93/100\n",
      "218/218 [==============================] - 0s 848us/step - loss: 0.4172 - accuracy: 0.7998\n",
      "Epoch 94/100\n",
      "218/218 [==============================] - 0s 843us/step - loss: 0.4168 - accuracy: 0.7977\n",
      "Epoch 95/100\n",
      "218/218 [==============================] - 0s 836us/step - loss: 0.4167 - accuracy: 0.7988\n",
      "Epoch 96/100\n",
      "218/218 [==============================] - 0s 839us/step - loss: 0.4166 - accuracy: 0.7984\n",
      "Epoch 97/100\n",
      "218/218 [==============================] - 0s 846us/step - loss: 0.4170 - accuracy: 0.7970\n",
      "Epoch 98/100\n",
      "218/218 [==============================] - 0s 848us/step - loss: 0.4160 - accuracy: 0.7988\n",
      "Epoch 99/100\n",
      "218/218 [==============================] - 0s 905us/step - loss: 0.4166 - accuracy: 0.7998\n",
      "Epoch 100/100\n",
      "218/218 [==============================] - 0s 835us/step - loss: 0.4170 - accuracy: 0.7995\n"
     ]
    },
    {
     "data": {
      "text/plain": [
       "<keras.callbacks.History at 0x7fa7f6a60d90>"
      ]
     },
     "execution_count": 776,
     "metadata": {},
     "output_type": "execute_result"
    }
   ],
   "source": [
    "ann.fit(X_train, y_train, batch_size = 32, epochs = 100)"
   ]
  },
  {
   "cell_type": "markdown",
   "id": "7c1bb5f0-6956-4ab0-86cb-7f89634f5769",
   "metadata": {},
   "source": [
    "### We will use ANN since it had the highest accruacy"
   ]
  },
  {
   "cell_type": "code",
   "execution_count": 777,
   "id": "da0dbd79-f3b9-4398-8bfd-4984710cd441",
   "metadata": {},
   "outputs": [
    {
     "name": "stdout",
     "output_type": "stream",
     "text": [
      "55/55 [==============================] - 0s 691us/step\n",
      "              precision    recall  f1-score   support\n",
      "\n",
      "           0       0.81      0.76      0.78       843\n",
      "           1       0.78      0.83      0.80       896\n",
      "\n",
      "    accuracy                           0.79      1739\n",
      "   macro avg       0.79      0.79      0.79      1739\n",
      "weighted avg       0.79      0.79      0.79      1739\n",
      "\n"
     ]
    }
   ],
   "source": [
    "pred = ann.predict(X_test)\n",
    "pred = (pred > 0.5)\n",
    "from sklearn import metrics\n",
    "print(metrics.classification_report(y_test, pred))"
   ]
  },
  {
   "cell_type": "markdown",
   "id": "797d1537-3a9f-4a75-9872-19e71a5a5ae6",
   "metadata": {},
   "source": [
    "### We will try this with a pipeline"
   ]
  },
  {
   "cell_type": "code",
   "execution_count": 778,
   "id": "34b0d451-044e-4051-b390-b54194ca578e",
   "metadata": {},
   "outputs": [],
   "source": [
    "from sklearn.compose import ColumnTransformer\n",
    "from sklearn.pipeline import Pipeline\n",
    "from sklearn.impute import SimpleImputer\n",
    "from sklearn.preprocessing import StandardScaler, OneHotEncoder"
   ]
  },
  {
   "cell_type": "code",
   "execution_count": 779,
   "id": "47a32f05-c9e9-4869-ac06-21aa39cdc29a",
   "metadata": {},
   "outputs": [],
   "source": [
    "numeric_features = [\"Age\",\"RoomService\",\"FoodCourt\",\"ShoppingMall\",\"Spa\",\"VRDeck\"]\n",
    "numeric_transformer = Pipeline(\n",
    "    steps=[(\"imputer\", SimpleImputer(strategy=\"median\")),(\"encoder\", OrdinalEncoder(handle_unknown='ignore')) ,(\"scaler\", StandardScaler()),]\n",
    ")\n",
    "\n",
    "categorical_features = [\"HomePlanet\",\"CryoSleep\",\"Cabin\",\"Destination\",\"VIP\"]\n",
    "cat_transformer = Pipeline(\n",
    "    steps=[(\"imputer\", SimpleImputer(strategy=\"most_frequent\")),(\"encoder\", OrdinalEncoder(handle_unknown='ignore')) ,(\"scaler\", StandardScaler()),]\n",
    ")\n",
    "preprocessor = ColumnTransformer(\n",
    "    transformers=[\n",
    "        (\"num\", numeric_transformer, numeric_features),\n",
    "        (\"cat\", cat_transformer, categorical_features),\n",
    "    ]\n",
    ")\n",
    "clf = Pipeline(\n",
    "    steps=[(\"preprocessor\", preprocessor), (\"classifier\", SVC())]\n",
    ")"
   ]
  },
  {
   "cell_type": "code",
   "execution_count": 780,
   "id": "af97c03b-17c5-49fc-8e5c-34a84753cf71",
   "metadata": {},
   "outputs": [],
   "source": [
    "df = pd.read_csv('train_SpaceShip.csv')"
   ]
  },
  {
   "cell_type": "code",
   "execution_count": 781,
   "id": "95394dc9-d7b7-4000-ae04-ee21ce5928f4",
   "metadata": {},
   "outputs": [
    {
     "data": {
      "text/html": [
       "<div>\n",
       "<style scoped>\n",
       "    .dataframe tbody tr th:only-of-type {\n",
       "        vertical-align: middle;\n",
       "    }\n",
       "\n",
       "    .dataframe tbody tr th {\n",
       "        vertical-align: top;\n",
       "    }\n",
       "\n",
       "    .dataframe thead th {\n",
       "        text-align: right;\n",
       "    }\n",
       "</style>\n",
       "<table border=\"1\" class=\"dataframe\">\n",
       "  <thead>\n",
       "    <tr style=\"text-align: right;\">\n",
       "      <th></th>\n",
       "      <th>PassengerId</th>\n",
       "      <th>HomePlanet</th>\n",
       "      <th>CryoSleep</th>\n",
       "      <th>Cabin</th>\n",
       "      <th>Destination</th>\n",
       "      <th>Age</th>\n",
       "      <th>VIP</th>\n",
       "      <th>RoomService</th>\n",
       "      <th>FoodCourt</th>\n",
       "      <th>ShoppingMall</th>\n",
       "      <th>Spa</th>\n",
       "      <th>VRDeck</th>\n",
       "      <th>Name</th>\n",
       "      <th>Transported</th>\n",
       "    </tr>\n",
       "  </thead>\n",
       "  <tbody>\n",
       "    <tr>\n",
       "      <th>0</th>\n",
       "      <td>0001_01</td>\n",
       "      <td>Europa</td>\n",
       "      <td>False</td>\n",
       "      <td>B/0/P</td>\n",
       "      <td>TRAPPIST-1e</td>\n",
       "      <td>39.0</td>\n",
       "      <td>False</td>\n",
       "      <td>0.0</td>\n",
       "      <td>0.0</td>\n",
       "      <td>0.0</td>\n",
       "      <td>0.0</td>\n",
       "      <td>0.0</td>\n",
       "      <td>Maham Ofracculy</td>\n",
       "      <td>False</td>\n",
       "    </tr>\n",
       "    <tr>\n",
       "      <th>1</th>\n",
       "      <td>0002_01</td>\n",
       "      <td>Earth</td>\n",
       "      <td>False</td>\n",
       "      <td>F/0/S</td>\n",
       "      <td>TRAPPIST-1e</td>\n",
       "      <td>24.0</td>\n",
       "      <td>False</td>\n",
       "      <td>109.0</td>\n",
       "      <td>9.0</td>\n",
       "      <td>25.0</td>\n",
       "      <td>549.0</td>\n",
       "      <td>44.0</td>\n",
       "      <td>Juanna Vines</td>\n",
       "      <td>True</td>\n",
       "    </tr>\n",
       "    <tr>\n",
       "      <th>2</th>\n",
       "      <td>0003_01</td>\n",
       "      <td>Europa</td>\n",
       "      <td>False</td>\n",
       "      <td>A/0/S</td>\n",
       "      <td>TRAPPIST-1e</td>\n",
       "      <td>58.0</td>\n",
       "      <td>True</td>\n",
       "      <td>43.0</td>\n",
       "      <td>3576.0</td>\n",
       "      <td>0.0</td>\n",
       "      <td>6715.0</td>\n",
       "      <td>49.0</td>\n",
       "      <td>Altark Susent</td>\n",
       "      <td>False</td>\n",
       "    </tr>\n",
       "    <tr>\n",
       "      <th>3</th>\n",
       "      <td>0003_02</td>\n",
       "      <td>Europa</td>\n",
       "      <td>False</td>\n",
       "      <td>A/0/S</td>\n",
       "      <td>TRAPPIST-1e</td>\n",
       "      <td>33.0</td>\n",
       "      <td>False</td>\n",
       "      <td>0.0</td>\n",
       "      <td>1283.0</td>\n",
       "      <td>371.0</td>\n",
       "      <td>3329.0</td>\n",
       "      <td>193.0</td>\n",
       "      <td>Solam Susent</td>\n",
       "      <td>False</td>\n",
       "    </tr>\n",
       "    <tr>\n",
       "      <th>4</th>\n",
       "      <td>0004_01</td>\n",
       "      <td>Earth</td>\n",
       "      <td>False</td>\n",
       "      <td>F/1/S</td>\n",
       "      <td>TRAPPIST-1e</td>\n",
       "      <td>16.0</td>\n",
       "      <td>False</td>\n",
       "      <td>303.0</td>\n",
       "      <td>70.0</td>\n",
       "      <td>151.0</td>\n",
       "      <td>565.0</td>\n",
       "      <td>2.0</td>\n",
       "      <td>Willy Santantines</td>\n",
       "      <td>True</td>\n",
       "    </tr>\n",
       "  </tbody>\n",
       "</table>\n",
       "</div>"
      ],
      "text/plain": [
       "  PassengerId HomePlanet CryoSleep  Cabin  Destination   Age    VIP  \\\n",
       "0     0001_01     Europa     False  B/0/P  TRAPPIST-1e  39.0  False   \n",
       "1     0002_01      Earth     False  F/0/S  TRAPPIST-1e  24.0  False   \n",
       "2     0003_01     Europa     False  A/0/S  TRAPPIST-1e  58.0   True   \n",
       "3     0003_02     Europa     False  A/0/S  TRAPPIST-1e  33.0  False   \n",
       "4     0004_01      Earth     False  F/1/S  TRAPPIST-1e  16.0  False   \n",
       "\n",
       "   RoomService  FoodCourt  ShoppingMall     Spa  VRDeck               Name  \\\n",
       "0          0.0        0.0           0.0     0.0     0.0    Maham Ofracculy   \n",
       "1        109.0        9.0          25.0   549.0    44.0       Juanna Vines   \n",
       "2         43.0     3576.0           0.0  6715.0    49.0      Altark Susent   \n",
       "3          0.0     1283.0         371.0  3329.0   193.0       Solam Susent   \n",
       "4        303.0       70.0         151.0   565.0     2.0  Willy Santantines   \n",
       "\n",
       "   Transported  \n",
       "0        False  \n",
       "1         True  \n",
       "2        False  \n",
       "3        False  \n",
       "4         True  "
      ]
     },
     "execution_count": 781,
     "metadata": {},
     "output_type": "execute_result"
    }
   ],
   "source": [
    "df.head()"
   ]
  },
  {
   "cell_type": "code",
   "execution_count": 782,
   "id": "43611337-7307-4671-ab7b-e09ab52e11c5",
   "metadata": {},
   "outputs": [
    {
     "data": {
      "text/html": [
       "<div>\n",
       "<style scoped>\n",
       "    .dataframe tbody tr th:only-of-type {\n",
       "        vertical-align: middle;\n",
       "    }\n",
       "\n",
       "    .dataframe tbody tr th {\n",
       "        vertical-align: top;\n",
       "    }\n",
       "\n",
       "    .dataframe thead th {\n",
       "        text-align: right;\n",
       "    }\n",
       "</style>\n",
       "<table border=\"1\" class=\"dataframe\">\n",
       "  <thead>\n",
       "    <tr style=\"text-align: right;\">\n",
       "      <th></th>\n",
       "      <th>PassengerId</th>\n",
       "      <th>HomePlanet</th>\n",
       "      <th>CryoSleep</th>\n",
       "      <th>Cabin</th>\n",
       "      <th>Destination</th>\n",
       "      <th>Age</th>\n",
       "      <th>VIP</th>\n",
       "      <th>RoomService</th>\n",
       "      <th>FoodCourt</th>\n",
       "      <th>ShoppingMall</th>\n",
       "      <th>Spa</th>\n",
       "      <th>VRDeck</th>\n",
       "      <th>Name</th>\n",
       "      <th>Transported</th>\n",
       "    </tr>\n",
       "  </thead>\n",
       "  <tbody>\n",
       "    <tr>\n",
       "      <th>0</th>\n",
       "      <td>0001_01</td>\n",
       "      <td>Europa</td>\n",
       "      <td>False</td>\n",
       "      <td>B/0/P</td>\n",
       "      <td>TRAPPIST-1e</td>\n",
       "      <td>39.0</td>\n",
       "      <td>False</td>\n",
       "      <td>0.0</td>\n",
       "      <td>0.0</td>\n",
       "      <td>0.0</td>\n",
       "      <td>0.0</td>\n",
       "      <td>0.0</td>\n",
       "      <td>Maham Ofracculy</td>\n",
       "      <td>False</td>\n",
       "    </tr>\n",
       "    <tr>\n",
       "      <th>1</th>\n",
       "      <td>0002_01</td>\n",
       "      <td>Earth</td>\n",
       "      <td>False</td>\n",
       "      <td>F/0/S</td>\n",
       "      <td>TRAPPIST-1e</td>\n",
       "      <td>24.0</td>\n",
       "      <td>False</td>\n",
       "      <td>109.0</td>\n",
       "      <td>9.0</td>\n",
       "      <td>25.0</td>\n",
       "      <td>549.0</td>\n",
       "      <td>44.0</td>\n",
       "      <td>Juanna Vines</td>\n",
       "      <td>True</td>\n",
       "    </tr>\n",
       "    <tr>\n",
       "      <th>2</th>\n",
       "      <td>0003_01</td>\n",
       "      <td>Europa</td>\n",
       "      <td>False</td>\n",
       "      <td>A/0/S</td>\n",
       "      <td>TRAPPIST-1e</td>\n",
       "      <td>58.0</td>\n",
       "      <td>True</td>\n",
       "      <td>43.0</td>\n",
       "      <td>3576.0</td>\n",
       "      <td>0.0</td>\n",
       "      <td>6715.0</td>\n",
       "      <td>49.0</td>\n",
       "      <td>Altark Susent</td>\n",
       "      <td>False</td>\n",
       "    </tr>\n",
       "    <tr>\n",
       "      <th>3</th>\n",
       "      <td>0003_02</td>\n",
       "      <td>Europa</td>\n",
       "      <td>False</td>\n",
       "      <td>A/0/S</td>\n",
       "      <td>TRAPPIST-1e</td>\n",
       "      <td>33.0</td>\n",
       "      <td>False</td>\n",
       "      <td>0.0</td>\n",
       "      <td>1283.0</td>\n",
       "      <td>371.0</td>\n",
       "      <td>3329.0</td>\n",
       "      <td>193.0</td>\n",
       "      <td>Solam Susent</td>\n",
       "      <td>False</td>\n",
       "    </tr>\n",
       "    <tr>\n",
       "      <th>4</th>\n",
       "      <td>0004_01</td>\n",
       "      <td>Earth</td>\n",
       "      <td>False</td>\n",
       "      <td>F/1/S</td>\n",
       "      <td>TRAPPIST-1e</td>\n",
       "      <td>16.0</td>\n",
       "      <td>False</td>\n",
       "      <td>303.0</td>\n",
       "      <td>70.0</td>\n",
       "      <td>151.0</td>\n",
       "      <td>565.0</td>\n",
       "      <td>2.0</td>\n",
       "      <td>Willy Santantines</td>\n",
       "      <td>True</td>\n",
       "    </tr>\n",
       "  </tbody>\n",
       "</table>\n",
       "</div>"
      ],
      "text/plain": [
       "  PassengerId HomePlanet CryoSleep  Cabin  Destination   Age    VIP  \\\n",
       "0     0001_01     Europa     False  B/0/P  TRAPPIST-1e  39.0  False   \n",
       "1     0002_01      Earth     False  F/0/S  TRAPPIST-1e  24.0  False   \n",
       "2     0003_01     Europa     False  A/0/S  TRAPPIST-1e  58.0   True   \n",
       "3     0003_02     Europa     False  A/0/S  TRAPPIST-1e  33.0  False   \n",
       "4     0004_01      Earth     False  F/1/S  TRAPPIST-1e  16.0  False   \n",
       "\n",
       "   RoomService  FoodCourt  ShoppingMall     Spa  VRDeck               Name  \\\n",
       "0          0.0        0.0           0.0     0.0     0.0    Maham Ofracculy   \n",
       "1        109.0        9.0          25.0   549.0    44.0       Juanna Vines   \n",
       "2         43.0     3576.0           0.0  6715.0    49.0      Altark Susent   \n",
       "3          0.0     1283.0         371.0  3329.0   193.0       Solam Susent   \n",
       "4        303.0       70.0         151.0   565.0     2.0  Willy Santantines   \n",
       "\n",
       "   Transported  \n",
       "0        False  \n",
       "1         True  \n",
       "2        False  \n",
       "3        False  \n",
       "4         True  "
      ]
     },
     "execution_count": 782,
     "metadata": {},
     "output_type": "execute_result"
    }
   ],
   "source": [
    "df.head()"
   ]
  },
  {
   "cell_type": "code",
   "execution_count": 783,
   "id": "c95d514d-5279-49b6-92b9-2358b20e2536",
   "metadata": {},
   "outputs": [],
   "source": [
    "X = df.iloc[:,1:13]\n",
    "y = df.iloc[:,13]"
   ]
  },
  {
   "cell_type": "code",
   "execution_count": 784,
   "id": "ad721eff-cfab-4414-80a7-9ae8c2a5032f",
   "metadata": {},
   "outputs": [],
   "source": [
    "X_train, X_test, y_train, y_test = train_test_split(X, y, test_size=.2, random_state=104)"
   ]
  },
  {
   "cell_type": "code",
   "execution_count": 785,
   "id": "3f9bcbf2-5ef4-4125-a5b4-e064843331a0",
   "metadata": {},
   "outputs": [],
   "source": [
    "label_encoder = LabelEncoder()\n",
    "label_encoder.fit(y_train)\n",
    "y_train = label_encoder.transform(y_train)"
   ]
  },
  {
   "cell_type": "code",
   "execution_count": 786,
   "id": "01cb9106-162c-4707-9544-068c7f932aea",
   "metadata": {},
   "outputs": [
    {
     "data": {
      "text/html": [
       "<div>\n",
       "<style scoped>\n",
       "    .dataframe tbody tr th:only-of-type {\n",
       "        vertical-align: middle;\n",
       "    }\n",
       "\n",
       "    .dataframe tbody tr th {\n",
       "        vertical-align: top;\n",
       "    }\n",
       "\n",
       "    .dataframe thead th {\n",
       "        text-align: right;\n",
       "    }\n",
       "</style>\n",
       "<table border=\"1\" class=\"dataframe\">\n",
       "  <thead>\n",
       "    <tr style=\"text-align: right;\">\n",
       "      <th></th>\n",
       "      <th>HomePlanet</th>\n",
       "      <th>CryoSleep</th>\n",
       "      <th>Cabin</th>\n",
       "      <th>Destination</th>\n",
       "      <th>Age</th>\n",
       "      <th>VIP</th>\n",
       "      <th>RoomService</th>\n",
       "      <th>FoodCourt</th>\n",
       "      <th>ShoppingMall</th>\n",
       "      <th>Spa</th>\n",
       "      <th>VRDeck</th>\n",
       "      <th>Name</th>\n",
       "    </tr>\n",
       "  </thead>\n",
       "  <tbody>\n",
       "    <tr>\n",
       "      <th>4727</th>\n",
       "      <td>Earth</td>\n",
       "      <td>False</td>\n",
       "      <td>G/826/S</td>\n",
       "      <td>TRAPPIST-1e</td>\n",
       "      <td>23.0</td>\n",
       "      <td>False</td>\n",
       "      <td>0.0</td>\n",
       "      <td>381.0</td>\n",
       "      <td>142.0</td>\n",
       "      <td>0.0</td>\n",
       "      <td>261.0</td>\n",
       "      <td>Sanya Palmes</td>\n",
       "    </tr>\n",
       "    <tr>\n",
       "      <th>3491</th>\n",
       "      <td>Earth</td>\n",
       "      <td>False</td>\n",
       "      <td>NaN</td>\n",
       "      <td>TRAPPIST-1e</td>\n",
       "      <td>24.0</td>\n",
       "      <td>False</td>\n",
       "      <td>0.0</td>\n",
       "      <td>274.0</td>\n",
       "      <td>594.0</td>\n",
       "      <td>35.0</td>\n",
       "      <td>658.0</td>\n",
       "      <td>Ambert Ericksonga</td>\n",
       "    </tr>\n",
       "    <tr>\n",
       "      <th>4126</th>\n",
       "      <td>Earth</td>\n",
       "      <td>True</td>\n",
       "      <td>G/725/P</td>\n",
       "      <td>PSO J318.5-22</td>\n",
       "      <td>29.0</td>\n",
       "      <td>False</td>\n",
       "      <td>0.0</td>\n",
       "      <td>0.0</td>\n",
       "      <td>0.0</td>\n",
       "      <td>0.0</td>\n",
       "      <td>0.0</td>\n",
       "      <td>Louisy Waderoachez</td>\n",
       "    </tr>\n",
       "    <tr>\n",
       "      <th>2827</th>\n",
       "      <td>Europa</td>\n",
       "      <td>False</td>\n",
       "      <td>E/191/P</td>\n",
       "      <td>TRAPPIST-1e</td>\n",
       "      <td>25.0</td>\n",
       "      <td>False</td>\n",
       "      <td>1586.0</td>\n",
       "      <td>2342.0</td>\n",
       "      <td>947.0</td>\n",
       "      <td>1.0</td>\n",
       "      <td>276.0</td>\n",
       "      <td>Skatik Supred</td>\n",
       "    </tr>\n",
       "    <tr>\n",
       "      <th>7236</th>\n",
       "      <td>Earth</td>\n",
       "      <td>False</td>\n",
       "      <td>F/1609/P</td>\n",
       "      <td>TRAPPIST-1e</td>\n",
       "      <td>22.0</td>\n",
       "      <td>False</td>\n",
       "      <td>60.0</td>\n",
       "      <td>48.0</td>\n",
       "      <td>0.0</td>\n",
       "      <td>0.0</td>\n",
       "      <td>500.0</td>\n",
       "      <td>Herita Brookenson</td>\n",
       "    </tr>\n",
       "  </tbody>\n",
       "</table>\n",
       "</div>"
      ],
      "text/plain": [
       "     HomePlanet CryoSleep     Cabin    Destination   Age    VIP  RoomService  \\\n",
       "4727      Earth     False   G/826/S    TRAPPIST-1e  23.0  False          0.0   \n",
       "3491      Earth     False       NaN    TRAPPIST-1e  24.0  False          0.0   \n",
       "4126      Earth      True   G/725/P  PSO J318.5-22  29.0  False          0.0   \n",
       "2827     Europa     False   E/191/P    TRAPPIST-1e  25.0  False       1586.0   \n",
       "7236      Earth     False  F/1609/P    TRAPPIST-1e  22.0  False         60.0   \n",
       "\n",
       "      FoodCourt  ShoppingMall   Spa  VRDeck                Name  \n",
       "4727      381.0         142.0   0.0   261.0        Sanya Palmes  \n",
       "3491      274.0         594.0  35.0   658.0   Ambert Ericksonga  \n",
       "4126        0.0           0.0   0.0     0.0  Louisy Waderoachez  \n",
       "2827     2342.0         947.0   1.0   276.0       Skatik Supred  \n",
       "7236       48.0           0.0   0.0   500.0   Herita Brookenson  "
      ]
     },
     "execution_count": 786,
     "metadata": {},
     "output_type": "execute_result"
    }
   ],
   "source": [
    "X_train.head()"
   ]
  },
  {
   "cell_type": "code",
   "execution_count": 787,
   "id": "64dc4928-6cc9-4951-966e-777548b07ce2",
   "metadata": {},
   "outputs": [],
   "source": [
    "myModel = clf.fit(X_train, y_train)"
   ]
  },
  {
   "cell_type": "code",
   "execution_count": 788,
   "id": "2972665c-dcda-49d5-854f-a587c35a69ea",
   "metadata": {},
   "outputs": [
    {
     "data": {
      "text/plain": [
       "Pipeline(steps=[('preprocessor',\n",
       "                 ColumnTransformer(transformers=[('num',\n",
       "                                                  Pipeline(steps=[('imputer',\n",
       "                                                                   SimpleImputer(strategy='median')),\n",
       "                                                                  ('encoder',\n",
       "                                                                   OrdinalEncoder(handle_unknown='ignore')),\n",
       "                                                                  ('scaler',\n",
       "                                                                   StandardScaler())]),\n",
       "                                                  ['Age', 'RoomService',\n",
       "                                                   'FoodCourt', 'ShoppingMall',\n",
       "                                                   'Spa', 'VRDeck']),\n",
       "                                                 ('cat',\n",
       "                                                  Pipeline(steps=[('imputer',\n",
       "                                                                   SimpleImputer(strategy='most_frequent')),\n",
       "                                                                  ('encoder',\n",
       "                                                                   OrdinalEncoder(handle_unknown='ignore')),\n",
       "                                                                  ('scaler',\n",
       "                                                                   StandardScaler())]),\n",
       "                                                  ['HomePlanet', 'CryoSleep',\n",
       "                                                   'Cabin', 'Destination',\n",
       "                                                   'VIP'])])),\n",
       "                ('classifier', SVC())])"
      ]
     },
     "execution_count": 788,
     "metadata": {},
     "output_type": "execute_result"
    }
   ],
   "source": [
    "myModel"
   ]
  },
  {
   "cell_type": "code",
   "execution_count": 789,
   "id": "f4b84eab-2470-4a22-83a2-d883df486026",
   "metadata": {},
   "outputs": [
    {
     "name": "stdout",
     "output_type": "stream",
     "text": [
      "model score: 0.656\n"
     ]
    }
   ],
   "source": [
    "print(\"model score: %.3f\" % clf.score(X_test, y_test))"
   ]
  },
  {
   "cell_type": "markdown",
   "id": "a6c5d3a8-96b0-4008-b35e-8b8ca60b8d75",
   "metadata": {},
   "source": [
    "### Lets Load the actual test Data"
   ]
  },
  {
   "cell_type": "code",
   "execution_count": 790,
   "id": "bb6fc172-c1d2-4f9b-8248-31ac0d1fdbdb",
   "metadata": {},
   "outputs": [],
   "source": [
    "test = pd.read_csv('test_SpaceShip.csv')"
   ]
  },
  {
   "cell_type": "code",
   "execution_count": 791,
   "id": "d4506b10-d395-4db8-b7d2-2ab05acac6be",
   "metadata": {},
   "outputs": [
    {
     "data": {
      "text/html": [
       "<div>\n",
       "<style scoped>\n",
       "    .dataframe tbody tr th:only-of-type {\n",
       "        vertical-align: middle;\n",
       "    }\n",
       "\n",
       "    .dataframe tbody tr th {\n",
       "        vertical-align: top;\n",
       "    }\n",
       "\n",
       "    .dataframe thead th {\n",
       "        text-align: right;\n",
       "    }\n",
       "</style>\n",
       "<table border=\"1\" class=\"dataframe\">\n",
       "  <thead>\n",
       "    <tr style=\"text-align: right;\">\n",
       "      <th></th>\n",
       "      <th>PassengerId</th>\n",
       "      <th>HomePlanet</th>\n",
       "      <th>CryoSleep</th>\n",
       "      <th>Cabin</th>\n",
       "      <th>Destination</th>\n",
       "      <th>Age</th>\n",
       "      <th>VIP</th>\n",
       "      <th>RoomService</th>\n",
       "      <th>FoodCourt</th>\n",
       "      <th>ShoppingMall</th>\n",
       "      <th>Spa</th>\n",
       "      <th>VRDeck</th>\n",
       "      <th>Name</th>\n",
       "    </tr>\n",
       "  </thead>\n",
       "  <tbody>\n",
       "    <tr>\n",
       "      <th>0</th>\n",
       "      <td>0013_01</td>\n",
       "      <td>Earth</td>\n",
       "      <td>True</td>\n",
       "      <td>G/3/S</td>\n",
       "      <td>TRAPPIST-1e</td>\n",
       "      <td>27.0</td>\n",
       "      <td>False</td>\n",
       "      <td>0.0</td>\n",
       "      <td>0.0</td>\n",
       "      <td>0.0</td>\n",
       "      <td>0.0</td>\n",
       "      <td>0.0</td>\n",
       "      <td>Nelly Carsoning</td>\n",
       "    </tr>\n",
       "    <tr>\n",
       "      <th>1</th>\n",
       "      <td>0018_01</td>\n",
       "      <td>Earth</td>\n",
       "      <td>False</td>\n",
       "      <td>F/4/S</td>\n",
       "      <td>TRAPPIST-1e</td>\n",
       "      <td>19.0</td>\n",
       "      <td>False</td>\n",
       "      <td>0.0</td>\n",
       "      <td>9.0</td>\n",
       "      <td>0.0</td>\n",
       "      <td>2823.0</td>\n",
       "      <td>0.0</td>\n",
       "      <td>Lerome Peckers</td>\n",
       "    </tr>\n",
       "    <tr>\n",
       "      <th>2</th>\n",
       "      <td>0019_01</td>\n",
       "      <td>Europa</td>\n",
       "      <td>True</td>\n",
       "      <td>C/0/S</td>\n",
       "      <td>55 Cancri e</td>\n",
       "      <td>31.0</td>\n",
       "      <td>False</td>\n",
       "      <td>0.0</td>\n",
       "      <td>0.0</td>\n",
       "      <td>0.0</td>\n",
       "      <td>0.0</td>\n",
       "      <td>0.0</td>\n",
       "      <td>Sabih Unhearfus</td>\n",
       "    </tr>\n",
       "    <tr>\n",
       "      <th>3</th>\n",
       "      <td>0021_01</td>\n",
       "      <td>Europa</td>\n",
       "      <td>False</td>\n",
       "      <td>C/1/S</td>\n",
       "      <td>TRAPPIST-1e</td>\n",
       "      <td>38.0</td>\n",
       "      <td>False</td>\n",
       "      <td>0.0</td>\n",
       "      <td>6652.0</td>\n",
       "      <td>0.0</td>\n",
       "      <td>181.0</td>\n",
       "      <td>585.0</td>\n",
       "      <td>Meratz Caltilter</td>\n",
       "    </tr>\n",
       "    <tr>\n",
       "      <th>4</th>\n",
       "      <td>0023_01</td>\n",
       "      <td>Earth</td>\n",
       "      <td>False</td>\n",
       "      <td>F/5/S</td>\n",
       "      <td>TRAPPIST-1e</td>\n",
       "      <td>20.0</td>\n",
       "      <td>False</td>\n",
       "      <td>10.0</td>\n",
       "      <td>0.0</td>\n",
       "      <td>635.0</td>\n",
       "      <td>0.0</td>\n",
       "      <td>0.0</td>\n",
       "      <td>Brence Harperez</td>\n",
       "    </tr>\n",
       "  </tbody>\n",
       "</table>\n",
       "</div>"
      ],
      "text/plain": [
       "  PassengerId HomePlanet CryoSleep  Cabin  Destination   Age    VIP  \\\n",
       "0     0013_01      Earth      True  G/3/S  TRAPPIST-1e  27.0  False   \n",
       "1     0018_01      Earth     False  F/4/S  TRAPPIST-1e  19.0  False   \n",
       "2     0019_01     Europa      True  C/0/S  55 Cancri e  31.0  False   \n",
       "3     0021_01     Europa     False  C/1/S  TRAPPIST-1e  38.0  False   \n",
       "4     0023_01      Earth     False  F/5/S  TRAPPIST-1e  20.0  False   \n",
       "\n",
       "   RoomService  FoodCourt  ShoppingMall     Spa  VRDeck              Name  \n",
       "0          0.0        0.0           0.0     0.0     0.0   Nelly Carsoning  \n",
       "1          0.0        9.0           0.0  2823.0     0.0    Lerome Peckers  \n",
       "2          0.0        0.0           0.0     0.0     0.0   Sabih Unhearfus  \n",
       "3          0.0     6652.0           0.0   181.0   585.0  Meratz Caltilter  \n",
       "4         10.0        0.0         635.0     0.0     0.0   Brence Harperez  "
      ]
     },
     "execution_count": 791,
     "metadata": {},
     "output_type": "execute_result"
    }
   ],
   "source": [
    "test.head()"
   ]
  },
  {
   "cell_type": "code",
   "execution_count": 792,
   "id": "20980eae-5b4c-49c3-a884-4bc6c4368c53",
   "metadata": {},
   "outputs": [],
   "source": [
    "test = test.iloc[:,1:-1]"
   ]
  },
  {
   "cell_type": "code",
   "execution_count": 793,
   "id": "eadaf588-43f6-481c-95d4-5dd4f3f4b02a",
   "metadata": {},
   "outputs": [
    {
     "data": {
      "text/html": [
       "<div>\n",
       "<style scoped>\n",
       "    .dataframe tbody tr th:only-of-type {\n",
       "        vertical-align: middle;\n",
       "    }\n",
       "\n",
       "    .dataframe tbody tr th {\n",
       "        vertical-align: top;\n",
       "    }\n",
       "\n",
       "    .dataframe thead th {\n",
       "        text-align: right;\n",
       "    }\n",
       "</style>\n",
       "<table border=\"1\" class=\"dataframe\">\n",
       "  <thead>\n",
       "    <tr style=\"text-align: right;\">\n",
       "      <th></th>\n",
       "      <th>HomePlanet</th>\n",
       "      <th>CryoSleep</th>\n",
       "      <th>Cabin</th>\n",
       "      <th>Destination</th>\n",
       "      <th>Age</th>\n",
       "      <th>VIP</th>\n",
       "      <th>RoomService</th>\n",
       "      <th>FoodCourt</th>\n",
       "      <th>ShoppingMall</th>\n",
       "      <th>Spa</th>\n",
       "      <th>VRDeck</th>\n",
       "    </tr>\n",
       "  </thead>\n",
       "  <tbody>\n",
       "    <tr>\n",
       "      <th>0</th>\n",
       "      <td>Earth</td>\n",
       "      <td>True</td>\n",
       "      <td>G/3/S</td>\n",
       "      <td>TRAPPIST-1e</td>\n",
       "      <td>27.0</td>\n",
       "      <td>False</td>\n",
       "      <td>0.0</td>\n",
       "      <td>0.0</td>\n",
       "      <td>0.0</td>\n",
       "      <td>0.0</td>\n",
       "      <td>0.0</td>\n",
       "    </tr>\n",
       "    <tr>\n",
       "      <th>1</th>\n",
       "      <td>Earth</td>\n",
       "      <td>False</td>\n",
       "      <td>F/4/S</td>\n",
       "      <td>TRAPPIST-1e</td>\n",
       "      <td>19.0</td>\n",
       "      <td>False</td>\n",
       "      <td>0.0</td>\n",
       "      <td>9.0</td>\n",
       "      <td>0.0</td>\n",
       "      <td>2823.0</td>\n",
       "      <td>0.0</td>\n",
       "    </tr>\n",
       "    <tr>\n",
       "      <th>2</th>\n",
       "      <td>Europa</td>\n",
       "      <td>True</td>\n",
       "      <td>C/0/S</td>\n",
       "      <td>55 Cancri e</td>\n",
       "      <td>31.0</td>\n",
       "      <td>False</td>\n",
       "      <td>0.0</td>\n",
       "      <td>0.0</td>\n",
       "      <td>0.0</td>\n",
       "      <td>0.0</td>\n",
       "      <td>0.0</td>\n",
       "    </tr>\n",
       "    <tr>\n",
       "      <th>3</th>\n",
       "      <td>Europa</td>\n",
       "      <td>False</td>\n",
       "      <td>C/1/S</td>\n",
       "      <td>TRAPPIST-1e</td>\n",
       "      <td>38.0</td>\n",
       "      <td>False</td>\n",
       "      <td>0.0</td>\n",
       "      <td>6652.0</td>\n",
       "      <td>0.0</td>\n",
       "      <td>181.0</td>\n",
       "      <td>585.0</td>\n",
       "    </tr>\n",
       "    <tr>\n",
       "      <th>4</th>\n",
       "      <td>Earth</td>\n",
       "      <td>False</td>\n",
       "      <td>F/5/S</td>\n",
       "      <td>TRAPPIST-1e</td>\n",
       "      <td>20.0</td>\n",
       "      <td>False</td>\n",
       "      <td>10.0</td>\n",
       "      <td>0.0</td>\n",
       "      <td>635.0</td>\n",
       "      <td>0.0</td>\n",
       "      <td>0.0</td>\n",
       "    </tr>\n",
       "  </tbody>\n",
       "</table>\n",
       "</div>"
      ],
      "text/plain": [
       "  HomePlanet CryoSleep  Cabin  Destination   Age    VIP  RoomService  \\\n",
       "0      Earth      True  G/3/S  TRAPPIST-1e  27.0  False          0.0   \n",
       "1      Earth     False  F/4/S  TRAPPIST-1e  19.0  False          0.0   \n",
       "2     Europa      True  C/0/S  55 Cancri e  31.0  False          0.0   \n",
       "3     Europa     False  C/1/S  TRAPPIST-1e  38.0  False          0.0   \n",
       "4      Earth     False  F/5/S  TRAPPIST-1e  20.0  False         10.0   \n",
       "\n",
       "   FoodCourt  ShoppingMall     Spa  VRDeck  \n",
       "0        0.0           0.0     0.0     0.0  \n",
       "1        9.0           0.0  2823.0     0.0  \n",
       "2        0.0           0.0     0.0     0.0  \n",
       "3     6652.0           0.0   181.0   585.0  \n",
       "4        0.0         635.0     0.0     0.0  "
      ]
     },
     "execution_count": 793,
     "metadata": {},
     "output_type": "execute_result"
    }
   ],
   "source": [
    "test.head()"
   ]
  },
  {
   "cell_type": "code",
   "execution_count": 794,
   "id": "355713c3-fa1e-4de9-9ec3-ef1df475c03a",
   "metadata": {},
   "outputs": [
    {
     "data": {
      "text/plain": [
       "HomePlanet       87\n",
       "CryoSleep        93\n",
       "Cabin           100\n",
       "Destination      92\n",
       "Age              91\n",
       "VIP              93\n",
       "RoomService      82\n",
       "FoodCourt       106\n",
       "ShoppingMall     98\n",
       "Spa             101\n",
       "VRDeck           80\n",
       "dtype: int64"
      ]
     },
     "execution_count": 794,
     "metadata": {},
     "output_type": "execute_result"
    }
   ],
   "source": [
    "np.sum(test.isna())"
   ]
  },
  {
   "cell_type": "markdown",
   "id": "19c320c0-0cc9-49be-b91e-031a76e45782",
   "metadata": {},
   "source": [
    "### Cleaning and Imputing the data"
   ]
  },
  {
   "cell_type": "code",
   "execution_count": 795,
   "id": "98410358-13de-4566-ade3-a35ef07c8508",
   "metadata": {},
   "outputs": [],
   "source": [
    "imputer = SimpleImputer(missing_values=np.nan, strategy='most_frequent')\n",
    "imputer = imputer.fit(test[['HomePlanet','CryoSleep','Cabin','Destination','VIP']])\n",
    "test_1 = imputer.transform(test[['HomePlanet','CryoSleep','Cabin','Destination','VIP']])"
   ]
  },
  {
   "cell_type": "code",
   "execution_count": 796,
   "id": "b9884716-daf1-4861-aa38-8f59f2877885",
   "metadata": {},
   "outputs": [],
   "source": [
    "imputer = SimpleImputer(missing_values=np.nan, strategy='median')\n",
    "imputer = imputer.fit(test[['Age','RoomService','FoodCourt','ShoppingMall','Spa','VRDeck']])\n",
    "test_2 = imputer.transform(test[['Age','RoomService','FoodCourt','ShoppingMall','Spa','VRDeck']])"
   ]
  },
  {
   "cell_type": "code",
   "execution_count": 797,
   "id": "50477ee8-904f-4857-8927-73a1b5f841f1",
   "metadata": {},
   "outputs": [],
   "source": [
    "test_1 = pd.DataFrame(test_1)\n",
    "test_1.columns = {'HomePlanet','CryoSleep','Cabin','Destination','VIP'}\n",
    "\n",
    "test_2 = pd.DataFrame(test_2)\n",
    "test_2.columns = {'Age','RoomService','FoodCourt','ShoppingMall','Spa','VRDeck'}"
   ]
  },
  {
   "cell_type": "code",
   "execution_count": 798,
   "id": "cba921e7-94a7-4a9e-8289-5a4f768c80cc",
   "metadata": {},
   "outputs": [],
   "source": [
    "test= pd.concat([test_1,test_2],axis=1)"
   ]
  },
  {
   "cell_type": "code",
   "execution_count": 799,
   "id": "c0ccde96-221e-4ae6-8641-f951968021ab",
   "metadata": {},
   "outputs": [
    {
     "data": {
      "text/html": [
       "<div>\n",
       "<style scoped>\n",
       "    .dataframe tbody tr th:only-of-type {\n",
       "        vertical-align: middle;\n",
       "    }\n",
       "\n",
       "    .dataframe tbody tr th {\n",
       "        vertical-align: top;\n",
       "    }\n",
       "\n",
       "    .dataframe thead th {\n",
       "        text-align: right;\n",
       "    }\n",
       "</style>\n",
       "<table border=\"1\" class=\"dataframe\">\n",
       "  <thead>\n",
       "    <tr style=\"text-align: right;\">\n",
       "      <th></th>\n",
       "      <th>HomePlanet</th>\n",
       "      <th>VIP</th>\n",
       "      <th>Cabin</th>\n",
       "      <th>CryoSleep</th>\n",
       "      <th>Destination</th>\n",
       "      <th>VRDeck</th>\n",
       "      <th>ShoppingMall</th>\n",
       "      <th>Age</th>\n",
       "      <th>Spa</th>\n",
       "      <th>FoodCourt</th>\n",
       "      <th>RoomService</th>\n",
       "    </tr>\n",
       "  </thead>\n",
       "  <tbody>\n",
       "    <tr>\n",
       "      <th>0</th>\n",
       "      <td>Earth</td>\n",
       "      <td>True</td>\n",
       "      <td>G/3/S</td>\n",
       "      <td>TRAPPIST-1e</td>\n",
       "      <td>False</td>\n",
       "      <td>27.0</td>\n",
       "      <td>0.0</td>\n",
       "      <td>0.0</td>\n",
       "      <td>0.0</td>\n",
       "      <td>0.0</td>\n",
       "      <td>0.0</td>\n",
       "    </tr>\n",
       "    <tr>\n",
       "      <th>1</th>\n",
       "      <td>Earth</td>\n",
       "      <td>False</td>\n",
       "      <td>F/4/S</td>\n",
       "      <td>TRAPPIST-1e</td>\n",
       "      <td>False</td>\n",
       "      <td>19.0</td>\n",
       "      <td>0.0</td>\n",
       "      <td>9.0</td>\n",
       "      <td>0.0</td>\n",
       "      <td>2823.0</td>\n",
       "      <td>0.0</td>\n",
       "    </tr>\n",
       "    <tr>\n",
       "      <th>2</th>\n",
       "      <td>Europa</td>\n",
       "      <td>True</td>\n",
       "      <td>C/0/S</td>\n",
       "      <td>55 Cancri e</td>\n",
       "      <td>False</td>\n",
       "      <td>31.0</td>\n",
       "      <td>0.0</td>\n",
       "      <td>0.0</td>\n",
       "      <td>0.0</td>\n",
       "      <td>0.0</td>\n",
       "      <td>0.0</td>\n",
       "    </tr>\n",
       "    <tr>\n",
       "      <th>3</th>\n",
       "      <td>Europa</td>\n",
       "      <td>False</td>\n",
       "      <td>C/1/S</td>\n",
       "      <td>TRAPPIST-1e</td>\n",
       "      <td>False</td>\n",
       "      <td>38.0</td>\n",
       "      <td>0.0</td>\n",
       "      <td>6652.0</td>\n",
       "      <td>0.0</td>\n",
       "      <td>181.0</td>\n",
       "      <td>585.0</td>\n",
       "    </tr>\n",
       "    <tr>\n",
       "      <th>4</th>\n",
       "      <td>Earth</td>\n",
       "      <td>False</td>\n",
       "      <td>F/5/S</td>\n",
       "      <td>TRAPPIST-1e</td>\n",
       "      <td>False</td>\n",
       "      <td>20.0</td>\n",
       "      <td>10.0</td>\n",
       "      <td>0.0</td>\n",
       "      <td>635.0</td>\n",
       "      <td>0.0</td>\n",
       "      <td>0.0</td>\n",
       "    </tr>\n",
       "  </tbody>\n",
       "</table>\n",
       "</div>"
      ],
      "text/plain": [
       "  HomePlanet    VIP  Cabin    CryoSleep Destination  VRDeck  ShoppingMall  \\\n",
       "0      Earth   True  G/3/S  TRAPPIST-1e       False    27.0           0.0   \n",
       "1      Earth  False  F/4/S  TRAPPIST-1e       False    19.0           0.0   \n",
       "2     Europa   True  C/0/S  55 Cancri e       False    31.0           0.0   \n",
       "3     Europa  False  C/1/S  TRAPPIST-1e       False    38.0           0.0   \n",
       "4      Earth  False  F/5/S  TRAPPIST-1e       False    20.0          10.0   \n",
       "\n",
       "      Age    Spa  FoodCourt  RoomService  \n",
       "0     0.0    0.0        0.0          0.0  \n",
       "1     9.0    0.0     2823.0          0.0  \n",
       "2     0.0    0.0        0.0          0.0  \n",
       "3  6652.0    0.0      181.0        585.0  \n",
       "4     0.0  635.0        0.0          0.0  "
      ]
     },
     "execution_count": 799,
     "metadata": {},
     "output_type": "execute_result"
    }
   ],
   "source": [
    "test.head()"
   ]
  },
  {
   "cell_type": "code",
   "execution_count": 800,
   "id": "ebf4b9db-9f7d-46f2-ac6b-ed41a65fd997",
   "metadata": {},
   "outputs": [
    {
     "data": {
      "text/plain": [
       "HomePlanet      0\n",
       "VIP             0\n",
       "Cabin           0\n",
       "CryoSleep       0\n",
       "Destination     0\n",
       "VRDeck          0\n",
       "ShoppingMall    0\n",
       "Age             0\n",
       "Spa             0\n",
       "FoodCourt       0\n",
       "RoomService     0\n",
       "dtype: int64"
      ]
     },
     "execution_count": 800,
     "metadata": {},
     "output_type": "execute_result"
    }
   ],
   "source": [
    "np.sum(test.isna())"
   ]
  },
  {
   "cell_type": "markdown",
   "id": "a04c07cc-1ece-4122-9d9e-7296d26e8e52",
   "metadata": {},
   "source": [
    "### Encoding "
   ]
  },
  {
   "cell_type": "code",
   "execution_count": 801,
   "id": "7636f1b2-d43c-47d8-b848-8d66fa7ed5e3",
   "metadata": {},
   "outputs": [],
   "source": [
    "ordinal_encoder = OrdinalEncoder()\n",
    "ordinal_encoder.fit(test)\n",
    "test = ordinal_encoder.transform(test)"
   ]
  },
  {
   "cell_type": "markdown",
   "id": "a0db68d2-2a19-4870-addc-bd3770999e7b",
   "metadata": {},
   "source": [
    "### Scaling"
   ]
  },
  {
   "cell_type": "code",
   "execution_count": 802,
   "id": "d4ea6378-bcc2-4472-b815-5cc311a08de3",
   "metadata": {},
   "outputs": [],
   "source": [
    "sc = StandardScaler()\n",
    "test = sc.fit_transform(test)"
   ]
  },
  {
   "cell_type": "code",
   "execution_count": 803,
   "id": "ae3a064e-5c3b-4a75-8416-e8ec22e76e45",
   "metadata": {},
   "outputs": [],
   "source": [
    "test = pd.DataFrame(test)\n",
    "test.columns = {'HomePlanet','VIP','Cabin','CryoSleep','Destination','VRDeck','ShoppingMall','Age','Spa','FoodCourt','RoomService'}"
   ]
  },
  {
   "cell_type": "code",
   "execution_count": 804,
   "id": "052b0c36-371e-4ce5-9776-0bf2625eb58c",
   "metadata": {},
   "outputs": [
    {
     "data": {
      "text/html": [
       "<div>\n",
       "<style scoped>\n",
       "    .dataframe tbody tr th:only-of-type {\n",
       "        vertical-align: middle;\n",
       "    }\n",
       "\n",
       "    .dataframe tbody tr th {\n",
       "        vertical-align: top;\n",
       "    }\n",
       "\n",
       "    .dataframe thead th {\n",
       "        text-align: right;\n",
       "    }\n",
       "</style>\n",
       "<table border=\"1\" class=\"dataframe\">\n",
       "  <thead>\n",
       "    <tr style=\"text-align: right;\">\n",
       "      <th></th>\n",
       "      <th>VRDeck</th>\n",
       "      <th>ShoppingMall</th>\n",
       "      <th>Age</th>\n",
       "      <th>HomePlanet</th>\n",
       "      <th>VIP</th>\n",
       "      <th>Cabin</th>\n",
       "      <th>Spa</th>\n",
       "      <th>FoodCourt</th>\n",
       "      <th>CryoSleep</th>\n",
       "      <th>RoomService</th>\n",
       "      <th>Destination</th>\n",
       "    </tr>\n",
       "  </thead>\n",
       "  <tbody>\n",
       "    <tr>\n",
       "      <th>0</th>\n",
       "      <td>-0.824107</td>\n",
       "      <td>1.330443</td>\n",
       "      <td>1.193156</td>\n",
       "      <td>0.603563</td>\n",
       "      <td>-0.132689</td>\n",
       "      <td>-0.114107</td>\n",
       "      <td>-0.484097</td>\n",
       "      <td>-0.492089</td>\n",
       "      <td>-0.461530</td>\n",
       "      <td>-0.480342</td>\n",
       "      <td>-0.465223</td>\n",
       "    </tr>\n",
       "    <tr>\n",
       "      <th>1</th>\n",
       "      <td>-0.824107</td>\n",
       "      <td>-0.751630</td>\n",
       "      <td>0.269885</td>\n",
       "      <td>0.603563</td>\n",
       "      <td>-0.132689</td>\n",
       "      <td>-0.684406</td>\n",
       "      <td>-0.484097</td>\n",
       "      <td>-0.452039</td>\n",
       "      <td>-0.461530</td>\n",
       "      <td>3.120782</td>\n",
       "      <td>-0.465223</td>\n",
       "    </tr>\n",
       "    <tr>\n",
       "      <th>2</th>\n",
       "      <td>0.411765</td>\n",
       "      <td>1.330443</td>\n",
       "      <td>-1.351125</td>\n",
       "      <td>-1.890580</td>\n",
       "      <td>-0.132689</td>\n",
       "      <td>0.171043</td>\n",
       "      <td>-0.484097</td>\n",
       "      <td>-0.492089</td>\n",
       "      <td>-0.461530</td>\n",
       "      <td>-0.480342</td>\n",
       "      <td>-0.465223</td>\n",
       "    </tr>\n",
       "    <tr>\n",
       "      <th>3</th>\n",
       "      <td>0.411765</td>\n",
       "      <td>-0.751630</td>\n",
       "      <td>-1.349111</td>\n",
       "      <td>0.603563</td>\n",
       "      <td>-0.132689</td>\n",
       "      <td>0.670056</td>\n",
       "      <td>-0.484097</td>\n",
       "      <td>3.259271</td>\n",
       "      <td>-0.461530</td>\n",
       "      <td>0.290617</td>\n",
       "      <td>1.434984</td>\n",
       "    </tr>\n",
       "    <tr>\n",
       "      <th>4</th>\n",
       "      <td>-0.824107</td>\n",
       "      <td>-0.751630</td>\n",
       "      <td>0.343384</td>\n",
       "      <td>0.603563</td>\n",
       "      <td>-0.132689</td>\n",
       "      <td>-0.613119</td>\n",
       "      <td>-0.435679</td>\n",
       "      <td>-0.492089</td>\n",
       "      <td>1.735974</td>\n",
       "      <td>-0.480342</td>\n",
       "      <td>-0.465223</td>\n",
       "    </tr>\n",
       "  </tbody>\n",
       "</table>\n",
       "</div>"
      ],
      "text/plain": [
       "     VRDeck  ShoppingMall       Age  HomePlanet       VIP     Cabin       Spa  \\\n",
       "0 -0.824107      1.330443  1.193156    0.603563 -0.132689 -0.114107 -0.484097   \n",
       "1 -0.824107     -0.751630  0.269885    0.603563 -0.132689 -0.684406 -0.484097   \n",
       "2  0.411765      1.330443 -1.351125   -1.890580 -0.132689  0.171043 -0.484097   \n",
       "3  0.411765     -0.751630 -1.349111    0.603563 -0.132689  0.670056 -0.484097   \n",
       "4 -0.824107     -0.751630  0.343384    0.603563 -0.132689 -0.613119 -0.435679   \n",
       "\n",
       "   FoodCourt  CryoSleep  RoomService  Destination  \n",
       "0  -0.492089  -0.461530    -0.480342    -0.465223  \n",
       "1  -0.452039  -0.461530     3.120782    -0.465223  \n",
       "2  -0.492089  -0.461530    -0.480342    -0.465223  \n",
       "3   3.259271  -0.461530     0.290617     1.434984  \n",
       "4  -0.492089   1.735974    -0.480342    -0.465223  "
      ]
     },
     "execution_count": 804,
     "metadata": {},
     "output_type": "execute_result"
    }
   ],
   "source": [
    "test.head()"
   ]
  },
  {
   "cell_type": "code",
   "execution_count": 805,
   "id": "6614b912-4c0a-4a6c-b3ec-58e55149a3e5",
   "metadata": {},
   "outputs": [
    {
     "name": "stdout",
     "output_type": "stream",
     "text": [
      "134/134 [==============================] - 0s 635us/step\n"
     ]
    }
   ],
   "source": [
    "pred = ann.predict(test)\n",
    "pred = (pred > 0.5)"
   ]
  },
  {
   "cell_type": "code",
   "execution_count": 806,
   "id": "7b29b5e7-35dc-41d4-9d6e-3072ef299110",
   "metadata": {},
   "outputs": [
    {
     "data": {
      "text/plain": [
       "array([[ True],\n",
       "       [False],\n",
       "       [ True],\n",
       "       ...,\n",
       "       [ True],\n",
       "       [ True],\n",
       "       [ True]])"
      ]
     },
     "execution_count": 806,
     "metadata": {},
     "output_type": "execute_result"
    }
   ],
   "source": [
    "pred"
   ]
  },
  {
   "cell_type": "code",
   "execution_count": 807,
   "id": "9ccdd187-7f6b-4f4b-b0e1-51e6d9139962",
   "metadata": {},
   "outputs": [],
   "source": [
    "test = pd.read_csv('test_SpaceShip.csv')"
   ]
  },
  {
   "cell_type": "code",
   "execution_count": 808,
   "id": "12583f12-e1d7-41db-9aa3-ed682c77b6a0",
   "metadata": {},
   "outputs": [],
   "source": [
    "col = np.array(test.iloc[:,0])"
   ]
  },
  {
   "cell_type": "code",
   "execution_count": 809,
   "id": "b5015661-aadf-4a37-86b5-b2acc0081a43",
   "metadata": {},
   "outputs": [
    {
     "data": {
      "text/plain": [
       "array(['0013_01', '0018_01', '0019_01', ..., '9271_01', '9273_01',\n",
       "       '9277_01'], dtype=object)"
      ]
     },
     "execution_count": 809,
     "metadata": {},
     "output_type": "execute_result"
    }
   ],
   "source": [
    "col"
   ]
  },
  {
   "cell_type": "code",
   "execution_count": 810,
   "id": "16c53db0-4520-439e-9c6a-fa657f98f29a",
   "metadata": {},
   "outputs": [],
   "source": [
    "pred = np.array(pred)"
   ]
  },
  {
   "cell_type": "code",
   "execution_count": 811,
   "id": "e45fd7af-e56b-4b50-a2d8-0ed74d5d580a",
   "metadata": {},
   "outputs": [
    {
     "data": {
      "text/plain": [
       "array([[ True],\n",
       "       [False],\n",
       "       [ True],\n",
       "       ...,\n",
       "       [ True],\n",
       "       [ True],\n",
       "       [ True]])"
      ]
     },
     "execution_count": 811,
     "metadata": {},
     "output_type": "execute_result"
    }
   ],
   "source": [
    "pred"
   ]
  },
  {
   "cell_type": "code",
   "execution_count": 812,
   "id": "f659ce1f-1ea0-4f48-b2a0-09aa320c238c",
   "metadata": {},
   "outputs": [
    {
     "data": {
      "text/plain": [
       "(4277, 1)"
      ]
     },
     "execution_count": 812,
     "metadata": {},
     "output_type": "execute_result"
    }
   ],
   "source": [
    "pred.shape"
   ]
  },
  {
   "cell_type": "code",
   "execution_count": 813,
   "id": "b34604e0-3654-4180-88f0-3af00531ef9c",
   "metadata": {},
   "outputs": [
    {
     "data": {
      "text/plain": [
       "(4277,)"
      ]
     },
     "execution_count": 813,
     "metadata": {},
     "output_type": "execute_result"
    }
   ],
   "source": [
    "col.shape"
   ]
  },
  {
   "cell_type": "code",
   "execution_count": 814,
   "id": "3e7b58cf-2e82-4974-ad18-917991cd74b8",
   "metadata": {},
   "outputs": [],
   "source": [
    "col= np.array(col).reshape(-1,1)"
   ]
  },
  {
   "cell_type": "code",
   "execution_count": 815,
   "id": "a840f835-660c-43de-94ef-703d87ecab4a",
   "metadata": {},
   "outputs": [
    {
     "data": {
      "text/plain": [
       "(4277, 1)"
      ]
     },
     "execution_count": 815,
     "metadata": {},
     "output_type": "execute_result"
    }
   ],
   "source": [
    "col.shape"
   ]
  },
  {
   "cell_type": "code",
   "execution_count": 816,
   "id": "130d5d8c-c975-4944-93d8-f7a55c8140a6",
   "metadata": {},
   "outputs": [],
   "source": [
    "col = pd.DataFrame(col)\n",
    "col.columns = ['PassengerId']\n",
    "pred = pd.DataFrame(pred)\n",
    "pred.columns = ['Transported']"
   ]
  },
  {
   "cell_type": "code",
   "execution_count": 817,
   "id": "44f648f1-7d83-4f09-af87-408531fef3a5",
   "metadata": {},
   "outputs": [
    {
     "data": {
      "text/html": [
       "<div>\n",
       "<style scoped>\n",
       "    .dataframe tbody tr th:only-of-type {\n",
       "        vertical-align: middle;\n",
       "    }\n",
       "\n",
       "    .dataframe tbody tr th {\n",
       "        vertical-align: top;\n",
       "    }\n",
       "\n",
       "    .dataframe thead th {\n",
       "        text-align: right;\n",
       "    }\n",
       "</style>\n",
       "<table border=\"1\" class=\"dataframe\">\n",
       "  <thead>\n",
       "    <tr style=\"text-align: right;\">\n",
       "      <th></th>\n",
       "      <th>PassengerId</th>\n",
       "    </tr>\n",
       "  </thead>\n",
       "  <tbody>\n",
       "    <tr>\n",
       "      <th>0</th>\n",
       "      <td>0013_01</td>\n",
       "    </tr>\n",
       "    <tr>\n",
       "      <th>1</th>\n",
       "      <td>0018_01</td>\n",
       "    </tr>\n",
       "    <tr>\n",
       "      <th>2</th>\n",
       "      <td>0019_01</td>\n",
       "    </tr>\n",
       "    <tr>\n",
       "      <th>3</th>\n",
       "      <td>0021_01</td>\n",
       "    </tr>\n",
       "    <tr>\n",
       "      <th>4</th>\n",
       "      <td>0023_01</td>\n",
       "    </tr>\n",
       "  </tbody>\n",
       "</table>\n",
       "</div>"
      ],
      "text/plain": [
       "  PassengerId\n",
       "0     0013_01\n",
       "1     0018_01\n",
       "2     0019_01\n",
       "3     0021_01\n",
       "4     0023_01"
      ]
     },
     "execution_count": 817,
     "metadata": {},
     "output_type": "execute_result"
    }
   ],
   "source": [
    "col.head()"
   ]
  },
  {
   "cell_type": "code",
   "execution_count": 818,
   "id": "65bc7eda-8212-4fe0-8f88-8d23c031fe75",
   "metadata": {},
   "outputs": [],
   "source": [
    "sub = pd.concat([col,pred],axis=1)"
   ]
  },
  {
   "cell_type": "code",
   "execution_count": 819,
   "id": "bb15f9ef-e901-470b-a7c3-87cc38630e5c",
   "metadata": {},
   "outputs": [
    {
     "data": {
      "text/html": [
       "<div>\n",
       "<style scoped>\n",
       "    .dataframe tbody tr th:only-of-type {\n",
       "        vertical-align: middle;\n",
       "    }\n",
       "\n",
       "    .dataframe tbody tr th {\n",
       "        vertical-align: top;\n",
       "    }\n",
       "\n",
       "    .dataframe thead th {\n",
       "        text-align: right;\n",
       "    }\n",
       "</style>\n",
       "<table border=\"1\" class=\"dataframe\">\n",
       "  <thead>\n",
       "    <tr style=\"text-align: right;\">\n",
       "      <th></th>\n",
       "      <th>PassengerId</th>\n",
       "      <th>Transported</th>\n",
       "    </tr>\n",
       "  </thead>\n",
       "  <tbody>\n",
       "    <tr>\n",
       "      <th>0</th>\n",
       "      <td>0013_01</td>\n",
       "      <td>True</td>\n",
       "    </tr>\n",
       "    <tr>\n",
       "      <th>1</th>\n",
       "      <td>0018_01</td>\n",
       "      <td>False</td>\n",
       "    </tr>\n",
       "    <tr>\n",
       "      <th>2</th>\n",
       "      <td>0019_01</td>\n",
       "      <td>True</td>\n",
       "    </tr>\n",
       "    <tr>\n",
       "      <th>3</th>\n",
       "      <td>0021_01</td>\n",
       "      <td>True</td>\n",
       "    </tr>\n",
       "    <tr>\n",
       "      <th>4</th>\n",
       "      <td>0023_01</td>\n",
       "      <td>True</td>\n",
       "    </tr>\n",
       "  </tbody>\n",
       "</table>\n",
       "</div>"
      ],
      "text/plain": [
       "  PassengerId  Transported\n",
       "0     0013_01         True\n",
       "1     0018_01        False\n",
       "2     0019_01         True\n",
       "3     0021_01         True\n",
       "4     0023_01         True"
      ]
     },
     "execution_count": 819,
     "metadata": {},
     "output_type": "execute_result"
    }
   ],
   "source": [
    "sub.head()"
   ]
  },
  {
   "cell_type": "code",
   "execution_count": 820,
   "id": "39e266ba-027a-47c0-ab18-767925348084",
   "metadata": {},
   "outputs": [],
   "source": [
    "sub.to_csv('SpaceShip_predictions.csv', index=False)"
   ]
  },
  {
   "cell_type": "code",
   "execution_count": null,
   "id": "0d212032-27a4-4e94-825d-50a1e685bc66",
   "metadata": {},
   "outputs": [],
   "source": []
  }
 ],
 "metadata": {
  "kernelspec": {
   "display_name": "Python 3",
   "language": "python",
   "name": "python3"
  },
  "language_info": {
   "codemirror_mode": {
    "name": "ipython",
    "version": 3
   },
   "file_extension": ".py",
   "mimetype": "text/x-python",
   "name": "python",
   "nbconvert_exporter": "python",
   "pygments_lexer": "ipython3",
   "version": "3.8.8"
  }
 },
 "nbformat": 4,
 "nbformat_minor": 5
}
