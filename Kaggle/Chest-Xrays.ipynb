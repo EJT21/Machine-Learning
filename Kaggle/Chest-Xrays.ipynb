{
 "cells": [
  {
   "cell_type": "markdown",
   "id": "83596e9b-230c-454f-b1fc-92b4db9139a4",
   "metadata": {},
   "source": [
    "### Kaggle Competition - Chest X-Ray Images (Pneumonia)"
   ]
  },
  {
   "cell_type": "code",
   "execution_count": 1,
   "id": "c98d204f-3b5f-418f-bda9-63616b92586f",
   "metadata": {},
   "outputs": [],
   "source": [
    "import numpy as np \n",
    "import matplotlib.pyplot as plt\n",
    "import pandas as pd\n",
    "import seaborn as sns\n",
    "from sklearn.metrics import classification_report, confusion_matrix\n",
    "from sklearn.metrics import roc_curve\n",
    "from sklearn.metrics import roc_auc_score\n",
    "from sklearn.metrics import auc\n",
    "import tensorflow as tf\n",
    "from keras import metrics\n",
    "from keras.models import Sequential\n",
    "from keras.layers import Conv2D, MaxPooling2D, Flatten, Dense, Dropout, BatchNormalization, InputLayer, Activation\n",
    "from keras.preprocessing.image import ImageDataGenerator\n",
    "from keras.metrics import AUC\n",
    "from sklearn.metrics import classification_report, confusion_matrix"
   ]
  },
  {
   "cell_type": "markdown",
   "id": "691d1386-649a-4e45-8287-a9fd47d886e2",
   "metadata": {},
   "source": [
    "#### Getting the paths of the training and test data"
   ]
  },
  {
   "cell_type": "code",
   "execution_count": 2,
   "id": "1bdb7645-683f-4ca2-980d-fb5977759300",
   "metadata": {},
   "outputs": [],
   "source": [
    "project_path = \"/Users/erickthompson/Desktop/ML/Kaggle/chest_xray\"\n",
    "train_path = project_path + \"/chest_xray/train/\"\n",
    "val_path = project_path + \"/chest_xray/val/\"\n",
    "test_path = project_path + \"/chest_xray/test/\""
   ]
  },
  {
   "cell_type": "markdown",
   "id": "03b84eda-378f-4271-b2b9-381983b8ebc2",
   "metadata": {},
   "source": [
    "#### Hyperparameters"
   ]
  },
  {
   "cell_type": "code",
   "execution_count": 3,
   "id": "1634c1db-11aa-48ed-9168-78cb80d7b4c3",
   "metadata": {},
   "outputs": [],
   "source": [
    "hyper_dimension = 64\n",
    "hyper_batch_size = 128\n",
    "hyper_epochs = 100\n",
    "hyper_channels = 1\n",
    "hyper_mode = 'grayscale'"
   ]
  },
  {
   "cell_type": "markdown",
   "id": "cce24364-69ac-4331-9730-2c4a0ec8465f",
   "metadata": {},
   "source": [
    "#### Scalling the input images"
   ]
  },
  {
   "cell_type": "code",
   "execution_count": 4,
   "id": "026f1216-7b79-435f-a1c2-b10387c2e3dc",
   "metadata": {},
   "outputs": [],
   "source": [
    "train_datagen = ImageDataGenerator(rescale=1.0/255.0, \n",
    "                                   shear_range = 0.2,\n",
    "                                   zoom_range = 0.2, \n",
    "                                   horizontal_flip = True)\n",
    "val_datagen = ImageDataGenerator(rescale=1.0/255.0) \n",
    "test_datagen = ImageDataGenerator(rescale=1.0/255.0) "
   ]
  },
  {
   "cell_type": "markdown",
   "id": "b3cd5e0d-a903-4fa8-8c74-1045e8456736",
   "metadata": {},
   "source": [
    "#### Feeding the data from the directory"
   ]
  },
  {
   "cell_type": "code",
   "execution_count": 5,
   "id": "a43654ab-350e-4976-a06e-3f78bd84e941",
   "metadata": {},
   "outputs": [
    {
     "name": "stdout",
     "output_type": "stream",
     "text": [
      "Found 5216 images belonging to 2 classes.\n",
      "Found 16 images belonging to 2 classes.\n",
      "Found 624 images belonging to 2 classes.\n"
     ]
    }
   ],
   "source": [
    "train_generator = train_datagen.flow_from_directory(directory = train_path, \n",
    "                                                    target_size = (hyper_dimension, hyper_dimension),\n",
    "                                                    batch_size = hyper_batch_size, \n",
    "                                                    color_mode = hyper_mode,\n",
    "                                                    class_mode = 'binary', \n",
    "                                                    seed = 42)\n",
    "val_generator = val_datagen.flow_from_directory(directory = val_path, \n",
    "                                                 target_size = (hyper_dimension, hyper_dimension),\n",
    "                                                 batch_size = hyper_batch_size, \n",
    "                                                 class_mode = 'binary',\n",
    "                                                 color_mode = hyper_mode,\n",
    "                                                 shuffle=False,\n",
    "                                                 seed = 42)\n",
    "test_generator = test_datagen.flow_from_directory(directory = test_path, \n",
    "                                                 target_size = (hyper_dimension, hyper_dimension),\n",
    "                                                 batch_size = hyper_batch_size, \n",
    "                                                 class_mode = 'binary',\n",
    "                                                 color_mode = hyper_mode,\n",
    "                                                 shuffle=False,\n",
    "                                                 seed = 42)\n",
    "\n",
    "test_generator.reset()"
   ]
  },
  {
   "cell_type": "markdown",
   "id": "58ae64b1-e2a4-4e40-9fa6-a6a8ee607ea4",
   "metadata": {},
   "source": [
    "#### CNN Model - This has 3 layers"
   ]
  },
  {
   "cell_type": "code",
   "execution_count": 9,
   "id": "fee96c73-b549-4147-be93-055974524a17",
   "metadata": {},
   "outputs": [
    {
     "name": "stdout",
     "output_type": "stream",
     "text": [
      "Epoch 1/10\n",
      "41/41 [==============================] - 54s 1s/step - loss: 0.5785 - auc: 0.5311 - val_loss: 0.7540 - val_auc: 0.6016\n",
      "Epoch 2/10\n",
      "41/41 [==============================] - 53s 1s/step - loss: 0.4259 - auc: 0.8508 - val_loss: 0.9277 - val_auc: 0.8359\n",
      "Epoch 3/10\n",
      "41/41 [==============================] - 53s 1s/step - loss: 0.2669 - auc: 0.9417 - val_loss: 0.7822 - val_auc: 0.8594\n",
      "Epoch 4/10\n",
      "41/41 [==============================] - 53s 1s/step - loss: 0.2564 - auc: 0.9462 - val_loss: 0.5609 - val_auc: 0.8750\n",
      "Epoch 5/10\n",
      "41/41 [==============================] - 53s 1s/step - loss: 0.2124 - auc: 0.9641 - val_loss: 0.5594 - val_auc: 0.8750\n",
      "Epoch 6/10\n",
      "41/41 [==============================] - 52s 1s/step - loss: 0.2105 - auc: 0.9641 - val_loss: 0.5323 - val_auc: 0.8906\n",
      "Epoch 7/10\n",
      "41/41 [==============================] - 51s 1s/step - loss: 0.1904 - auc: 0.9705 - val_loss: 0.5885 - val_auc: 0.9062\n",
      "Epoch 8/10\n",
      "41/41 [==============================] - 52s 1s/step - loss: 0.1890 - auc: 0.9706 - val_loss: 0.4697 - val_auc: 0.8984\n",
      "Epoch 9/10\n",
      "41/41 [==============================] - 53s 1s/step - loss: 0.1782 - auc: 0.9751 - val_loss: 0.5515 - val_auc: 0.8906\n",
      "Epoch 10/10\n",
      "41/41 [==============================] - 52s 1s/step - loss: 0.1632 - auc: 0.9789 - val_loss: 0.9397 - val_auc: 0.8828\n"
     ]
    }
   ],
   "source": [
    "cnn = Sequential()\n",
    "cnn.add(InputLayer(input_shape=(hyper_dimension, hyper_dimension, hyper_channels)))\n",
    "\n",
    "cnn.add(Conv2D(filters=32, kernel_size=3, activation='relu'))\n",
    "cnn.add(MaxPooling2D(pool_size=(2,2)))\n",
    "\n",
    "cnn.add(Conv2D(filters=32, kernel_size=3, activation='relu'))\n",
    "cnn.add(MaxPooling2D(pool_size=(2,2)))\n",
    "\n",
    "cnn.add(Conv2D(filters=32, kernel_size=3, activation='relu'))\n",
    "cnn.add(MaxPooling2D(pool_size=(2,2)))\n",
    "\n",
    "cnn.add(Flatten())\n",
    "\n",
    "cnn.add(Dense(activation='relu', units=128))\n",
    "cnn.add(Dense(activation='sigmoid', units=1))\n",
    "\n",
    "cnn.compile(optimizer= 'adam', loss='binary_crossentropy', metrics=[AUC()])\n",
    "cnn_model = cnn.fit(train_generator, \n",
    "                              steps_per_epoch = len(train_generator), \n",
    "                              epochs = 10, \n",
    "                              validation_data = val_generator,\n",
    "                              validation_steps = len(val_generator), \n",
    "                              verbose=1)"
   ]
  },
  {
   "cell_type": "markdown",
   "id": "b01c3d31-de83-4b01-9fcb-7532485ab030",
   "metadata": {},
   "source": [
    "#### let's run for 10 more epochs"
   ]
  },
  {
   "cell_type": "code",
   "execution_count": 10,
   "id": "3323dc00-ea69-46b4-93c1-e70c4097292f",
   "metadata": {},
   "outputs": [
    {
     "name": "stdout",
     "output_type": "stream",
     "text": [
      "Epoch 1/10\n",
      "41/41 [==============================] - 53s 1s/step - loss: 0.1581 - auc: 0.9796 - val_loss: 0.6733 - val_auc: 0.9062\n",
      "Epoch 2/10\n",
      "41/41 [==============================] - 52s 1s/step - loss: 0.1520 - auc: 0.9802 - val_loss: 0.4584 - val_auc: 0.8906\n",
      "Epoch 3/10\n",
      "41/41 [==============================] - 51s 1s/step - loss: 0.1580 - auc: 0.9792 - val_loss: 0.6926 - val_auc: 0.8906\n",
      "Epoch 4/10\n",
      "41/41 [==============================] - 52s 1s/step - loss: 0.1507 - auc: 0.9812 - val_loss: 1.0440 - val_auc: 0.8828\n",
      "Epoch 5/10\n",
      "41/41 [==============================] - 53s 1s/step - loss: 0.1554 - auc: 0.9797 - val_loss: 0.6620 - val_auc: 0.9062\n",
      "Epoch 6/10\n",
      "41/41 [==============================] - 51s 1s/step - loss: 0.1419 - auc: 0.9832 - val_loss: 0.8767 - val_auc: 0.9219\n",
      "Epoch 7/10\n",
      "41/41 [==============================] - 51s 1s/step - loss: 0.1582 - auc: 0.9794 - val_loss: 0.4923 - val_auc: 0.9062\n",
      "Epoch 8/10\n",
      "41/41 [==============================] - 51s 1s/step - loss: 0.1411 - auc: 0.9838 - val_loss: 0.9012 - val_auc: 0.9062\n",
      "Epoch 9/10\n",
      "41/41 [==============================] - 52s 1s/step - loss: 0.1323 - auc: 0.9852 - val_loss: 0.7329 - val_auc: 0.9219\n",
      "Epoch 10/10\n",
      "41/41 [==============================] - 52s 1s/step - loss: 0.1342 - auc: 0.9839 - val_loss: 0.7153 - val_auc: 0.9375\n"
     ]
    }
   ],
   "source": [
    "cnn_model = cnn.fit(train_generator, \n",
    "                              steps_per_epoch = len(train_generator), \n",
    "                              epochs = 10, \n",
    "                              validation_data = val_generator,\n",
    "                              validation_steps = len(val_generator), \n",
    "                              verbose=1)"
   ]
  },
  {
   "cell_type": "code",
   "execution_count": 11,
   "id": "517c8969-33af-488e-8790-18f953ef71f8",
   "metadata": {},
   "outputs": [
    {
     "data": {
      "text/plain": [
       "<matplotlib.legend.Legend at 0x7fac04d19dc0>"
      ]
     },
     "execution_count": 11,
     "metadata": {},
     "output_type": "execute_result"
    },
    {
     "data": {
      "image/png": "[encoded data removed]",
      "text/plain": [
       "<Figure size 432x288 with 1 Axes>"
      ]
     },
     "metadata": {
      "needs_background": "light"
     },
     "output_type": "display_data"
    }
   ],
   "source": [
    "fig, ax = plt.subplots()\n",
    "ax.plot(cnn_model.history[\"loss\"],'r', marker='.', label=\"Train Loss\")\n",
    "ax.plot(cnn_model.history[\"val_loss\"],'b', marker='.', label=\"Validation Loss\")\n",
    "ax.legend()"
   ]
  },
  {
   "cell_type": "markdown",
   "id": "d1297a39-5ab4-4f59-8439-fea6ea2e0116",
   "metadata": {},
   "source": [
    "#### Conclusion: "
   ]
  },
  {
   "cell_type": "markdown",
   "id": "5ad34f6e-5a84-488c-8545-efa333c567f7",
   "metadata": {},
   "source": [
    "No more training is needed. The training loss seems to have hit a pleatau so this model will not perform better with more training. "
   ]
  },
  {
   "cell_type": "code",
   "execution_count": null,
   "id": "94b116d4-3c95-4f37-83e3-19a7e125cef2",
   "metadata": {},
   "outputs": [],
   "source": []
  }
 ],
 "metadata": {
  "kernelspec": {
   "display_name": "Python 3",
   "language": "python",
   "name": "python3"
  },
  "language_info": {
   "codemirror_mode": {
    "name": "ipython",
    "version": 3
   },
   "file_extension": ".py",
   "mimetype": "text/x-python",
   "name": "python",
   "nbconvert_exporter": "python",
   "pygments_lexer": "ipython3",
   "version": "3.8.8"
  }
 },
 "nbformat": 4,
 "nbformat_minor": 5
}
