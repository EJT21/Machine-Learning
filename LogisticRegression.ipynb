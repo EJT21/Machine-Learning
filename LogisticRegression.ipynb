{
 "cells": [
  {
   "cell_type": "markdown",
   "id": "2c756545-5e3b-41c7-bd1b-07f9877b3c9d",
   "metadata": {},
   "source": [
    "## Logistic Regression "
   ]
  },
  {
   "cell_type": "code",
   "execution_count": 1,
   "id": "ee11cf93-0e67-4e40-b004-b7ad4531d926",
   "metadata": {},
   "outputs": [],
   "source": [
    "import numpy as np\n",
    "import pandas as pd\n",
    "import matplotlib.pyplot as plt\n",
    "from sklearn import linear_model\n",
    "import matplotlib\n",
    "import sklearn as sk"
   ]
  },
  {
   "cell_type": "code",
   "execution_count": 6,
   "id": "f9d7950d-6a9b-4d31-867a-826d4f69f04f",
   "metadata": {},
   "outputs": [],
   "source": [
    "data = pd.read_csv('admissionData.txt', header=None, names=['Exam 1','Exam 2','Admit'])"
   ]
  },
  {
   "cell_type": "code",
   "execution_count": 7,
   "id": "cd6eedcd-da6d-4caf-98f3-2d8867246268",
   "metadata": {},
   "outputs": [
    {
     "data": {
      "text/html": [
       "<div>\n",
       "<style scoped>\n",
       "    .dataframe tbody tr th:only-of-type {\n",
       "        vertical-align: middle;\n",
       "    }\n",
       "\n",
       "    .dataframe tbody tr th {\n",
       "        vertical-align: top;\n",
       "    }\n",
       "\n",
       "    .dataframe thead th {\n",
       "        text-align: right;\n",
       "    }\n",
       "</style>\n",
       "<table border=\"1\" class=\"dataframe\">\n",
       "  <thead>\n",
       "    <tr style=\"text-align: right;\">\n",
       "      <th></th>\n",
       "      <th>Exam 1</th>\n",
       "      <th>Exam 2</th>\n",
       "      <th>Admit</th>\n",
       "    </tr>\n",
       "  </thead>\n",
       "  <tbody>\n",
       "    <tr>\n",
       "      <th>0</th>\n",
       "      <td>34.623660</td>\n",
       "      <td>78.024693</td>\n",
       "      <td>0</td>\n",
       "    </tr>\n",
       "    <tr>\n",
       "      <th>1</th>\n",
       "      <td>30.286711</td>\n",
       "      <td>43.894998</td>\n",
       "      <td>0</td>\n",
       "    </tr>\n",
       "    <tr>\n",
       "      <th>2</th>\n",
       "      <td>35.847409</td>\n",
       "      <td>72.902198</td>\n",
       "      <td>0</td>\n",
       "    </tr>\n",
       "    <tr>\n",
       "      <th>3</th>\n",
       "      <td>60.182599</td>\n",
       "      <td>86.308552</td>\n",
       "      <td>1</td>\n",
       "    </tr>\n",
       "    <tr>\n",
       "      <th>4</th>\n",
       "      <td>79.032736</td>\n",
       "      <td>75.344376</td>\n",
       "      <td>1</td>\n",
       "    </tr>\n",
       "  </tbody>\n",
       "</table>\n",
       "</div>"
      ],
      "text/plain": [
       "      Exam 1     Exam 2  Admit\n",
       "0  34.623660  78.024693      0\n",
       "1  30.286711  43.894998      0\n",
       "2  35.847409  72.902198      0\n",
       "3  60.182599  86.308552      1\n",
       "4  79.032736  75.344376      1"
      ]
     },
     "execution_count": 7,
     "metadata": {},
     "output_type": "execute_result"
    }
   ],
   "source": [
    "data.head()"
   ]
  },
  {
   "cell_type": "code",
   "execution_count": 8,
   "id": "c822f914-5187-42c7-8511-55b1c2d6543f",
   "metadata": {},
   "outputs": [],
   "source": [
    "examData = data.iloc[:,0:2]\n",
    "admit = data.iloc[:,2]"
   ]
  },
  {
   "cell_type": "code",
   "execution_count": 9,
   "id": "0a48175d-31bd-4a63-aad5-71bd169d2831",
   "metadata": {},
   "outputs": [
    {
     "data": {
      "text/html": [
       "<div>\n",
       "<style scoped>\n",
       "    .dataframe tbody tr th:only-of-type {\n",
       "        vertical-align: middle;\n",
       "    }\n",
       "\n",
       "    .dataframe tbody tr th {\n",
       "        vertical-align: top;\n",
       "    }\n",
       "\n",
       "    .dataframe thead th {\n",
       "        text-align: right;\n",
       "    }\n",
       "</style>\n",
       "<table border=\"1\" class=\"dataframe\">\n",
       "  <thead>\n",
       "    <tr style=\"text-align: right;\">\n",
       "      <th></th>\n",
       "      <th>Exam 1</th>\n",
       "      <th>Exam 2</th>\n",
       "    </tr>\n",
       "  </thead>\n",
       "  <tbody>\n",
       "    <tr>\n",
       "      <th>0</th>\n",
       "      <td>34.623660</td>\n",
       "      <td>78.024693</td>\n",
       "    </tr>\n",
       "    <tr>\n",
       "      <th>1</th>\n",
       "      <td>30.286711</td>\n",
       "      <td>43.894998</td>\n",
       "    </tr>\n",
       "    <tr>\n",
       "      <th>2</th>\n",
       "      <td>35.847409</td>\n",
       "      <td>72.902198</td>\n",
       "    </tr>\n",
       "    <tr>\n",
       "      <th>3</th>\n",
       "      <td>60.182599</td>\n",
       "      <td>86.308552</td>\n",
       "    </tr>\n",
       "    <tr>\n",
       "      <th>4</th>\n",
       "      <td>79.032736</td>\n",
       "      <td>75.344376</td>\n",
       "    </tr>\n",
       "  </tbody>\n",
       "</table>\n",
       "</div>"
      ],
      "text/plain": [
       "      Exam 1     Exam 2\n",
       "0  34.623660  78.024693\n",
       "1  30.286711  43.894998\n",
       "2  35.847409  72.902198\n",
       "3  60.182599  86.308552\n",
       "4  79.032736  75.344376"
      ]
     },
     "execution_count": 9,
     "metadata": {},
     "output_type": "execute_result"
    }
   ],
   "source": [
    "examData.head()"
   ]
  },
  {
   "cell_type": "code",
   "execution_count": 10,
   "id": "7796f9d0-27bc-4b6b-aba0-33304ab44281",
   "metadata": {},
   "outputs": [
    {
     "data": {
      "text/plain": [
       "0    0\n",
       "1    0\n",
       "2    0\n",
       "3    1\n",
       "4    1\n",
       "Name: Admit, dtype: int64"
      ]
     },
     "execution_count": 10,
     "metadata": {},
     "output_type": "execute_result"
    }
   ],
   "source": [
    "admit.head()"
   ]
  },
  {
   "cell_type": "markdown",
   "id": "01e2fa62-ba8d-4d17-b9f7-679446f78353",
   "metadata": {},
   "source": [
    "#### Now lets do some exploratory analysis and look at the distribution of the data"
   ]
  },
  {
   "cell_type": "code",
   "execution_count": 22,
   "id": "949104fd-0e60-47ce-8405-a0bbd613bd0c",
   "metadata": {},
   "outputs": [
    {
     "data": {
      "text/plain": [
       "[Text(0.5, 0, 'Exam 1'), Text(0, 0.5, 'Exam 2')]"
      ]
     },
     "execution_count": 22,
     "metadata": {},
     "output_type": "execute_result"
    },
    {
     "data": {
      "image/png": "[encoded data removed]",
      "text/plain": [
       "<Figure size 432x288 with 1 Axes>"
      ]
     },
     "metadata": {
      "needs_background": "light"
     },
     "output_type": "display_data"
    }
   ],
   "source": [
    "fig, ax = plt.subplots()\n",
    "ax.scatter(examData[['Exam 1']],examData[['Exam 2']],c=admit, cmap=matplotlib.colors.ListedColormap(['red','green']))\n",
    "ax.set(xlabel = 'Exam 1', ylabel='Exam 2')"
   ]
  },
  {
   "cell_type": "markdown",
   "id": "19d61d68-1505-40bd-b0c5-5b0c49c78e1b",
   "metadata": {},
   "source": [
    "#### We can see this is a logistic regression problem, this is because we can almost draw a \"Decision Boundary\" whether a student will be admitted or not"
   ]
  },
  {
   "cell_type": "markdown",
   "id": "2f840751-cf3a-4f6f-9762-35c5c1e236fd",
   "metadata": {},
   "source": [
    "#### Lets build a logistic regression model "
   ]
  },
  {
   "cell_type": "code",
   "execution_count": 23,
   "id": "be945251-d047-44f6-96b2-f3ec265efcd7",
   "metadata": {},
   "outputs": [],
   "source": [
    "logreg = sk.linear_model.LogisticRegression(random_state=25)"
   ]
  },
  {
   "cell_type": "code",
   "execution_count": 25,
   "id": "3fa0c9dd-81f7-4a65-a708-78d7f76e418f",
   "metadata": {},
   "outputs": [
    {
     "data": {
      "text/plain": [
       "LogisticRegression(random_state=25)"
      ]
     },
     "execution_count": 25,
     "metadata": {},
     "output_type": "execute_result"
    }
   ],
   "source": [
    "logreg.fit(examData, admit)"
   ]
  },
  {
   "cell_type": "code",
   "execution_count": 26,
   "id": "320e3e95-5d58-42e9-91f6-48e0b98d51cb",
   "metadata": {},
   "outputs": [
    {
     "data": {
      "text/plain": [
       "array([0, 0, 0, 1, 1, 0, 1, 0, 1, 1, 1, 0, 1, 1, 0, 1, 0, 0, 1, 1, 0, 1,\n",
       "       0, 0, 1, 1, 1, 1, 0, 0, 1, 1, 0, 0, 0, 0, 1, 1, 0, 0, 1, 0, 1, 1,\n",
       "       0, 0, 1, 1, 1, 1, 1, 1, 1, 0, 0, 0, 1, 1, 1, 1, 1, 0, 0, 0, 0, 0,\n",
       "       1, 0, 1, 1, 0, 1, 1, 1, 1, 1, 1, 1, 0, 1, 1, 1, 1, 0, 1, 1, 0, 1,\n",
       "       1, 0, 1, 1, 0, 1, 1, 1, 1, 1, 0, 1])"
      ]
     },
     "execution_count": 26,
     "metadata": {},
     "output_type": "execute_result"
    }
   ],
   "source": [
    "logreg.predict(examData)"
   ]
  },
  {
   "cell_type": "code",
   "execution_count": 27,
   "id": "23f26046-666f-462d-b52c-e5a0a8d83f86",
   "metadata": {},
   "outputs": [
    {
     "data": {
      "text/plain": [
       "0.89"
      ]
     },
     "execution_count": 27,
     "metadata": {},
     "output_type": "execute_result"
    }
   ],
   "source": [
    "np.sum(logreg.predict(examData)==admit)/len(examData)"
   ]
  },
  {
   "cell_type": "markdown",
   "id": "ded1a33a-fdb6-4d26-804a-963105fd0277",
   "metadata": {},
   "source": [
    "#### This model gives a 89% accuracy, which is better than a random guess, now lets look at specifc exam scores with their correspoding probability"
   ]
  },
  {
   "cell_type": "code",
   "execution_count": 29,
   "id": "8748b5a6-55c3-465d-8779-2488a5b82406",
   "metadata": {},
   "outputs": [],
   "source": [
    "exam1 = np.array([67, 60, 65])\n",
    "exam2 = np.array([55, 63, 60])"
   ]
  },
  {
   "cell_type": "code",
   "execution_count": 34,
   "id": "ec0a1938-54bd-41d5-bf9a-a3797da481f4",
   "metadata": {},
   "outputs": [
    {
     "data": {
      "text/plain": [
       "array([[67, 55],\n",
       "       [60, 63],\n",
       "       [65, 60]])"
      ]
     },
     "execution_count": 34,
     "metadata": {},
     "output_type": "execute_result"
    }
   ],
   "source": [
    "np.stack([exam1, exam2], axis=1)"
   ]
  },
  {
   "cell_type": "code",
   "execution_count": 35,
   "id": "4152e9b5-99b1-48f1-bef4-3fd6d9a6d070",
   "metadata": {},
   "outputs": [
    {
     "data": {
      "text/plain": [
       "array([0, 0, 1])"
      ]
     },
     "execution_count": 35,
     "metadata": {},
     "output_type": "execute_result"
    }
   ],
   "source": [
    "logreg.predict(np.stack([exam1, exam2], axis=1))"
   ]
  },
  {
   "cell_type": "markdown",
   "id": "2c2586cc-df30-43bb-abf1-db70ae63df62",
   "metadata": {},
   "source": [
    "#### So the first two correspodning exam grades are predicted to not be admitted, while the third is predicted to be permited"
   ]
  },
  {
   "cell_type": "code",
   "execution_count": 36,
   "id": "d1d586f9-3e37-4277-931b-cce54784eec5",
   "metadata": {},
   "outputs": [
    {
     "data": {
      "text/plain": [
       "array([[0.56495702, 0.43504298],\n",
       "       [0.52351234, 0.47648766],\n",
       "       [0.41802059, 0.58197941]])"
      ]
     },
     "execution_count": 36,
     "metadata": {},
     "output_type": "execute_result"
    }
   ],
   "source": [
    "logreg.predict_proba(np.stack([exam1, exam2], axis=1))"
   ]
  },
  {
   "cell_type": "markdown",
   "id": "33501ebd-8447-4b12-a50b-9824bf2d73b9",
   "metadata": {},
   "source": [
    "#### Furthermore, the first student will have a 56% chance of being rejected, and a 43% chance of being accepted"
   ]
  },
  {
   "cell_type": "markdown",
   "id": "5023bcec-fdca-4786-bf4d-f805b1cf9a0b",
   "metadata": {},
   "source": [
    "#### Looking at more data points we can see that this probability is dependent on the exam scores. Looking at more data points we can see that the probabilities can drastically change"
   ]
  },
  {
   "cell_type": "code",
   "execution_count": 37,
   "id": "2d25c606-de05-4afe-9722-5eaaddf824e7",
   "metadata": {},
   "outputs": [],
   "source": [
    "e1 = np.array([90, 95, 98, 90, 95, 48, 90, 30])\n",
    "e2 = np.array([95, 90, 90, 98, 48, 95, 30, 90])"
   ]
  },
  {
   "cell_type": "code",
   "execution_count": 38,
   "id": "d3ce9bb7-d19a-4824-9e03-eb7de1f86870",
   "metadata": {},
   "outputs": [
    {
     "data": {
      "text/plain": [
       "array([1, 1, 1, 1, 1, 1, 0, 0])"
      ]
     },
     "execution_count": 38,
     "metadata": {},
     "output_type": "execute_result"
    }
   ],
   "source": [
    "logreg.predict(np.stack([e1, e2], axis=1))"
   ]
  },
  {
   "cell_type": "code",
   "execution_count": 39,
   "id": "18baa716-d880-469f-8187-77425c2618a1",
   "metadata": {},
   "outputs": [
    {
     "data": {
      "text/plain": [
       "array([[3.78216443e-06, 9.99996218e-01],\n",
       "       [3.69300686e-06, 9.99996307e-01],\n",
       "       [1.99446921e-06, 9.99998006e-01],\n",
       "       [2.07206718e-06, 9.99997928e-01],\n",
       "       [1.65521908e-02, 9.83447809e-01],\n",
       "       [2.06271547e-02, 9.79372845e-01],\n",
       "       [6.34770346e-01, 3.65229654e-01],\n",
       "       [6.98255284e-01, 3.01744716e-01]])"
      ]
     },
     "execution_count": 39,
     "metadata": {},
     "output_type": "execute_result"
    }
   ],
   "source": [
    "logreg.predict_proba(np.stack([e1, e2], axis=1))"
   ]
  },
  {
   "cell_type": "markdown",
   "id": "1e05d135-b5fe-4f4d-902b-eb793c67c15b",
   "metadata": {},
   "source": [
    "#### The first and second student have almost a 99% chance of being accepcted, which makes sense since their exam scores were both high"
   ]
  },
  {
   "cell_type": "code",
   "execution_count": null,
   "id": "0324b1fe-2a2b-484a-8310-019a482ceeb8",
   "metadata": {},
   "outputs": [],
   "source": []
  }
 ],
 "metadata": {
  "kernelspec": {
   "display_name": "Python 3",
   "language": "python",
   "name": "python3"
  },
  "language_info": {
   "codemirror_mode": {
    "name": "ipython",
    "version": 3
   },
   "file_extension": ".py",
   "mimetype": "text/x-python",
   "name": "python",
   "nbconvert_exporter": "python",
   "pygments_lexer": "ipython3",
   "version": "3.8.8"
  }
 },
 "nbformat": 4,
 "nbformat_minor": 5
}
