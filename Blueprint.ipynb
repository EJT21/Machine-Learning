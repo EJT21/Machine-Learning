{
 "cells": [
  {
   "cell_type": "markdown",
   "id": "9aeb2dbe-2383-40cb-bb77-e922a22f6ff4",
   "metadata": {},
   "source": [
    "## Data Science Blueprint"
   ]
  },
  {
   "cell_type": "markdown",
   "id": "8609d2a8-b7f8-45d9-994d-740be5c04f65",
   "metadata": {},
   "source": [
    "#### Step 1: load all libraies needed"
   ]
  },
  {
   "cell_type": "code",
   "execution_count": 1,
   "id": "e5cc75bc-7417-4b0e-bae2-bcf73f5b74d8",
   "metadata": {},
   "outputs": [],
   "source": [
    "import pandas as pd\n",
    "import numpy as np"
   ]
  },
  {
   "cell_type": "markdown",
   "id": "c4cb5fa1-a6ab-4bca-bb5e-dc6dc89e7bdd",
   "metadata": {},
   "source": [
    "#### Step 2: data visualizations "
   ]
  },
  {
   "cell_type": "code",
   "execution_count": 26,
   "id": "bebf099b-30c3-4c16-9fab-73f3f782afc9",
   "metadata": {},
   "outputs": [],
   "source": [
    "import seaborn as sns\n",
    "import matplotlib as plt"
   ]
  },
  {
   "cell_type": "markdown",
   "id": "3652e4d7-4e25-43a5-8d30-47f1cb5b7ad0",
   "metadata": {},
   "source": [
    "#### Step 3: Split into training and test data"
   ]
  },
  {
   "cell_type": "code",
   "execution_count": 7,
   "id": "1d4870bc-c580-459d-b821-bec441880b6f",
   "metadata": {},
   "outputs": [],
   "source": [
    "from sklearn.model_selection import train_test_split\n",
    "#X = df.iloc[:,:-1]\n",
    "#y = df.iloc[:,-1]\n",
    "#X_train, X_test, y_train, y_test = train_test_split(X, y, test_size=.2, random_state=1)"
   ]
  },
  {
   "cell_type": "markdown",
   "id": "a4a4a6d4-284c-494b-a952-aff21f9b989a",
   "metadata": {},
   "source": [
    "#### Step 4: clean data"
   ]
  },
  {
   "cell_type": "markdown",
   "id": "cdcdf43d-4881-438f-819d-ea70a4393dab",
   "metadata": {},
   "source": [
    "***View where there is missing data then fill it by imputting the data***"
   ]
  },
  {
   "cell_type": "code",
   "execution_count": 2,
   "id": "527348b5-5586-4974-a57b-19655f92d4c8",
   "metadata": {},
   "outputs": [],
   "source": [
    "from sklearn.impute import SimpleImputer"
   ]
  },
  {
   "cell_type": "code",
   "execution_count": 3,
   "id": "622fea59-a79f-478c-adcc-fcebe0ff69ff",
   "metadata": {},
   "outputs": [],
   "source": [
    "#np.sum(data.isna()) where data is the name of the dataframe"
   ]
  },
  {
   "cell_type": "code",
   "execution_count": 4,
   "id": "e273894f-e3ef-4aa6-8b93-3a063b83f9f2",
   "metadata": {},
   "outputs": [],
   "source": [
    "#impute here. Do for every column needed"
   ]
  },
  {
   "cell_type": "code",
   "execution_count": null,
   "id": "95e9a42e-21cb-4d09-a1d8-282207ee960d",
   "metadata": {},
   "outputs": [],
   "source": [
    "#imputer = SimpleImputer(missing_values=np.nan, strategy='most_frequent') \n",
    "#imputer = imputer.fit(X_train[['col_name']])\n",
    "#X_train['col_name'] = imputer.transform(X_train[['col_name']])"
   ]
  },
  {
   "cell_type": "markdown",
   "id": "8933070b-66d6-47fd-b6ed-cf68840c10bf",
   "metadata": {},
   "source": [
    "#### Step 5: scale data"
   ]
  },
  {
   "cell_type": "code",
   "execution_count": 9,
   "id": "106b04b9-0953-489c-a839-bf44b195e561",
   "metadata": {},
   "outputs": [],
   "source": [
    "from sklearn.preprocessing import StandardScaler as Scaler"
   ]
  },
  {
   "cell_type": "code",
   "execution_count": null,
   "id": "f49e529a-0a05-4533-8933-030522830368",
   "metadata": {},
   "outputs": [],
   "source": [
    "#scaler = Scaler()\n",
    "#scaler.fit(X_train.iloc[:,:])\n",
    "#X_train.iloc[:,:]= scaler.transform(X_train.iloc[:,:])"
   ]
  },
  {
   "cell_type": "code",
   "execution_count": 10,
   "id": "1353f097-31ed-48f0-a5b0-18045dcfb524",
   "metadata": {},
   "outputs": [],
   "source": [
    "#scaler = Scaler()\n",
    "#scaler.fit(X_train.iloc[:,:])\n",
    "#X_test.iloc[:,:]= scaler.transform(X_train.iloc[:,:])"
   ]
  },
  {
   "cell_type": "markdown",
   "id": "7f3197eb-8784-4ca2-b32d-8d951db0d532",
   "metadata": {},
   "source": [
    "#### Step 6: label encode target variable (if needed)"
   ]
  },
  {
   "cell_type": "code",
   "execution_count": 11,
   "id": "35818021-789a-446b-9ef3-3a49a4269825",
   "metadata": {},
   "outputs": [],
   "source": [
    "from sklearn.preprocessing import LabelEncoder"
   ]
  },
  {
   "cell_type": "code",
   "execution_count": 12,
   "id": "bf69fd23-b64c-499f-8335-52c5b401f276",
   "metadata": {},
   "outputs": [],
   "source": [
    "#label_encoder = LabelEncoder()\n",
    "#label_encoder.fit(y_train)\n",
    "#y_train = label_encoder.transform(y_train)"
   ]
  },
  {
   "cell_type": "code",
   "execution_count": 13,
   "id": "6cfcf924-57e6-481c-b9f6-497bb6121bd2",
   "metadata": {},
   "outputs": [],
   "source": [
    "#label_encoder = LabelEncoder()\n",
    "#label_encoder.fit(y_test)\n",
    "#y_test = label_encoder.transform(y_test)"
   ]
  },
  {
   "cell_type": "markdown",
   "id": "b95416e7-e756-4c4e-bf06-e9fbabf4da8e",
   "metadata": {},
   "source": [
    "#### Step 7: perform k-fold cross validation and gridsearchcv"
   ]
  },
  {
   "cell_type": "code",
   "execution_count": 18,
   "id": "3cee3b4b-1565-4a02-8496-6d5736c52b59",
   "metadata": {},
   "outputs": [],
   "source": [
    "from sklearn.linear_model import LogisticRegression\n",
    "from sklearn.neighbors import KNeighborsClassifier\n",
    "from sklearn.naive_bayes import GaussianNB\n",
    "from sklearn.svm import SVC\n",
    "from sklearn.svm import LinearSVC\n",
    "from sklearn.ensemble import RandomForestClassifier\n",
    "from sklearn.tree import DecisionTreeRegressor\n",
    "from sklearn.model_selection import KFold\n",
    "from sklearn import model_selection\n",
    "from xgboost import XGBClassifier"
   ]
  },
  {
   "cell_type": "code",
   "execution_count": 19,
   "id": "cf1922d5-095e-4f35-90ec-3c2485be9df2",
   "metadata": {},
   "outputs": [],
   "source": [
    "models = []\n",
    "models.append(('LR', LogisticRegression()))\n",
    "models.append(('KNN', KNeighborsClassifier()))\n",
    "models.append(('NB', GaussianNB()))\n",
    "models.append(('SVC', SVC()))\n",
    "models.append(('LSVC', LinearSVC()))\n",
    "models.append(('RFC', RandomForestClassifier()))\n",
    "models.append(('DTR', DecisionTreeRegressor()))\n",
    "models.append(('xgb', XGBClassifier()))"
   ]
  },
  {
   "cell_type": "code",
   "execution_count": null,
   "id": "d2a6754a-6f44-470a-aa88-8048867dc5a8",
   "metadata": {},
   "outputs": [],
   "source": [
    "seed = 7\n",
    "results = []\n",
    "names = []\n",
    "X = X_train\n",
    "Y = y_train\n",
    "for name, model in models:\n",
    "    kfold = model_selection.KFold( n_splits=10, shuffle=True,random_state=42)\n",
    "    cv_results = model_selection.cross_val_score(model, X, Y, cv=kfold, scoring='accuracy')\n",
    "    results.append(cv_results)\n",
    "    names.append(name)\n",
    "    msg = \"%s: %f (%f)\" % (\n",
    "        name, cv_results.mean(), cv_results.std())\n",
    "    print(msg)"
   ]
  },
  {
   "cell_type": "markdown",
   "id": "e261d6fb-4424-4b82-b606-a3aee5c00471",
   "metadata": {},
   "source": [
    "***Hypertune here***"
   ]
  },
  {
   "cell_type": "markdown",
   "id": "2c884a67-5b1d-4683-9be0-511d1b02e43a",
   "metadata": {},
   "source": [
    "from sklearn.model_selection import GridSearchCV\n",
    "\n",
    "## We first create a dictionary of parameters and their values to explore \n",
    "\n",
    "param_grid = {\n",
    "    #parameters here\n",
    "}\n",
    "\n",
    "model = #SVC()\n",
    "\n",
    "grid_search = GridSearchCV(\n",
    "    model, param_grid, cv=10, scoring='accuracy')\n",
    "grid_search.fit(X_train, y_train)"
   ]
  },
  {
   "cell_type": "code",
   "execution_count": 20,
   "id": "42153e58-287a-4128-8003-cdb463b9cecd",
   "metadata": {},
   "outputs": [],
   "source": [
    "import tensorflow as tf"
   ]
  },
  {
   "cell_type": "code",
   "execution_count": 21,
   "id": "3eaa3475-7331-415e-b2a4-b1166528508c",
   "metadata": {},
   "outputs": [],
   "source": [
    "#ann = tf.keras.models.Sequential()\n",
    "#ann.add(tf.keras.layers.Dense(units=12, activation='relu'))\n",
    "#ann.add(tf.keras.layers.Dense(units=6, activation='relu'))\n",
    "#ann.add(tf.keras.layers.Dense(units=1, activation='sigmoid'))\n",
    "#ann.compile(optimizer = 'adam', loss = 'binary_crossentropy', metrics = [\"accuracy\"])\n",
    "#ann.fit(X_train, y_train, batch_size = 32, epochs = 100)"
   ]
  },
  {
   "cell_type": "markdown",
   "id": "1c8c5fde-e869-407b-9f2a-dfa2d87d64bf",
   "metadata": {},
   "source": [
    "#### Step 8: make predictions and analyze model"
   ]
  },
  {
   "cell_type": "code",
   "execution_count": 23,
   "id": "2f3f59b8-5c62-419c-a7ab-e5d94ff7d2a0",
   "metadata": {},
   "outputs": [],
   "source": [
    "from sklearn import metrics"
   ]
  },
  {
   "cell_type": "code",
   "execution_count": null,
   "id": "d2377195-1f62-48d6-8091-5e523a209604",
   "metadata": {},
   "outputs": [],
   "source": [
    "y_pred = clf.predict(X_test)\n",
    "print(metrics.classification_report(y_test, y_pred))"
   ]
  },
  {
   "cell_type": "markdown",
   "id": "04423a51-709b-4213-a540-bf8232c7dd88",
   "metadata": {},
   "source": [
    "#### Step 9: Make predictions on future data"
   ]
  },
  {
   "cell_type": "code",
   "execution_count": 24,
   "id": "995f8723-9687-4461-91e4-f168013f4ef3",
   "metadata": {},
   "outputs": [],
   "source": [
    "#test = pd.read_csv('test.csv')\n",
    "\n",
    "#imputer = SimpleImputer(missing_values=np.nan, strategy='most_frequent') \n",
    "#imputer = imputer.fit(X_train[['col_name']])\n",
    "#X_train['col_name'] = imputer.transform(X_train[['col_name']])\n",
    "\n",
    "#scaler = Scaler()\n",
    "#scaler.fit(X_train.iloc[:,:])\n",
    "#X_train.iloc[:,:]= scaler.transform(X_train.iloc[:,:])"
   ]
  },
  {
   "cell_type": "markdown",
   "id": "f2b82d30-b0f8-4d43-8ca2-17f1bbc22e68",
   "metadata": {},
   "source": [
    "#### Step 10: create a data pipeline"
   ]
  },
  {
   "cell_type": "code",
   "execution_count": 25,
   "id": "4a07fef0-d6ee-45ee-b530-9b230cdf14fc",
   "metadata": {},
   "outputs": [],
   "source": [
    "from sklearn.compose import ColumnTransformer\n",
    "from sklearn.pipeline import Pipeline\n",
    "from sklearn.impute import SimpleImputer\n",
    "from sklearn.preprocessing import StandardScaler, OneHotEncoder\n",
    "from sklearn.linear_model import LogisticRegression"
   ]
  },
  {
   "cell_type": "markdown",
   "id": "af35d3ab-5f9c-4a51-b8ce-ff41d6472718",
   "metadata": {},
   "source": [
    "numeric_features = [\"rating\",\"num_reviews\",]\n",
    "numeric_transformer = Pipeline(\n",
    "    steps=[(\"imputer\", SimpleImputer(strategy=\"most_frequent\")),(\"encoder\", OrdinalEncoder()) ,(\"scaler\", StandardScaler()),]\n",
    ")\n",
    "\n",
    "categorical_features = [\"winery\", \"wine\", \"country\",\"region\",\"type\",\"year\",\"body\",\"acidity\"]\n",
    "cat_transformer = Pipeline(\n",
    "    steps=[(\"imputer\", SimpleImputer(strategy=\"most_frequent\")),(\"encoder\", OrdinalEncoder()) ,(\"scaler\", StandardScaler()),]\n",
    ")\n",
    "preprocessor = ColumnTransformer(\n",
    "    transformers=[\n",
    "        (\"num\", numeric_transformer, numeric_features),\n",
    "        (\"cat\", cat_transformer, categorical_features),\n",
    "    ]\n",
    ")\n",
    "clf = Pipeline(\n",
    "    steps=[(\"preprocessor\", preprocessor), (\"classifier\", LogisticRegression())]\n",
    ")"
   ]
  },
  {
   "cell_type": "code",
   "execution_count": null,
   "id": "bd381ef7-df98-460e-99cd-0a96d304eb9c",
   "metadata": {},
   "outputs": [],
   "source": [
    "X = data.iloc[:,0:10]\n",
    "y = data.iloc[:,-1]\n",
    "X_train, X_test, y_train, y_test = train_test_split(X, y, test_size=.2, random_state=104)\n",
    "label_encoder = LabelEncoder()\n",
    "label_encoder.fit(y_train)\n",
    "y_train = label_encoder.transform(y_train)"
   ]
  },
  {
   "cell_type": "code",
   "execution_count": null,
   "id": "a7c42e61-a769-40e8-b07d-828b2432a35c",
   "metadata": {},
   "outputs": [],
   "source": [
    "myModel = clf.fit(X_train, y_train)\n",
    "myModel.score(X_test, y_test)"
   ]
  }
 ],
 "metadata": {
  "kernelspec": {
   "display_name": "Python 3",
   "language": "python",
   "name": "python3"
  },
  "language_info": {
   "codemirror_mode": {
    "name": "ipython",
    "version": 3
   },
   "file_extension": ".py",
   "mimetype": "text/x-python",
   "name": "python",
   "nbconvert_exporter": "python",
   "pygments_lexer": "ipython3",
   "version": "3.8.8"
  }
 },
 "nbformat": 4,
 "nbformat_minor": 5
}
