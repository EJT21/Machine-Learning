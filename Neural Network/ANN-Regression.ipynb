{
 "cells": [
  {
   "cell_type": "markdown",
   "id": "52ddf631-9752-4402-8d70-9243e2d1ffcb",
   "metadata": {},
   "source": [
    "## ANN Regression"
   ]
  },
  {
   "cell_type": "markdown",
   "id": "ea292f4b-2655-4c13-979d-1de8a3c6a488",
   "metadata": {},
   "source": [
    "#### Importing Libraries"
   ]
  },
  {
   "cell_type": "code",
   "execution_count": 78,
   "id": "9926286b-ac8c-42b1-881d-4f51418a2c3f",
   "metadata": {},
   "outputs": [],
   "source": [
    "import pandas as pd\n",
    "import numpy as np\n",
    "import tensorflow as tf"
   ]
  },
  {
   "cell_type": "markdown",
   "id": "756fd49b-bb5c-488c-a0ef-04b776ac7b05",
   "metadata": {},
   "source": [
    "#### Data preprocessing"
   ]
  },
  {
   "cell_type": "code",
   "execution_count": 79,
   "id": "59ff5fa8-398d-414a-ae7b-b0eb8bd9b178",
   "metadata": {},
   "outputs": [],
   "source": [
    "dataset = pd.read_excel('Folds5x2_pp.xlsx')\n",
    "#This dataset is a uci dataset, it can be found at this site \n",
    "#https://archive.ics.uci.edu/ml/datasets/Combined+Cycle+Power+Plant"
   ]
  },
  {
   "cell_type": "code",
   "execution_count": 80,
   "id": "0d5dc8a3-01dd-4509-85e9-3ad406bce655",
   "metadata": {},
   "outputs": [
    {
     "data": {
      "text/html": [
       "<div>\n",
       "<style scoped>\n",
       "    .dataframe tbody tr th:only-of-type {\n",
       "        vertical-align: middle;\n",
       "    }\n",
       "\n",
       "    .dataframe tbody tr th {\n",
       "        vertical-align: top;\n",
       "    }\n",
       "\n",
       "    .dataframe thead th {\n",
       "        text-align: right;\n",
       "    }\n",
       "</style>\n",
       "<table border=\"1\" class=\"dataframe\">\n",
       "  <thead>\n",
       "    <tr style=\"text-align: right;\">\n",
       "      <th></th>\n",
       "      <th>AT</th>\n",
       "      <th>V</th>\n",
       "      <th>AP</th>\n",
       "      <th>RH</th>\n",
       "      <th>PE</th>\n",
       "    </tr>\n",
       "  </thead>\n",
       "  <tbody>\n",
       "    <tr>\n",
       "      <th>0</th>\n",
       "      <td>14.96</td>\n",
       "      <td>41.76</td>\n",
       "      <td>1024.07</td>\n",
       "      <td>73.17</td>\n",
       "      <td>463.26</td>\n",
       "    </tr>\n",
       "    <tr>\n",
       "      <th>1</th>\n",
       "      <td>25.18</td>\n",
       "      <td>62.96</td>\n",
       "      <td>1020.04</td>\n",
       "      <td>59.08</td>\n",
       "      <td>444.37</td>\n",
       "    </tr>\n",
       "    <tr>\n",
       "      <th>2</th>\n",
       "      <td>5.11</td>\n",
       "      <td>39.40</td>\n",
       "      <td>1012.16</td>\n",
       "      <td>92.14</td>\n",
       "      <td>488.56</td>\n",
       "    </tr>\n",
       "    <tr>\n",
       "      <th>3</th>\n",
       "      <td>20.86</td>\n",
       "      <td>57.32</td>\n",
       "      <td>1010.24</td>\n",
       "      <td>76.64</td>\n",
       "      <td>446.48</td>\n",
       "    </tr>\n",
       "    <tr>\n",
       "      <th>4</th>\n",
       "      <td>10.82</td>\n",
       "      <td>37.50</td>\n",
       "      <td>1009.23</td>\n",
       "      <td>96.62</td>\n",
       "      <td>473.90</td>\n",
       "    </tr>\n",
       "  </tbody>\n",
       "</table>\n",
       "</div>"
      ],
      "text/plain": [
       "      AT      V       AP     RH      PE\n",
       "0  14.96  41.76  1024.07  73.17  463.26\n",
       "1  25.18  62.96  1020.04  59.08  444.37\n",
       "2   5.11  39.40  1012.16  92.14  488.56\n",
       "3  20.86  57.32  1010.24  76.64  446.48\n",
       "4  10.82  37.50  1009.23  96.62  473.90"
      ]
     },
     "execution_count": 80,
     "metadata": {},
     "output_type": "execute_result"
    }
   ],
   "source": [
    "dataset.head()"
   ]
  },
  {
   "cell_type": "markdown",
   "id": "e42569c1-49c8-4d72-bc64-f0b6f161c121",
   "metadata": {},
   "source": [
    "***We want to predict the PE***"
   ]
  },
  {
   "cell_type": "code",
   "execution_count": 81,
   "id": "3ce227a7-9d9d-4087-95fe-1a0164b2b84d",
   "metadata": {},
   "outputs": [],
   "source": [
    "X = dataset.iloc[:,:-1].values\n",
    "y = dataset.iloc[:,-1].values"
   ]
  },
  {
   "cell_type": "code",
   "execution_count": 82,
   "id": "5859e01f-a280-48be-927e-fc3293b22f57",
   "metadata": {},
   "outputs": [],
   "source": [
    "from sklearn.model_selection import train_test_split\n",
    "X_train, X_test, y_train, y_test = train_test_split(X, y, test_size=.2, random_state=0)"
   ]
  },
  {
   "cell_type": "markdown",
   "id": "2a42332c-d56a-49f6-aa0a-fb2de28dbccb",
   "metadata": {},
   "source": [
    "#### Building the ANN"
   ]
  },
  {
   "cell_type": "code",
   "execution_count": 83,
   "id": "ff6ee83c-7bdc-42bf-af01-7909732cecb3",
   "metadata": {},
   "outputs": [],
   "source": [
    "ann = tf.keras.models.Sequential()"
   ]
  },
  {
   "cell_type": "code",
   "execution_count": 84,
   "id": "159b0326-eff1-4e6f-aff5-4d86da399c10",
   "metadata": {},
   "outputs": [],
   "source": [
    "ann.add(tf.keras.layers.Dense(units=6, activation='relu')) #Hidden\n",
    "ann.add(tf.keras.layers.Dense(units=6, activation='relu')) #Hidden\n",
    "ann.add(tf.keras.layers.Dense(units=1))                    #Output - default activation is none"
   ]
  },
  {
   "cell_type": "code",
   "execution_count": 85,
   "id": "7ad8c49b-20b8-4b5f-9df2-23fb8973c362",
   "metadata": {},
   "outputs": [],
   "source": [
    "ann.compile(optimizer = 'adam', loss = 'mean_squared_error') #Adam is the most popular for SGD"
   ]
  },
  {
   "cell_type": "markdown",
   "id": "dfd312bf-86e9-4cd6-b630-279c2cc0cc0c",
   "metadata": {},
   "source": [
    "#### Training the ANN"
   ]
  },
  {
   "cell_type": "code",
   "execution_count": 86,
   "id": "d176230d-cdfd-4c91-976f-bbdd8c404538",
   "metadata": {},
   "outputs": [
    {
     "name": "stdout",
     "output_type": "stream",
     "text": [
      "Epoch 1/100\n",
      "240/240 [==============================] - 0s 782us/step - loss: 47642.5469\n",
      "Epoch 2/100\n",
      "240/240 [==============================] - 0s 734us/step - loss: 514.2196\n",
      "Epoch 3/100\n",
      "240/240 [==============================] - 0s 727us/step - loss: 489.7797\n",
      "Epoch 4/100\n",
      "240/240 [==============================] - 0s 756us/step - loss: 460.7893\n",
      "Epoch 5/100\n",
      "240/240 [==============================] - 0s 752us/step - loss: 426.9282\n",
      "Epoch 6/100\n",
      "240/240 [==============================] - 0s 720us/step - loss: 390.7608\n",
      "Epoch 7/100\n",
      "240/240 [==============================] - 0s 730us/step - loss: 352.9593\n",
      "Epoch 8/100\n",
      "240/240 [==============================] - 0s 713us/step - loss: 314.3546\n",
      "Epoch 9/100\n",
      "240/240 [==============================] - 0s 710us/step - loss: 274.4255\n",
      "Epoch 10/100\n",
      "240/240 [==============================] - 0s 749us/step - loss: 234.7296\n",
      "Epoch 11/100\n",
      "240/240 [==============================] - 0s 762us/step - loss: 196.3893\n",
      "Epoch 12/100\n",
      "240/240 [==============================] - 0s 754us/step - loss: 159.7584\n",
      "Epoch 13/100\n",
      "240/240 [==============================] - 0s 761us/step - loss: 126.6019\n",
      "Epoch 14/100\n",
      "240/240 [==============================] - 0s 804us/step - loss: 97.2488\n",
      "Epoch 15/100\n",
      "240/240 [==============================] - 0s 748us/step - loss: 73.8955\n",
      "Epoch 16/100\n",
      "240/240 [==============================] - 0s 722us/step - loss: 56.5066\n",
      "Epoch 17/100\n",
      "240/240 [==============================] - 0s 709us/step - loss: 45.2351\n",
      "Epoch 18/100\n",
      "240/240 [==============================] - 0s 735us/step - loss: 38.4556\n",
      "Epoch 19/100\n",
      "240/240 [==============================] - 0s 747us/step - loss: 35.7066\n",
      "Epoch 20/100\n",
      "240/240 [==============================] - 0s 761us/step - loss: 33.9090\n",
      "Epoch 21/100\n",
      "240/240 [==============================] - 0s 758us/step - loss: 32.8728\n",
      "Epoch 22/100\n",
      "240/240 [==============================] - 0s 762us/step - loss: 32.2798\n",
      "Epoch 23/100\n",
      "240/240 [==============================] - 0s 757us/step - loss: 32.1703\n",
      "Epoch 24/100\n",
      "240/240 [==============================] - 0s 749us/step - loss: 31.6757\n",
      "Epoch 25/100\n",
      "240/240 [==============================] - 0s 750us/step - loss: 31.4693\n",
      "Epoch 26/100\n",
      "240/240 [==============================] - 0s 862us/step - loss: 31.2006\n",
      "Epoch 27/100\n",
      "240/240 [==============================] - 0s 820us/step - loss: 30.5176\n",
      "Epoch 28/100\n",
      "240/240 [==============================] - 0s 734us/step - loss: 30.4075\n",
      "Epoch 29/100\n",
      "240/240 [==============================] - 0s 716us/step - loss: 29.7746\n",
      "Epoch 30/100\n",
      "240/240 [==============================] - 0s 702us/step - loss: 29.6785\n",
      "Epoch 31/100\n",
      "240/240 [==============================] - 0s 701us/step - loss: 29.3604\n",
      "Epoch 32/100\n",
      "240/240 [==============================] - 0s 690us/step - loss: 28.9336\n",
      "Epoch 33/100\n",
      "240/240 [==============================] - 0s 767us/step - loss: 28.5140\n",
      "Epoch 34/100\n",
      "240/240 [==============================] - 0s 710us/step - loss: 29.1348\n",
      "Epoch 35/100\n",
      "240/240 [==============================] - 0s 715us/step - loss: 28.4445\n",
      "Epoch 36/100\n",
      "240/240 [==============================] - 0s 715us/step - loss: 28.5100\n",
      "Epoch 37/100\n",
      "240/240 [==============================] - 0s 706us/step - loss: 27.8610\n",
      "Epoch 38/100\n",
      "240/240 [==============================] - 0s 686us/step - loss: 27.6409\n",
      "Epoch 39/100\n",
      "240/240 [==============================] - 0s 686us/step - loss: 27.8878\n",
      "Epoch 40/100\n",
      "240/240 [==============================] - 0s 689us/step - loss: 27.6372\n",
      "Epoch 41/100\n",
      "240/240 [==============================] - 0s 707us/step - loss: 27.5497\n",
      "Epoch 42/100\n",
      "240/240 [==============================] - 0s 716us/step - loss: 27.9319\n",
      "Epoch 43/100\n",
      "240/240 [==============================] - 0s 714us/step - loss: 27.7693\n",
      "Epoch 44/100\n",
      "240/240 [==============================] - 0s 716us/step - loss: 27.1761\n",
      "Epoch 45/100\n",
      "240/240 [==============================] - 0s 702us/step - loss: 27.3109\n",
      "Epoch 46/100\n",
      "240/240 [==============================] - 0s 704us/step - loss: 27.2995\n",
      "Epoch 47/100\n",
      "240/240 [==============================] - 0s 710us/step - loss: 26.9640\n",
      "Epoch 48/100\n",
      "240/240 [==============================] - 0s 729us/step - loss: 27.2313\n",
      "Epoch 49/100\n",
      "240/240 [==============================] - 0s 724us/step - loss: 27.1352\n",
      "Epoch 50/100\n",
      "240/240 [==============================] - 0s 694us/step - loss: 27.0219\n",
      "Epoch 51/100\n",
      "240/240 [==============================] - 0s 708us/step - loss: 26.7286\n",
      "Epoch 52/100\n",
      "240/240 [==============================] - 0s 769us/step - loss: 26.9677\n",
      "Epoch 53/100\n",
      "240/240 [==============================] - 0s 827us/step - loss: 27.0285\n",
      "Epoch 54/100\n",
      "240/240 [==============================] - 0s 925us/step - loss: 26.5553\n",
      "Epoch 55/100\n",
      "240/240 [==============================] - 0s 757us/step - loss: 26.8652\n",
      "Epoch 56/100\n",
      "240/240 [==============================] - 0s 752us/step - loss: 26.8359\n",
      "Epoch 57/100\n",
      "240/240 [==============================] - 0s 717us/step - loss: 26.9832\n",
      "Epoch 58/100\n",
      "240/240 [==============================] - 0s 784us/step - loss: 27.6934\n",
      "Epoch 59/100\n",
      "240/240 [==============================] - 0s 723us/step - loss: 26.8184\n",
      "Epoch 60/100\n",
      "240/240 [==============================] - 0s 1ms/step - loss: 26.6504\n",
      "Epoch 61/100\n",
      "240/240 [==============================] - 0s 773us/step - loss: 27.0360\n",
      "Epoch 62/100\n",
      "240/240 [==============================] - 0s 761us/step - loss: 27.1363\n",
      "Epoch 63/100\n",
      "240/240 [==============================] - 0s 762us/step - loss: 26.7759\n",
      "Epoch 64/100\n",
      "240/240 [==============================] - 0s 763us/step - loss: 26.6509\n",
      "Epoch 65/100\n",
      "240/240 [==============================] - 0s 754us/step - loss: 26.6006\n",
      "Epoch 66/100\n",
      "240/240 [==============================] - 0s 740us/step - loss: 27.2192\n",
      "Epoch 67/100\n",
      "240/240 [==============================] - 0s 705us/step - loss: 26.7719\n",
      "Epoch 68/100\n",
      "240/240 [==============================] - 0s 852us/step - loss: 26.6931\n",
      "Epoch 69/100\n",
      "240/240 [==============================] - 0s 741us/step - loss: 27.8437\n",
      "Epoch 70/100\n",
      "240/240 [==============================] - 0s 740us/step - loss: 26.6768\n",
      "Epoch 71/100\n",
      "240/240 [==============================] - 0s 717us/step - loss: 27.3075\n",
      "Epoch 72/100\n",
      "240/240 [==============================] - 0s 711us/step - loss: 26.6926\n",
      "Epoch 73/100\n",
      "240/240 [==============================] - 0s 723us/step - loss: 26.7785\n",
      "Epoch 74/100\n",
      "240/240 [==============================] - 0s 704us/step - loss: 26.7230\n",
      "Epoch 75/100\n",
      "240/240 [==============================] - 0s 752us/step - loss: 26.9693\n",
      "Epoch 76/100\n",
      "240/240 [==============================] - 0s 719us/step - loss: 27.1512\n",
      "Epoch 77/100\n",
      "240/240 [==============================] - 0s 717us/step - loss: 26.9930\n",
      "Epoch 78/100\n",
      "240/240 [==============================] - 0s 707us/step - loss: 27.5496\n",
      "Epoch 79/100\n",
      "240/240 [==============================] - 0s 711us/step - loss: 27.3237\n",
      "Epoch 80/100\n",
      "240/240 [==============================] - 0s 725us/step - loss: 26.7671\n",
      "Epoch 81/100\n",
      "240/240 [==============================] - 0s 723us/step - loss: 27.1914\n",
      "Epoch 82/100\n",
      "240/240 [==============================] - 0s 719us/step - loss: 27.0251\n",
      "Epoch 83/100\n",
      "240/240 [==============================] - 0s 718us/step - loss: 27.3501\n",
      "Epoch 84/100\n",
      "240/240 [==============================] - 0s 846us/step - loss: 27.4394\n",
      "Epoch 85/100\n",
      "240/240 [==============================] - 0s 723us/step - loss: 26.6467\n",
      "Epoch 86/100\n",
      "240/240 [==============================] - 0s 733us/step - loss: 26.9039\n",
      "Epoch 87/100\n",
      "240/240 [==============================] - 0s 729us/step - loss: 26.5925\n",
      "Epoch 88/100\n",
      "240/240 [==============================] - 0s 720us/step - loss: 26.7848\n",
      "Epoch 89/100\n",
      "240/240 [==============================] - 0s 915us/step - loss: 26.9366\n",
      "Epoch 90/100\n",
      "240/240 [==============================] - 0s 716us/step - loss: 26.6568\n",
      "Epoch 91/100\n",
      "240/240 [==============================] - 0s 717us/step - loss: 26.9304\n",
      "Epoch 92/100\n",
      "240/240 [==============================] - 0s 728us/step - loss: 27.1003\n",
      "Epoch 93/100\n",
      "240/240 [==============================] - 0s 715us/step - loss: 26.7840\n",
      "Epoch 94/100\n",
      "240/240 [==============================] - 0s 723us/step - loss: 27.1059\n",
      "Epoch 95/100\n",
      "240/240 [==============================] - 0s 738us/step - loss: 26.8317\n",
      "Epoch 96/100\n",
      "240/240 [==============================] - 0s 725us/step - loss: 27.8677\n",
      "Epoch 97/100\n",
      "240/240 [==============================] - 0s 722us/step - loss: 26.8994\n",
      "Epoch 98/100\n",
      "240/240 [==============================] - 0s 732us/step - loss: 26.9638\n",
      "Epoch 99/100\n",
      "240/240 [==============================] - 0s 721us/step - loss: 26.8973\n",
      "Epoch 100/100\n",
      "240/240 [==============================] - 0s 732us/step - loss: 26.6830\n"
     ]
    },
    {
     "data": {
      "text/plain": [
       "<keras.callbacks.History at 0x7f876ce3be50>"
      ]
     },
     "execution_count": 86,
     "metadata": {},
     "output_type": "execute_result"
    }
   ],
   "source": [
    "ann.fit(X_train, y_train, epochs = 100, batch_size=32)"
   ]
  },
  {
   "cell_type": "markdown",
   "id": "dfcf9c33-34a1-493b-be9c-872978c83809",
   "metadata": {},
   "source": [
    "#### Testing on the test set"
   ]
  },
  {
   "cell_type": "code",
   "execution_count": 87,
   "id": "44b06f71-cb00-485f-8d46-a322e7a6c1a7",
   "metadata": {},
   "outputs": [
    {
     "name": "stdout",
     "output_type": "stream",
     "text": [
      "60/60 [==============================] - 0s 618us/step\n"
     ]
    }
   ],
   "source": [
    "pred = ann.predict(X_test)"
   ]
  },
  {
   "cell_type": "code",
   "execution_count": 88,
   "id": "9c8762f7-5860-43df-ac27-b1ab4d95d89d",
   "metadata": {},
   "outputs": [
    {
     "name": "stdout",
     "output_type": "stream",
     "text": [
      "[[431.66 431.23]\n",
      " [462.61 460.01]\n",
      " [466.08 461.14]\n",
      " ...\n",
      " [473.32 473.26]\n",
      " [440.17 438.  ]\n",
      " [459.33 463.28]]\n"
     ]
    }
   ],
   "source": [
    "np.set_printoptions(precision=2)\n",
    "print(np.concatenate((pred.reshape(len(pred),1), y_test.reshape(len(y_test),1)), 1))"
   ]
  },
  {
   "cell_type": "markdown",
   "id": "c6c56ecc-b182-4781-83ff-1b50335dc68c",
   "metadata": {},
   "source": [
    "#### Compare with Multivariate linear regression"
   ]
  },
  {
   "cell_type": "code",
   "execution_count": 89,
   "id": "406d841c-ebe6-4cb6-9aa2-b2831ea814f2",
   "metadata": {},
   "outputs": [],
   "source": [
    "from sklearn.linear_model import LinearRegression\n",
    "lr = LinearRegression()"
   ]
  },
  {
   "cell_type": "code",
   "execution_count": 90,
   "id": "fd6e3b5b-28c2-4701-9c38-73bddc85c205",
   "metadata": {},
   "outputs": [
    {
     "data": {
      "text/plain": [
       "LinearRegression()"
      ]
     },
     "execution_count": 90,
     "metadata": {},
     "output_type": "execute_result"
    }
   ],
   "source": [
    "lr.fit(X_train, y_train)"
   ]
  },
  {
   "cell_type": "code",
   "execution_count": 91,
   "id": "81553231-0893-48b3-b92b-cde67b84ce46",
   "metadata": {},
   "outputs": [],
   "source": [
    "lr_pred = lr.predict(X_test)"
   ]
  },
  {
   "cell_type": "code",
   "execution_count": 92,
   "id": "ee8dd08f-fc2b-454a-8d20-ea71010513e9",
   "metadata": {},
   "outputs": [
    {
     "name": "stdout",
     "output_type": "stream",
     "text": [
      "[[431.43 431.23]\n",
      " [458.56 460.01]\n",
      " [462.75 461.14]\n",
      " ...\n",
      " [469.52 473.26]\n",
      " [442.42 438.  ]\n",
      " [461.88 463.28]]\n"
     ]
    }
   ],
   "source": [
    "np.set_printoptions(precision=2)\n",
    "print(np.concatenate((lr_pred.reshape(len(lr_pred),1), y_test.reshape(len(y_test),1)), 1))"
   ]
  },
  {
   "cell_type": "code",
   "execution_count": 121,
   "id": "3f5e0e7f-7508-4dc2-9590-a16acebadf4a",
   "metadata": {},
   "outputs": [
    {
     "data": {
      "text/plain": [
       "19.336435323009347"
      ]
     },
     "execution_count": 121,
     "metadata": {},
     "output_type": "execute_result"
    }
   ],
   "source": [
    "np.mean(abs(lr_pred-y_test)) # Linear Regression"
   ]
  },
  {
   "cell_type": "code",
   "execution_count": 122,
   "id": "af0e6c20-0d48-4eed-9e27-8296a1347ccb",
   "metadata": {},
   "outputs": [
    {
     "data": {
      "text/plain": [
       "3.960184593399988"
      ]
     },
     "execution_count": 122,
     "metadata": {},
     "output_type": "execute_result"
    }
   ],
   "source": [
    "np.mean(abs(pred-y_test)) # ANN"
   ]
  },
  {
   "cell_type": "markdown",
   "id": "957ae4d0-2248-4ea9-a4c4-219eea3cce8e",
   "metadata": {},
   "source": [
    "***We can see from the mean that the neural network has a LOT less error when compared to a multivariate linear regression for \n",
    "predicted the output***"
   ]
  },
  {
   "cell_type": "code",
   "execution_count": null,
   "id": "5054424a-066c-4d02-83f1-f1ad5332fb90",
   "metadata": {},
   "outputs": [],
   "source": []
  }
 ],
 "metadata": {
  "kernelspec": {
   "display_name": "Python 3",
   "language": "python",
   "name": "python3"
  },
  "language_info": {
   "codemirror_mode": {
    "name": "ipython",
    "version": 3
   },
   "file_extension": ".py",
   "mimetype": "text/x-python",
   "name": "python",
   "nbconvert_exporter": "python",
   "pygments_lexer": "ipython3",
   "version": "3.8.8"
  }
 },
 "nbformat": 4,
 "nbformat_minor": 5
}
