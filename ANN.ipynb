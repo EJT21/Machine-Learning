{
 "cells": [
  {
   "cell_type": "markdown",
   "id": "f9fe91b3-cc8f-4b62-9a58-d8fc87e2d05c",
   "metadata": {},
   "source": [
    "## Artifical Neural Networks"
   ]
  },
  {
   "cell_type": "markdown",
   "id": "119b6849-0786-48b0-9b99-8d029fceb786",
   "metadata": {},
   "source": [
    "#### Importing Libraries"
   ]
  },
  {
   "cell_type": "code",
   "execution_count": 11,
   "id": "fde11660-e3bf-4395-9df8-27aed4c3ad54",
   "metadata": {},
   "outputs": [],
   "source": [
    "import numpy as np\n",
    "import pandas as pd\n",
    "import tensorflow as tf"
   ]
  },
  {
   "cell_type": "markdown",
   "id": "920876af-554d-4e29-b40c-5e0fd6035824",
   "metadata": {},
   "source": [
    "#### Data Preprocessing"
   ]
  },
  {
   "cell_type": "code",
   "execution_count": 12,
   "id": "c4eebc09-edc0-429c-882c-8654a8c3b1f1",
   "metadata": {},
   "outputs": [],
   "source": [
    "dataset = pd.read_csv('Churn_Modelling.csv')\n",
    "X = dataset.iloc[:,3:-1].values\n",
    "y = dataset.iloc[:,-1].values"
   ]
  },
  {
   "cell_type": "markdown",
   "id": "0cf80197-70ec-4213-8a90-750a1d716bf0",
   "metadata": {},
   "source": [
    "***We will eliminate the first two columns because they don't contain any relevant data***"
   ]
  },
  {
   "cell_type": "code",
   "execution_count": 13,
   "id": "0e52ccae-6fe7-415a-8aa5-d579dd10115f",
   "metadata": {},
   "outputs": [
    {
     "name": "stdout",
     "output_type": "stream",
     "text": [
      "[[619 'France' 'Female' ... 1 1 101348.88]\n",
      " [608 'Spain' 'Female' ... 0 1 112542.58]\n",
      " [502 'France' 'Female' ... 1 0 113931.57]\n",
      " ...\n",
      " [709 'France' 'Female' ... 0 1 42085.58]\n",
      " [772 'Germany' 'Male' ... 1 0 92888.52]\n",
      " [792 'France' 'Female' ... 1 0 38190.78]]\n"
     ]
    }
   ],
   "source": [
    "print(X)"
   ]
  },
  {
   "cell_type": "code",
   "execution_count": 14,
   "id": "b413174a-4a16-4ea6-84d7-3c5afd23d63e",
   "metadata": {},
   "outputs": [
    {
     "name": "stdout",
     "output_type": "stream",
     "text": [
      "[1 0 1 ... 1 1 0]\n"
     ]
    }
   ],
   "source": [
    "print(y)"
   ]
  },
  {
   "cell_type": "markdown",
   "id": "1499dd1a-28a2-4920-a998-82d159c3b0b1",
   "metadata": {},
   "source": [
    "#### Splitting the data into train & test"
   ]
  },
  {
   "cell_type": "code",
   "execution_count": 15,
   "id": "f795405f-4571-4f15-8b69-6bf033dbd0f1",
   "metadata": {},
   "outputs": [],
   "source": [
    "from sklearn.model_selection import train_test_split\n",
    "X_train, X_test, y_train, y_test = train_test_split(X, y, test_size = 0.2, random_state = 0)"
   ]
  },
  {
   "cell_type": "markdown",
   "id": "04e896f1-909d-4106-9876-a48e3c6e7a31",
   "metadata": {},
   "source": [
    "#### Encoding the data"
   ]
  },
  {
   "cell_type": "markdown",
   "id": "7c0ab2c8-d47f-467e-8542-243f7656746f",
   "metadata": {},
   "source": [
    "***We will use a label encoder for gender. We are using this because gender is a binary operation***"
   ]
  },
  {
   "cell_type": "code",
   "execution_count": 16,
   "id": "9ade12c9-a136-4d46-a3bb-90650fdb50e8",
   "metadata": {},
   "outputs": [],
   "source": [
    "from sklearn.preprocessing import LabelEncoder"
   ]
  },
  {
   "cell_type": "code",
   "execution_count": 17,
   "id": "1f91d95e-c00e-43bd-b316-241db25da210",
   "metadata": {},
   "outputs": [],
   "source": [
    "le = LabelEncoder()\n",
    "X_train[:, 2] = le.fit_transform(X_train[:, 2])\n",
    "X_test[:, 2] = le.fit_transform(X_test[:, 2])"
   ]
  },
  {
   "cell_type": "code",
   "execution_count": 18,
   "id": "357184d6-7348-4a74-a2af-35be83adf9c8",
   "metadata": {},
   "outputs": [],
   "source": [
    "from sklearn.compose import ColumnTransformer\n",
    "from sklearn.preprocessing import OneHotEncoder\n",
    "ct = ColumnTransformer(transformers=[('encoder', OneHotEncoder(), [1])], remainder='passthrough')\n",
    "X_train = np.array(ct.fit_transform(X_train))\n",
    "X_test = np.array(ct.fit_transform(X_test))"
   ]
  },
  {
   "cell_type": "code",
   "execution_count": 19,
   "id": "b1f45481-ed70-4516-aaa7-02e4dc61611a",
   "metadata": {},
   "outputs": [
    {
     "name": "stdout",
     "output_type": "stream",
     "text": [
      "[[0.0 0.0 1.0 ... 1 0 163830.64]\n",
      " [0.0 1.0 0.0 ... 1 1 57098.0]\n",
      " [1.0 0.0 0.0 ... 1 0 185630.76]\n",
      " ...\n",
      " [1.0 0.0 0.0 ... 1 0 181429.87]\n",
      " [0.0 0.0 1.0 ... 1 1 148750.16]\n",
      " [0.0 1.0 0.0 ... 1 0 118855.26]]\n"
     ]
    }
   ],
   "source": [
    "print(X_train)"
   ]
  },
  {
   "cell_type": "code",
   "execution_count": 20,
   "id": "fae524ed-fc39-44ed-afc6-0c366482238f",
   "metadata": {},
   "outputs": [
    {
     "name": "stdout",
     "output_type": "stream",
     "text": [
      "[[0.0 1.0 0.0 ... 1 1 192852.67]\n",
      " [1.0 0.0 0.0 ... 1 0 128702.1]\n",
      " [0.0 0.0 1.0 ... 1 1 75732.25]\n",
      " ...\n",
      " [0.0 0.0 1.0 ... 1 0 141533.19]\n",
      " [0.0 1.0 0.0 ... 1 1 11276.48]\n",
      " [0.0 1.0 0.0 ... 1 0 192950.6]]\n"
     ]
    }
   ],
   "source": [
    "print(X_test)"
   ]
  },
  {
   "cell_type": "markdown",
   "id": "08e7b7d4-dcc1-4a1b-ab37-1c1a1ca52088",
   "metadata": {},
   "source": [
    "***We want to use OneHotEncoding on the cateogorical variable geography***"
   ]
  },
  {
   "cell_type": "markdown",
   "id": "d4ad6d40-c970-4cff-acbb-c4f72b45eb50",
   "metadata": {},
   "source": [
    "#### Feature Scaling"
   ]
  },
  {
   "cell_type": "code",
   "execution_count": 21,
   "id": "55a103a9-751c-4525-98e3-4eebc8277ac0",
   "metadata": {},
   "outputs": [],
   "source": [
    "from sklearn.preprocessing import StandardScaler"
   ]
  },
  {
   "cell_type": "code",
   "execution_count": 22,
   "id": "42ad8498-cdf0-4328-8f81-fc7b0590c6fa",
   "metadata": {},
   "outputs": [],
   "source": [
    "sc = StandardScaler()\n",
    "X_train = sc.fit_transform(X_train)\n",
    "X_test = sc.transform(X_test)"
   ]
  },
  {
   "cell_type": "markdown",
   "id": "11e3fa71-0738-4081-80ac-9490cb472c8d",
   "metadata": {},
   "source": [
    "## Building the ANN"
   ]
  },
  {
   "cell_type": "code",
   "execution_count": 23,
   "id": "d75dda6a-4eb2-4df9-b8d9-2d5422634323",
   "metadata": {},
   "outputs": [],
   "source": [
    "ann = tf.keras.models.Sequential()"
   ]
  },
  {
   "cell_type": "markdown",
   "id": "cd15eb88-2c78-45f3-bf72-d6a8982357b1",
   "metadata": {},
   "source": [
    "#### First input layer"
   ]
  },
  {
   "cell_type": "code",
   "execution_count": 24,
   "id": "d9c67777-cb21-4323-ad93-38142f3bdf06",
   "metadata": {},
   "outputs": [],
   "source": [
    "ann.add(tf.keras.layers.Dense(units=6, activation='relu'))"
   ]
  },
  {
   "cell_type": "markdown",
   "id": "d4844298-a55c-4f13-a6da-43fb1cd39b2c",
   "metadata": {},
   "source": [
    "#### Second input layer"
   ]
  },
  {
   "cell_type": "code",
   "execution_count": 25,
   "id": "32438973-2f02-404e-a601-bc386baa0182",
   "metadata": {},
   "outputs": [],
   "source": [
    "ann.add(tf.keras.layers.Dense(units=6, activation='relu'))"
   ]
  },
  {
   "cell_type": "markdown",
   "id": "9d6467f9-e113-4ab5-a95e-1eae36cb6bc3",
   "metadata": {},
   "source": [
    "#### Adding the output layer"
   ]
  },
  {
   "cell_type": "code",
   "execution_count": 26,
   "id": "13a67332-a3b9-41f0-8561-4108fad01f7f",
   "metadata": {},
   "outputs": [],
   "source": [
    "ann.add(tf.keras.layers.Dense(units=1, activation='sigmoid'))"
   ]
  },
  {
   "cell_type": "markdown",
   "id": "ff9ee4cd-c087-48de-83fe-176d328808ff",
   "metadata": {},
   "source": [
    "***We made the activation sigmoid so we can get a probability function. We made the last unit once since we are dealing with a binary classification***"
   ]
  },
  {
   "cell_type": "markdown",
   "id": "96f77b9a-ce8c-4ce6-8fc4-648c15fcdace",
   "metadata": {},
   "source": [
    "## Training the ANN"
   ]
  },
  {
   "cell_type": "code",
   "execution_count": 27,
   "id": "c06df490-7dc7-4fcd-99b8-15733e77cdbd",
   "metadata": {},
   "outputs": [],
   "source": [
    "ann.compile(optimizer = 'adam', loss = 'binary_crossentropy', metrics = [\"accuracy\"])"
   ]
  },
  {
   "cell_type": "markdown",
   "id": "14193d26-fa53-4c75-9480-4d6bf9c61d1c",
   "metadata": {},
   "source": [
    "***Best optimizer that can perform stochastic gradient descent. This will update the weights to reduce the loss (error). We will use adam***"
   ]
  },
  {
   "cell_type": "markdown",
   "id": "8aadc724-7e14-4758-be35-d9bb07fca3c9",
   "metadata": {},
   "source": [
    "***For binary classification, we must use binary_crossentropy. If we had 3 or more, we would use categorical_crossentropy\n",
    "We must also chnage the actication from sigmoid to softmax***"
   ]
  },
  {
   "cell_type": "markdown",
   "id": "89c0efd4-0575-4fbe-ae8a-e72e82abbbf0",
   "metadata": {},
   "source": [
    "***For metrics, we will use accuracy***"
   ]
  },
  {
   "cell_type": "code",
   "execution_count": 28,
   "id": "eff4d384-17f3-4925-ae21-199b83ff6733",
   "metadata": {},
   "outputs": [
    {
     "name": "stdout",
     "output_type": "stream",
     "text": [
      "Epoch 1/100\n",
      "250/250 [==============================] - 1s 904us/step - loss: 0.6382 - accuracy: 0.6466\n",
      "Epoch 2/100\n",
      "250/250 [==============================] - 0s 828us/step - loss: 0.4910 - accuracy: 0.7991\n",
      "Epoch 3/100\n",
      "250/250 [==============================] - 0s 804us/step - loss: 0.4520 - accuracy: 0.8073\n",
      "Epoch 4/100\n",
      "250/250 [==============================] - 0s 813us/step - loss: 0.4351 - accuracy: 0.8163\n",
      "Epoch 5/100\n",
      "250/250 [==============================] - 0s 767us/step - loss: 0.4251 - accuracy: 0.8223\n",
      "Epoch 6/100\n",
      "250/250 [==============================] - 0s 783us/step - loss: 0.4185 - accuracy: 0.8234\n",
      "Epoch 7/100\n",
      "250/250 [==============================] - 0s 774us/step - loss: 0.4135 - accuracy: 0.8250\n",
      "Epoch 8/100\n",
      "250/250 [==============================] - 0s 789us/step - loss: 0.4091 - accuracy: 0.8279\n",
      "Epoch 9/100\n",
      "250/250 [==============================] - 0s 828us/step - loss: 0.4058 - accuracy: 0.8303\n",
      "Epoch 10/100\n",
      "250/250 [==============================] - 0s 795us/step - loss: 0.4016 - accuracy: 0.8317\n",
      "Epoch 11/100\n",
      "250/250 [==============================] - 0s 744us/step - loss: 0.3976 - accuracy: 0.8336\n",
      "Epoch 12/100\n",
      "250/250 [==============================] - 0s 764us/step - loss: 0.3923 - accuracy: 0.8341\n",
      "Epoch 13/100\n",
      "250/250 [==============================] - 0s 805us/step - loss: 0.3846 - accuracy: 0.8405\n",
      "Epoch 14/100\n",
      "250/250 [==============================] - 0s 888us/step - loss: 0.3728 - accuracy: 0.8462\n",
      "Epoch 15/100\n",
      "250/250 [==============================] - 0s 760us/step - loss: 0.3600 - accuracy: 0.8543\n",
      "Epoch 16/100\n",
      "250/250 [==============================] - 0s 754us/step - loss: 0.3517 - accuracy: 0.8583\n",
      "Epoch 17/100\n",
      "250/250 [==============================] - 0s 758us/step - loss: 0.3465 - accuracy: 0.8589\n",
      "Epoch 18/100\n",
      "250/250 [==============================] - 0s 822us/step - loss: 0.3440 - accuracy: 0.8600\n",
      "Epoch 19/100\n",
      "250/250 [==============================] - 0s 783us/step - loss: 0.3427 - accuracy: 0.8581\n",
      "Epoch 20/100\n",
      "250/250 [==============================] - 0s 1ms/step - loss: 0.3416 - accuracy: 0.8596\n",
      "Epoch 21/100\n",
      "250/250 [==============================] - 0s 862us/step - loss: 0.3407 - accuracy: 0.8610\n",
      "Epoch 22/100\n",
      "250/250 [==============================] - 0s 768us/step - loss: 0.3398 - accuracy: 0.8600\n",
      "Epoch 23/100\n",
      "250/250 [==============================] - 0s 848us/step - loss: 0.3395 - accuracy: 0.8604\n",
      "Epoch 24/100\n",
      "250/250 [==============================] - 0s 802us/step - loss: 0.3386 - accuracy: 0.8609\n",
      "Epoch 25/100\n",
      "250/250 [==============================] - 0s 795us/step - loss: 0.3379 - accuracy: 0.8611\n",
      "Epoch 26/100\n",
      "250/250 [==============================] - 0s 765us/step - loss: 0.3376 - accuracy: 0.8600\n",
      "Epoch 27/100\n",
      "250/250 [==============================] - 0s 751us/step - loss: 0.3375 - accuracy: 0.8612\n",
      "Epoch 28/100\n",
      "250/250 [==============================] - 0s 745us/step - loss: 0.3371 - accuracy: 0.8610\n",
      "Epoch 29/100\n",
      "250/250 [==============================] - 0s 745us/step - loss: 0.3367 - accuracy: 0.8620\n",
      "Epoch 30/100\n",
      "250/250 [==============================] - 0s 754us/step - loss: 0.3366 - accuracy: 0.8624\n",
      "Epoch 31/100\n",
      "250/250 [==============================] - 0s 771us/step - loss: 0.3362 - accuracy: 0.8627\n",
      "Epoch 32/100\n",
      "250/250 [==============================] - 0s 863us/step - loss: 0.3356 - accuracy: 0.8622\n",
      "Epoch 33/100\n",
      "250/250 [==============================] - 0s 822us/step - loss: 0.3355 - accuracy: 0.8615\n",
      "Epoch 34/100\n",
      "250/250 [==============================] - 0s 801us/step - loss: 0.3352 - accuracy: 0.8626\n",
      "Epoch 35/100\n",
      "250/250 [==============================] - 0s 869us/step - loss: 0.3349 - accuracy: 0.8626\n",
      "Epoch 36/100\n",
      "250/250 [==============================] - 0s 759us/step - loss: 0.3347 - accuracy: 0.8616\n",
      "Epoch 37/100\n",
      "250/250 [==============================] - 0s 744us/step - loss: 0.3348 - accuracy: 0.8636\n",
      "Epoch 38/100\n",
      "250/250 [==============================] - 0s 757us/step - loss: 0.3348 - accuracy: 0.8626\n",
      "Epoch 39/100\n",
      "250/250 [==============================] - 0s 752us/step - loss: 0.3345 - accuracy: 0.8629\n",
      "Epoch 40/100\n",
      "250/250 [==============================] - 0s 769us/step - loss: 0.3341 - accuracy: 0.8622\n",
      "Epoch 41/100\n",
      "250/250 [==============================] - 0s 755us/step - loss: 0.3342 - accuracy: 0.8626\n",
      "Epoch 42/100\n",
      "250/250 [==============================] - 0s 757us/step - loss: 0.3343 - accuracy: 0.8630\n",
      "Epoch 43/100\n",
      "250/250 [==============================] - 0s 787us/step - loss: 0.3336 - accuracy: 0.8640\n",
      "Epoch 44/100\n",
      "250/250 [==============================] - 0s 770us/step - loss: 0.3339 - accuracy: 0.8619\n",
      "Epoch 45/100\n",
      "250/250 [==============================] - 0s 944us/step - loss: 0.3336 - accuracy: 0.8624\n",
      "Epoch 46/100\n",
      "250/250 [==============================] - 0s 743us/step - loss: 0.3334 - accuracy: 0.8616\n",
      "Epoch 47/100\n",
      "250/250 [==============================] - 0s 750us/step - loss: 0.3338 - accuracy: 0.8643\n",
      "Epoch 48/100\n",
      "250/250 [==============================] - 0s 763us/step - loss: 0.3333 - accuracy: 0.8630\n",
      "Epoch 49/100\n",
      "250/250 [==============================] - 0s 748us/step - loss: 0.3335 - accuracy: 0.8634\n",
      "Epoch 50/100\n",
      "250/250 [==============================] - 0s 782us/step - loss: 0.3332 - accuracy: 0.8646\n",
      "Epoch 51/100\n",
      "250/250 [==============================] - 0s 777us/step - loss: 0.3328 - accuracy: 0.8630\n",
      "Epoch 52/100\n",
      "250/250 [==============================] - 0s 760us/step - loss: 0.3338 - accuracy: 0.8636\n",
      "Epoch 53/100\n",
      "250/250 [==============================] - 0s 777us/step - loss: 0.3327 - accuracy: 0.8636\n",
      "Epoch 54/100\n",
      "250/250 [==============================] - 0s 759us/step - loss: 0.3333 - accuracy: 0.8621\n",
      "Epoch 55/100\n",
      "250/250 [==============================] - 0s 752us/step - loss: 0.3326 - accuracy: 0.8637\n",
      "Epoch 56/100\n",
      "250/250 [==============================] - 0s 760us/step - loss: 0.3327 - accuracy: 0.8629\n",
      "Epoch 57/100\n",
      "250/250 [==============================] - 0s 751us/step - loss: 0.3325 - accuracy: 0.8637\n",
      "Epoch 58/100\n",
      "250/250 [==============================] - 0s 753us/step - loss: 0.3322 - accuracy: 0.8631\n",
      "Epoch 59/100\n",
      "250/250 [==============================] - 0s 762us/step - loss: 0.3325 - accuracy: 0.8622\n",
      "Epoch 60/100\n",
      "250/250 [==============================] - 0s 756us/step - loss: 0.3324 - accuracy: 0.8626\n",
      "Epoch 61/100\n",
      "250/250 [==============================] - 0s 753us/step - loss: 0.3322 - accuracy: 0.8630\n",
      "Epoch 62/100\n",
      "250/250 [==============================] - 0s 778us/step - loss: 0.3323 - accuracy: 0.8619\n",
      "Epoch 63/100\n",
      "250/250 [==============================] - 0s 755us/step - loss: 0.3319 - accuracy: 0.8645\n",
      "Epoch 64/100\n",
      "250/250 [==============================] - 0s 767us/step - loss: 0.3321 - accuracy: 0.8630\n",
      "Epoch 65/100\n",
      "250/250 [==============================] - 0s 780us/step - loss: 0.3318 - accuracy: 0.8636\n",
      "Epoch 66/100\n",
      "250/250 [==============================] - 0s 750us/step - loss: 0.3318 - accuracy: 0.8633\n",
      "Epoch 67/100\n",
      "250/250 [==============================] - 0s 766us/step - loss: 0.3316 - accuracy: 0.8635\n",
      "Epoch 68/100\n",
      "250/250 [==============================] - 0s 756us/step - loss: 0.3321 - accuracy: 0.8655\n",
      "Epoch 69/100\n",
      "250/250 [==============================] - 0s 749us/step - loss: 0.3315 - accuracy: 0.8626\n",
      "Epoch 70/100\n",
      "250/250 [==============================] - 0s 764us/step - loss: 0.3319 - accuracy: 0.8637\n",
      "Epoch 71/100\n",
      "250/250 [==============================] - 0s 920us/step - loss: 0.3315 - accuracy: 0.8645\n",
      "Epoch 72/100\n",
      "250/250 [==============================] - 0s 757us/step - loss: 0.3315 - accuracy: 0.8637\n",
      "Epoch 73/100\n",
      "250/250 [==============================] - 0s 770us/step - loss: 0.3313 - accuracy: 0.8639\n",
      "Epoch 74/100\n",
      "250/250 [==============================] - 0s 747us/step - loss: 0.3310 - accuracy: 0.8640\n",
      "Epoch 75/100\n",
      "250/250 [==============================] - 0s 769us/step - loss: 0.3315 - accuracy: 0.8650\n",
      "Epoch 76/100\n",
      "250/250 [==============================] - 0s 780us/step - loss: 0.3314 - accuracy: 0.8644\n",
      "Epoch 77/100\n",
      "250/250 [==============================] - 0s 747us/step - loss: 0.3309 - accuracy: 0.8637\n",
      "Epoch 78/100\n",
      "250/250 [==============================] - 0s 766us/step - loss: 0.3308 - accuracy: 0.8656\n",
      "Epoch 79/100\n",
      "250/250 [==============================] - 0s 746us/step - loss: 0.3310 - accuracy: 0.8643\n",
      "Epoch 80/100\n",
      "250/250 [==============================] - 0s 753us/step - loss: 0.3313 - accuracy: 0.8646\n",
      "Epoch 81/100\n",
      "250/250 [==============================] - 0s 769us/step - loss: 0.3309 - accuracy: 0.8644\n",
      "Epoch 82/100\n",
      "250/250 [==============================] - 0s 776us/step - loss: 0.3308 - accuracy: 0.8655\n",
      "Epoch 83/100\n",
      "250/250 [==============================] - 0s 759us/step - loss: 0.3307 - accuracy: 0.8651\n",
      "Epoch 84/100\n",
      "250/250 [==============================] - 0s 757us/step - loss: 0.3307 - accuracy: 0.8661\n",
      "Epoch 85/100\n",
      "250/250 [==============================] - 0s 752us/step - loss: 0.3308 - accuracy: 0.8646\n",
      "Epoch 86/100\n",
      "250/250 [==============================] - 0s 764us/step - loss: 0.3302 - accuracy: 0.8643\n",
      "Epoch 87/100\n",
      "250/250 [==============================] - 0s 787us/step - loss: 0.3308 - accuracy: 0.8635\n",
      "Epoch 88/100\n",
      "250/250 [==============================] - 0s 765us/step - loss: 0.3304 - accuracy: 0.8655\n",
      "Epoch 89/100\n",
      "250/250 [==============================] - 0s 759us/step - loss: 0.3302 - accuracy: 0.8636\n",
      "Epoch 90/100\n",
      "250/250 [==============================] - 0s 767us/step - loss: 0.3308 - accuracy: 0.8633\n",
      "Epoch 91/100\n",
      "250/250 [==============================] - 0s 758us/step - loss: 0.3304 - accuracy: 0.8633\n",
      "Epoch 92/100\n",
      "250/250 [==============================] - 0s 788us/step - loss: 0.3305 - accuracy: 0.8660\n",
      "Epoch 93/100\n",
      "250/250 [==============================] - 0s 760us/step - loss: 0.3304 - accuracy: 0.8645\n",
      "Epoch 94/100\n",
      "250/250 [==============================] - 0s 762us/step - loss: 0.3298 - accuracy: 0.8645\n",
      "Epoch 95/100\n",
      "250/250 [==============================] - 0s 924us/step - loss: 0.3306 - accuracy: 0.8648\n",
      "Epoch 96/100\n",
      "250/250 [==============================] - 0s 757us/step - loss: 0.3301 - accuracy: 0.8639\n",
      "Epoch 97/100\n",
      "250/250 [==============================] - 0s 763us/step - loss: 0.3303 - accuracy: 0.8645\n",
      "Epoch 98/100\n",
      "250/250 [==============================] - 0s 758us/step - loss: 0.3299 - accuracy: 0.8651\n",
      "Epoch 99/100\n",
      "250/250 [==============================] - 0s 756us/step - loss: 0.3299 - accuracy: 0.8649\n",
      "Epoch 100/100\n",
      "250/250 [==============================] - 0s 766us/step - loss: 0.3305 - accuracy: 0.8643\n"
     ]
    },
    {
     "data": {
      "text/plain": [
       "<keras.callbacks.History at 0x7f88fdb1ba90>"
      ]
     },
     "execution_count": 28,
     "metadata": {},
     "output_type": "execute_result"
    }
   ],
   "source": [
    "ann.fit(X_train, y_train, batch_size = 32, epochs = 100) #32 is a typical value"
   ]
  },
  {
   "cell_type": "markdown",
   "id": "7fff01b5-94ec-49f7-a85f-ba2122e2e92f",
   "metadata": {},
   "source": [
    "#### Lets try one example"
   ]
  },
  {
   "cell_type": "markdown",
   "id": "d16be1a0-30ad-4e5a-9dfa-1f618119227f",
   "metadata": {},
   "source": [
    "***A customer came in with the following details: Geography = France, \n",
    "Credit score = 600, Gender = Male, Age = 40, Tenure = 3 years, Balance = 60000, Number of Products = 2, Has credit card = yes, Active member = yes, estimated salary = 50000, We want to predict whether they will leave or not?***"
   ]
  },
  {
   "cell_type": "code",
   "execution_count": 29,
   "id": "811d2ceb-cdd5-4a4d-8b5f-47748b5890e2",
   "metadata": {},
   "outputs": [
    {
     "name": "stdout",
     "output_type": "stream",
     "text": [
      "1/1 [==============================] - 0s 81ms/step\n",
      "[[0.02865002]]\n"
     ]
    }
   ],
   "source": [
    "print(ann.predict(sc.transform([[1, 0, 0, 600, 1, 40, 3, 60000, 2, 1, 1, 50000]])))"
   ]
  },
  {
   "cell_type": "markdown",
   "id": "0e2163e8-9620-42e0-901e-4109165bf618",
   "metadata": {},
   "source": [
    "***There is a 3% chance that this customer will leave the bank. We will predict that the customer will stay with the bank***"
   ]
  },
  {
   "cell_type": "markdown",
   "id": "257a2942-b00f-4b86-ba4a-a66b37cbe91f",
   "metadata": {},
   "source": [
    "#### Now lets do the test results"
   ]
  },
  {
   "cell_type": "code",
   "execution_count": 30,
   "id": "b5a2f706-b616-4895-bf98-24f21bca491f",
   "metadata": {},
   "outputs": [
    {
     "name": "stdout",
     "output_type": "stream",
     "text": [
      "63/63 [==============================] - 0s 727us/step\n",
      "              precision    recall  f1-score   support\n",
      "\n",
      "           0       0.88      0.95      0.92      1595\n",
      "           1       0.73      0.51      0.60       405\n",
      "\n",
      "    accuracy                           0.86      2000\n",
      "   macro avg       0.81      0.73      0.76      2000\n",
      "weighted avg       0.85      0.86      0.85      2000\n",
      "\n"
     ]
    }
   ],
   "source": [
    "pred = ann.predict(X_test)\n",
    "pred = (pred > 0.5)\n",
    "from sklearn import metrics\n",
    "print(metrics.classification_report(y_test, pred))"
   ]
  },
  {
   "cell_type": "code",
   "execution_count": 31,
   "id": "7d761823-dff5-4a6d-a6f6-ab6d88dac291",
   "metadata": {},
   "outputs": [
    {
     "name": "stdout",
     "output_type": "stream",
     "text": [
      "[[1519   76]\n",
      " [ 199  206]]\n"
     ]
    }
   ],
   "source": [
    "from sklearn.metrics import confusion_matrix\n",
    "cm = confusion_matrix(y_test, pred)\n",
    "print(cm)"
   ]
  },
  {
   "cell_type": "code",
   "execution_count": 32,
   "id": "42e2eabc-04f4-4fdf-97de-af93c8fa5455",
   "metadata": {},
   "outputs": [],
   "source": [
    "from sklearn.linear_model import LogisticRegression\n",
    "from sklearn.neighbors import KNeighborsClassifier\n",
    "from sklearn.naive_bayes import GaussianNB\n",
    "from sklearn.svm import SVC\n",
    "from sklearn.svm import LinearSVC\n",
    "from sklearn.ensemble import RandomForestClassifier\n",
    "from sklearn.tree import DecisionTreeRegressor\n",
    "from sklearn.model_selection import KFold\n",
    "from sklearn import model_selection"
   ]
  },
  {
   "cell_type": "code",
   "execution_count": 33,
   "id": "915d1ce2-a1a6-4ca2-b429-fdee4a9a97a9",
   "metadata": {},
   "outputs": [],
   "source": [
    "models = []\n",
    "models.append(('LR', LogisticRegression()))\n",
    "models.append(('KNN', KNeighborsClassifier()))\n",
    "models.append(('NB', GaussianNB()))\n",
    "models.append(('SVC', SVC()))\n",
    "models.append(('LSVC', LinearSVC()))\n",
    "models.append(('RFC', RandomForestClassifier()))\n",
    "models.append(('DTR', DecisionTreeRegressor()))"
   ]
  },
  {
   "cell_type": "code",
   "execution_count": 34,
   "id": "bde92a80-d32a-4f56-adc7-aaa6da393836",
   "metadata": {},
   "outputs": [
    {
     "name": "stdout",
     "output_type": "stream",
     "text": [
      "LR: 0.807000 (0.011635)\n",
      "KNN: 0.825000 (0.011208)\n",
      "NB: 0.816750 (0.009862)\n",
      "SVC: 0.855000 (0.014208)\n",
      "LSVC: 0.808750 (0.010592)\n",
      "RFC: 0.861000 (0.013332)\n",
      "DTR: 0.784000 (0.015164)\n"
     ]
    }
   ],
   "source": [
    "seed = 7\n",
    "results = []\n",
    "names = []\n",
    "X = X_train\n",
    "Y = y_train\n",
    "import warnings \n",
    "warnings.filterwarnings(\"ignore\")\n",
    "for name, model in models:\n",
    "    kfold = model_selection.KFold( n_splits=10, shuffle=True,random_state=42)\n",
    "    cv_results = model_selection.cross_val_score(model, X, Y, cv=kfold, scoring='accuracy')\n",
    "    results.append(cv_results)\n",
    "    names.append(name)\n",
    "    msg = \"%s: %f (%f)\" % (\n",
    "        name, cv_results.mean(), cv_results.std())\n",
    "    print(msg)"
   ]
  },
  {
   "cell_type": "markdown",
   "id": "31a31abd-51ec-45d1-ae14-64caaaefda37",
   "metadata": {},
   "source": [
    "***ANN seems to have the best accuracy, we will use ANN model for determing future cusotmers churn rate***"
   ]
  },
  {
   "cell_type": "markdown",
   "id": "a5ee3df8-e2a3-47e4-a522-d758337bfb2f",
   "metadata": {},
   "source": [
    "### Lets create a pipeline for the data"
   ]
  },
  {
   "cell_type": "code",
   "execution_count": 42,
   "id": "ade03133-98be-4463-83d9-1cb9ffef4b3f",
   "metadata": {},
   "outputs": [],
   "source": [
    "from sklearn.compose import ColumnTransformer\n",
    "from sklearn.pipeline import Pipeline\n",
    "from sklearn.impute import SimpleImputer\n",
    "from sklearn.preprocessing import StandardScaler, OneHotEncoder\n",
    "from sklearn.preprocessing import OrdinalEncoder"
   ]
  },
  {
   "cell_type": "code",
   "execution_count": 43,
   "id": "c6a56974-64d6-48e5-b28b-e19d360b420d",
   "metadata": {},
   "outputs": [
    {
     "data": {
      "text/html": [
       "<div>\n",
       "<style scoped>\n",
       "    .dataframe tbody tr th:only-of-type {\n",
       "        vertical-align: middle;\n",
       "    }\n",
       "\n",
       "    .dataframe tbody tr th {\n",
       "        vertical-align: top;\n",
       "    }\n",
       "\n",
       "    .dataframe thead th {\n",
       "        text-align: right;\n",
       "    }\n",
       "</style>\n",
       "<table border=\"1\" class=\"dataframe\">\n",
       "  <thead>\n",
       "    <tr style=\"text-align: right;\">\n",
       "      <th></th>\n",
       "      <th>RowNumber</th>\n",
       "      <th>CustomerId</th>\n",
       "      <th>Surname</th>\n",
       "      <th>CreditScore</th>\n",
       "      <th>Geography</th>\n",
       "      <th>Gender</th>\n",
       "      <th>Age</th>\n",
       "      <th>Tenure</th>\n",
       "      <th>Balance</th>\n",
       "      <th>NumOfProducts</th>\n",
       "      <th>HasCrCard</th>\n",
       "      <th>IsActiveMember</th>\n",
       "      <th>EstimatedSalary</th>\n",
       "      <th>Exited</th>\n",
       "    </tr>\n",
       "  </thead>\n",
       "  <tbody>\n",
       "    <tr>\n",
       "      <th>0</th>\n",
       "      <td>1</td>\n",
       "      <td>15634602</td>\n",
       "      <td>Hargrave</td>\n",
       "      <td>619</td>\n",
       "      <td>France</td>\n",
       "      <td>Female</td>\n",
       "      <td>42</td>\n",
       "      <td>2</td>\n",
       "      <td>0.00</td>\n",
       "      <td>1</td>\n",
       "      <td>1</td>\n",
       "      <td>1</td>\n",
       "      <td>101348.88</td>\n",
       "      <td>1</td>\n",
       "    </tr>\n",
       "    <tr>\n",
       "      <th>1</th>\n",
       "      <td>2</td>\n",
       "      <td>15647311</td>\n",
       "      <td>Hill</td>\n",
       "      <td>608</td>\n",
       "      <td>Spain</td>\n",
       "      <td>Female</td>\n",
       "      <td>41</td>\n",
       "      <td>1</td>\n",
       "      <td>83807.86</td>\n",
       "      <td>1</td>\n",
       "      <td>0</td>\n",
       "      <td>1</td>\n",
       "      <td>112542.58</td>\n",
       "      <td>0</td>\n",
       "    </tr>\n",
       "    <tr>\n",
       "      <th>2</th>\n",
       "      <td>3</td>\n",
       "      <td>15619304</td>\n",
       "      <td>Onio</td>\n",
       "      <td>502</td>\n",
       "      <td>France</td>\n",
       "      <td>Female</td>\n",
       "      <td>42</td>\n",
       "      <td>8</td>\n",
       "      <td>159660.80</td>\n",
       "      <td>3</td>\n",
       "      <td>1</td>\n",
       "      <td>0</td>\n",
       "      <td>113931.57</td>\n",
       "      <td>1</td>\n",
       "    </tr>\n",
       "    <tr>\n",
       "      <th>3</th>\n",
       "      <td>4</td>\n",
       "      <td>15701354</td>\n",
       "      <td>Boni</td>\n",
       "      <td>699</td>\n",
       "      <td>France</td>\n",
       "      <td>Female</td>\n",
       "      <td>39</td>\n",
       "      <td>1</td>\n",
       "      <td>0.00</td>\n",
       "      <td>2</td>\n",
       "      <td>0</td>\n",
       "      <td>0</td>\n",
       "      <td>93826.63</td>\n",
       "      <td>0</td>\n",
       "    </tr>\n",
       "    <tr>\n",
       "      <th>4</th>\n",
       "      <td>5</td>\n",
       "      <td>15737888</td>\n",
       "      <td>Mitchell</td>\n",
       "      <td>850</td>\n",
       "      <td>Spain</td>\n",
       "      <td>Female</td>\n",
       "      <td>43</td>\n",
       "      <td>2</td>\n",
       "      <td>125510.82</td>\n",
       "      <td>1</td>\n",
       "      <td>1</td>\n",
       "      <td>1</td>\n",
       "      <td>79084.10</td>\n",
       "      <td>0</td>\n",
       "    </tr>\n",
       "  </tbody>\n",
       "</table>\n",
       "</div>"
      ],
      "text/plain": [
       "   RowNumber  CustomerId   Surname  CreditScore Geography  Gender  Age  \\\n",
       "0          1    15634602  Hargrave          619    France  Female   42   \n",
       "1          2    15647311      Hill          608     Spain  Female   41   \n",
       "2          3    15619304      Onio          502    France  Female   42   \n",
       "3          4    15701354      Boni          699    France  Female   39   \n",
       "4          5    15737888  Mitchell          850     Spain  Female   43   \n",
       "\n",
       "   Tenure    Balance  NumOfProducts  HasCrCard  IsActiveMember  \\\n",
       "0       2       0.00              1          1               1   \n",
       "1       1   83807.86              1          0               1   \n",
       "2       8  159660.80              3          1               0   \n",
       "3       1       0.00              2          0               0   \n",
       "4       2  125510.82              1          1               1   \n",
       "\n",
       "   EstimatedSalary  Exited  \n",
       "0        101348.88       1  \n",
       "1        112542.58       0  \n",
       "2        113931.57       1  \n",
       "3         93826.63       0  \n",
       "4         79084.10       0  "
      ]
     },
     "execution_count": 43,
     "metadata": {},
     "output_type": "execute_result"
    }
   ],
   "source": [
    "dataset.head()"
   ]
  },
  {
   "cell_type": "code",
   "execution_count": 48,
   "id": "30ec27dd-b670-4469-9e45-01be8b457d21",
   "metadata": {},
   "outputs": [],
   "source": [
    "X = dataset.iloc[:,3:-1]\n",
    "y = dataset.iloc[:,-1]"
   ]
  },
  {
   "cell_type": "code",
   "execution_count": 49,
   "id": "ee79c89f-58b4-46de-b3a4-985ff7b53502",
   "metadata": {},
   "outputs": [],
   "source": [
    "from sklearn.model_selection import train_test_split\n",
    "X_train, X_test, y_train, y_test = train_test_split(X, y, test_size = 0.2, random_state = 0)"
   ]
  },
  {
   "cell_type": "code",
   "execution_count": 50,
   "id": "f7d97646-186f-4e46-8d9d-b60b37ea36e4",
   "metadata": {},
   "outputs": [],
   "source": [
    "myModel = clf.fit(X_train, y_train)"
   ]
  },
  {
   "cell_type": "code",
   "execution_count": 51,
   "id": "2546addc-5f18-4399-a2a4-451b84dc11f4",
   "metadata": {},
   "outputs": [
    {
     "data": {
      "text/plain": [
       "Pipeline(steps=[('preprocessor',\n",
       "                 ColumnTransformer(transformers=[('num',\n",
       "                                                  Pipeline(steps=[('imputer',\n",
       "                                                                   SimpleImputer(strategy='median')),\n",
       "                                                                  ('encoder',\n",
       "                                                                   OrdinalEncoder(handle_unknown='ignore')),\n",
       "                                                                  ('scaler',\n",
       "                                                                   StandardScaler())]),\n",
       "                                                  ['CreditScore', 'Age',\n",
       "                                                   'Balance',\n",
       "                                                   'EstimatedSalary']),\n",
       "                                                 ('cat',\n",
       "                                                  Pipeline(steps=[('imputer',\n",
       "                                                                   SimpleImputer(strategy='most_frequent')),\n",
       "                                                                  ('encoder',\n",
       "                                                                   OrdinalEncoder(handle_unknown='ignore')),\n",
       "                                                                  ('scaler',\n",
       "                                                                   StandardScaler())]),\n",
       "                                                  ['Geography', 'Gender',\n",
       "                                                   'Tenure', 'NumOfProducts',\n",
       "                                                   'HasCrCard',\n",
       "                                                   'IsActiveMember'])])),\n",
       "                ('classifier', SVC())])"
      ]
     },
     "execution_count": 51,
     "metadata": {},
     "output_type": "execute_result"
    }
   ],
   "source": [
    "myModel"
   ]
  },
  {
   "cell_type": "code",
   "execution_count": 52,
   "id": "41ef167e-394d-4e43-ab10-d8f20d54b536",
   "metadata": {},
   "outputs": [],
   "source": [
    "pred = myModel.predict(X_test)"
   ]
  },
  {
   "cell_type": "code",
   "execution_count": 55,
   "id": "7fa3fd9e-d60b-4fc2-9413-5083f737d67a",
   "metadata": {},
   "outputs": [
    {
     "name": "stdout",
     "output_type": "stream",
     "text": [
      "model score: 0.866\n"
     ]
    }
   ],
   "source": [
    "print(\"model score: %.3f\" % clf.score(X_test, y_test))"
   ]
  }
 ],
 "metadata": {
  "kernelspec": {
   "display_name": "Python 3",
   "language": "python",
   "name": "python3"
  },
  "language_info": {
   "codemirror_mode": {
    "name": "ipython",
    "version": 3
   },
   "file_extension": ".py",
   "mimetype": "text/x-python",
   "name": "python",
   "nbconvert_exporter": "python",
   "pygments_lexer": "ipython3",
   "version": "3.8.8"
  }
 },
 "nbformat": 4,
 "nbformat_minor": 5
}
